{
 "cells": [
  {
   "cell_type": "markdown",
   "id": "e257a3d5",
   "metadata": {},
   "source": [
    "# TA Evaluation"
   ]
  },
  {
   "cell_type": "code",
   "execution_count": 1,
   "id": "12e27be1",
   "metadata": {},
   "outputs": [],
   "source": [
    "import numpy as np\n",
    "import pandas as pd\n",
    "\n",
    "import warnings\n",
    "warnings.simplefilter('ignore')\n",
    "\n",
    "import seaborn as sns"
   ]
  },
  {
   "cell_type": "markdown",
   "id": "72865e32",
   "metadata": {},
   "source": [
    "Utilizarea si a altor clasificatori"
   ]
  },
  {
   "cell_type": "markdown",
   "id": "ecbca41b",
   "metadata": {},
   "source": [
    "\n",
    " Attribute Information:\n",
    "  \n",
    "   1. Whether of not the TA is a native English speaker (binary)\n",
    "      1=English speaker, 2=non-English speaker\n",
    "   2. Course instructor (categorical, 25 categories)\n",
    "   3. Course (categorical, 26 categories)\n",
    "   4. Summer or regular semester (binary) 1=Summer, 2=Regular\n",
    "   5. Class size (numerical)\n",
    "   6. Class attribute (categorical) 1=Low, 2=Medium, 3=High\n",
    "\n",
    "8. Missing Attribute Values: None\n",
    "\n",
    "https://archive.ics.uci.edu/ml/datasets/teaching+assistant+evaluation\n",
    "\n",
    "https://archive.ics.uci.edu/dataset/100/teaching+assistant+evaluation\n"
   ]
  },
  {
   "cell_type": "code",
   "execution_count": 3,
   "id": "15c43cdc",
   "metadata": {},
   "outputs": [],
   "source": [
    "#url = 'https://archive.ics.uci.edu/ml/machine-learning-databases/tae/tae.data'\n",
    "\n",
    "from zipfile import ZipFile\n",
    "import requests, io\n",
    "\n",
    "url = \"https://archive.ics.uci.edu/static/public/100/teaching+assistant+evaluation.zip\"\n",
    "r = requests.get(url, stream = True)\n",
    "zf = ZipFile(io.BytesIO(r.content))\n",
    "zf.extractall()\n"
   ]
  },
  {
   "cell_type": "code",
   "execution_count": 4,
   "id": "6dc3e960",
   "metadata": {},
   "outputs": [],
   "source": [
    "df = pd.read_csv(\"tae.data\", header =  None)"
   ]
  },
  {
   "cell_type": "code",
   "execution_count": 5,
   "id": "767e80f9",
   "metadata": {},
   "outputs": [],
   "source": [
    "df.columns = ['native English', 'Course instructor', 'Course', 'Summer semester', 'Class size', 'Class']"
   ]
  },
  {
   "cell_type": "code",
   "execution_count": 6,
   "id": "4a0b75b5",
   "metadata": {},
   "outputs": [
    {
     "data": {
      "text/html": [
       "<div>\n",
       "<style scoped>\n",
       "    .dataframe tbody tr th:only-of-type {\n",
       "        vertical-align: middle;\n",
       "    }\n",
       "\n",
       "    .dataframe tbody tr th {\n",
       "        vertical-align: top;\n",
       "    }\n",
       "\n",
       "    .dataframe thead th {\n",
       "        text-align: right;\n",
       "    }\n",
       "</style>\n",
       "<table border=\"1\" class=\"dataframe\">\n",
       "  <thead>\n",
       "    <tr style=\"text-align: right;\">\n",
       "      <th></th>\n",
       "      <th>native English</th>\n",
       "      <th>Course instructor</th>\n",
       "      <th>Course</th>\n",
       "      <th>Summer semester</th>\n",
       "      <th>Class size</th>\n",
       "      <th>Class</th>\n",
       "    </tr>\n",
       "  </thead>\n",
       "  <tbody>\n",
       "    <tr>\n",
       "      <th>0</th>\n",
       "      <td>1</td>\n",
       "      <td>23</td>\n",
       "      <td>3</td>\n",
       "      <td>1</td>\n",
       "      <td>19</td>\n",
       "      <td>3</td>\n",
       "    </tr>\n",
       "    <tr>\n",
       "      <th>1</th>\n",
       "      <td>2</td>\n",
       "      <td>15</td>\n",
       "      <td>3</td>\n",
       "      <td>1</td>\n",
       "      <td>17</td>\n",
       "      <td>3</td>\n",
       "    </tr>\n",
       "    <tr>\n",
       "      <th>2</th>\n",
       "      <td>1</td>\n",
       "      <td>23</td>\n",
       "      <td>3</td>\n",
       "      <td>2</td>\n",
       "      <td>49</td>\n",
       "      <td>3</td>\n",
       "    </tr>\n",
       "    <tr>\n",
       "      <th>3</th>\n",
       "      <td>1</td>\n",
       "      <td>5</td>\n",
       "      <td>2</td>\n",
       "      <td>2</td>\n",
       "      <td>33</td>\n",
       "      <td>3</td>\n",
       "    </tr>\n",
       "    <tr>\n",
       "      <th>4</th>\n",
       "      <td>2</td>\n",
       "      <td>7</td>\n",
       "      <td>11</td>\n",
       "      <td>2</td>\n",
       "      <td>55</td>\n",
       "      <td>3</td>\n",
       "    </tr>\n",
       "    <tr>\n",
       "      <th>...</th>\n",
       "      <td>...</td>\n",
       "      <td>...</td>\n",
       "      <td>...</td>\n",
       "      <td>...</td>\n",
       "      <td>...</td>\n",
       "      <td>...</td>\n",
       "    </tr>\n",
       "    <tr>\n",
       "      <th>146</th>\n",
       "      <td>2</td>\n",
       "      <td>3</td>\n",
       "      <td>2</td>\n",
       "      <td>2</td>\n",
       "      <td>26</td>\n",
       "      <td>1</td>\n",
       "    </tr>\n",
       "    <tr>\n",
       "      <th>147</th>\n",
       "      <td>2</td>\n",
       "      <td>10</td>\n",
       "      <td>3</td>\n",
       "      <td>2</td>\n",
       "      <td>12</td>\n",
       "      <td>1</td>\n",
       "    </tr>\n",
       "    <tr>\n",
       "      <th>148</th>\n",
       "      <td>1</td>\n",
       "      <td>18</td>\n",
       "      <td>7</td>\n",
       "      <td>2</td>\n",
       "      <td>48</td>\n",
       "      <td>1</td>\n",
       "    </tr>\n",
       "    <tr>\n",
       "      <th>149</th>\n",
       "      <td>2</td>\n",
       "      <td>22</td>\n",
       "      <td>1</td>\n",
       "      <td>2</td>\n",
       "      <td>51</td>\n",
       "      <td>1</td>\n",
       "    </tr>\n",
       "    <tr>\n",
       "      <th>150</th>\n",
       "      <td>2</td>\n",
       "      <td>2</td>\n",
       "      <td>10</td>\n",
       "      <td>2</td>\n",
       "      <td>27</td>\n",
       "      <td>1</td>\n",
       "    </tr>\n",
       "  </tbody>\n",
       "</table>\n",
       "<p>151 rows × 6 columns</p>\n",
       "</div>"
      ],
      "text/plain": [
       "     native English  Course instructor  Course  Summer semester  Class size  \\\n",
       "0                 1                 23       3                1          19   \n",
       "1                 2                 15       3                1          17   \n",
       "2                 1                 23       3                2          49   \n",
       "3                 1                  5       2                2          33   \n",
       "4                 2                  7      11                2          55   \n",
       "..              ...                ...     ...              ...         ...   \n",
       "146               2                  3       2                2          26   \n",
       "147               2                 10       3                2          12   \n",
       "148               1                 18       7                2          48   \n",
       "149               2                 22       1                2          51   \n",
       "150               2                  2      10                2          27   \n",
       "\n",
       "     Class  \n",
       "0        3  \n",
       "1        3  \n",
       "2        3  \n",
       "3        3  \n",
       "4        3  \n",
       "..     ...  \n",
       "146      1  \n",
       "147      1  \n",
       "148      1  \n",
       "149      1  \n",
       "150      1  \n",
       "\n",
       "[151 rows x 6 columns]"
      ]
     },
     "execution_count": 6,
     "metadata": {},
     "output_type": "execute_result"
    }
   ],
   "source": [
    "df"
   ]
  },
  {
   "cell_type": "code",
   "execution_count": 7,
   "id": "48b370b8",
   "metadata": {},
   "outputs": [
    {
     "name": "stdout",
     "output_type": "stream",
     "text": [
      "<class 'pandas.core.frame.DataFrame'>\n",
      "RangeIndex: 151 entries, 0 to 150\n",
      "Data columns (total 6 columns):\n",
      " #   Column             Non-Null Count  Dtype\n",
      "---  ------             --------------  -----\n",
      " 0   native English     151 non-null    int64\n",
      " 1   Course instructor  151 non-null    int64\n",
      " 2   Course             151 non-null    int64\n",
      " 3   Summer semester    151 non-null    int64\n",
      " 4   Class size         151 non-null    int64\n",
      " 5   Class              151 non-null    int64\n",
      "dtypes: int64(6)\n",
      "memory usage: 7.2 KB\n"
     ]
    }
   ],
   "source": [
    "df.info()"
   ]
  },
  {
   "cell_type": "code",
   "execution_count": 8,
   "id": "7f814c90",
   "metadata": {},
   "outputs": [
    {
     "data": {
      "text/plain": [
       "native English       0\n",
       "Course instructor    0\n",
       "Course               0\n",
       "Summer semester      0\n",
       "Class size           0\n",
       "Class                0\n",
       "dtype: int64"
      ]
     },
     "execution_count": 8,
     "metadata": {},
     "output_type": "execute_result"
    }
   ],
   "source": [
    "df.isnull().sum()"
   ]
  },
  {
   "cell_type": "code",
   "execution_count": 20,
   "id": "a91e0a5d",
   "metadata": {},
   "outputs": [],
   "source": [
    "from sklearn.model_selection import train_test_split\n",
    "from sklearn.naive_bayes import CategoricalNB\n",
    "from sklearn.naive_bayes import GaussianNB\n",
    "from sklearn.naive_bayes import MultinomialNB\n",
    "from sklearn.preprocessing import OrdinalEncoder\n",
    "from sklearn.tree import DecisionTreeClassifier, plot_tree\n",
    "\n",
    "import matplotlib.pyplot as plt\n",
    "\n",
    "# Import datasets, classifiers and performance metrics\n",
    "from sklearn import datasets, svm, metrics"
   ]
  },
  {
   "cell_type": "code",
   "execution_count": 9,
   "id": "32d5631f",
   "metadata": {},
   "outputs": [
    {
     "data": {
      "text/html": [
       "<div>\n",
       "<style scoped>\n",
       "    .dataframe tbody tr th:only-of-type {\n",
       "        vertical-align: middle;\n",
       "    }\n",
       "\n",
       "    .dataframe tbody tr th {\n",
       "        vertical-align: top;\n",
       "    }\n",
       "\n",
       "    .dataframe thead th {\n",
       "        text-align: right;\n",
       "    }\n",
       "</style>\n",
       "<table border=\"1\" class=\"dataframe\">\n",
       "  <thead>\n",
       "    <tr style=\"text-align: right;\">\n",
       "      <th></th>\n",
       "      <th>native English</th>\n",
       "      <th>Course instructor</th>\n",
       "      <th>Course</th>\n",
       "      <th>Summer semester</th>\n",
       "      <th>Class size</th>\n",
       "      <th>Class</th>\n",
       "    </tr>\n",
       "  </thead>\n",
       "  <tbody>\n",
       "    <tr>\n",
       "      <th>native English</th>\n",
       "      <td>1.000000</td>\n",
       "      <td>-0.250510</td>\n",
       "      <td>0.134660</td>\n",
       "      <td>0.214417</td>\n",
       "      <td>-0.151547</td>\n",
       "      <td>-0.255466</td>\n",
       "    </tr>\n",
       "    <tr>\n",
       "      <th>Course instructor</th>\n",
       "      <td>-0.250510</td>\n",
       "      <td>1.000000</td>\n",
       "      <td>-0.236010</td>\n",
       "      <td>-0.168573</td>\n",
       "      <td>-0.035765</td>\n",
       "      <td>0.075095</td>\n",
       "    </tr>\n",
       "    <tr>\n",
       "      <th>Course</th>\n",
       "      <td>0.134660</td>\n",
       "      <td>-0.236010</td>\n",
       "      <td>1.000000</td>\n",
       "      <td>0.224927</td>\n",
       "      <td>-0.033485</td>\n",
       "      <td>0.143103</td>\n",
       "    </tr>\n",
       "    <tr>\n",
       "      <th>Summer semester</th>\n",
       "      <td>0.214417</td>\n",
       "      <td>-0.168573</td>\n",
       "      <td>0.224927</td>\n",
       "      <td>1.000000</td>\n",
       "      <td>0.269554</td>\n",
       "      <td>-0.282742</td>\n",
       "    </tr>\n",
       "    <tr>\n",
       "      <th>Class size</th>\n",
       "      <td>-0.151547</td>\n",
       "      <td>-0.035765</td>\n",
       "      <td>-0.033485</td>\n",
       "      <td>0.269554</td>\n",
       "      <td>1.000000</td>\n",
       "      <td>-0.035676</td>\n",
       "    </tr>\n",
       "    <tr>\n",
       "      <th>Class</th>\n",
       "      <td>-0.255466</td>\n",
       "      <td>0.075095</td>\n",
       "      <td>0.143103</td>\n",
       "      <td>-0.282742</td>\n",
       "      <td>-0.035676</td>\n",
       "      <td>1.000000</td>\n",
       "    </tr>\n",
       "  </tbody>\n",
       "</table>\n",
       "</div>"
      ],
      "text/plain": [
       "                   native English  Course instructor    Course  \\\n",
       "native English           1.000000          -0.250510  0.134660   \n",
       "Course instructor       -0.250510           1.000000 -0.236010   \n",
       "Course                   0.134660          -0.236010  1.000000   \n",
       "Summer semester          0.214417          -0.168573  0.224927   \n",
       "Class size              -0.151547          -0.035765 -0.033485   \n",
       "Class                   -0.255466           0.075095  0.143103   \n",
       "\n",
       "                   Summer semester  Class size     Class  \n",
       "native English            0.214417   -0.151547 -0.255466  \n",
       "Course instructor        -0.168573   -0.035765  0.075095  \n",
       "Course                    0.224927   -0.033485  0.143103  \n",
       "Summer semester           1.000000    0.269554 -0.282742  \n",
       "Class size                0.269554    1.000000 -0.035676  \n",
       "Class                    -0.282742   -0.035676  1.000000  "
      ]
     },
     "execution_count": 9,
     "metadata": {},
     "output_type": "execute_result"
    }
   ],
   "source": [
    "df.corr()"
   ]
  },
  {
   "cell_type": "code",
   "execution_count": 49,
   "id": "b174b8f0",
   "metadata": {},
   "outputs": [
    {
     "data": {
      "text/plain": [
       "<Axes: >"
      ]
     },
     "execution_count": 49,
     "metadata": {},
     "output_type": "execute_result"
    },
    {
     "data": {
      "image/png": "[encoded data removed]",
      "text/plain": [
       "<Figure size 640x480 with 2 Axes>"
      ]
     },
     "metadata": {},
     "output_type": "display_data"
    }
   ],
   "source": [
    "sns.heatmap(df.corr())"
   ]
  },
  {
   "cell_type": "code",
   "execution_count": 12,
   "id": "e57b6838",
   "metadata": {},
   "outputs": [
    {
     "data": {
      "text/plain": [
       "<seaborn.axisgrid.PairGrid at 0x1159e0e4bd0>"
      ]
     },
     "execution_count": 12,
     "metadata": {},
     "output_type": "execute_result"
    },
    {
     "data": {
      "image/png": "[encoded data removed]",
      "text/plain": [
       "<Figure size 1500x1500 with 42 Axes>"
      ]
     },
     "metadata": {},
     "output_type": "display_data"
    }
   ],
   "source": [
    "sns.pairplot(df)"
   ]
  },
  {
   "cell_type": "code",
   "execution_count": 14,
   "id": "e43b381b",
   "metadata": {},
   "outputs": [
    {
     "data": {
      "text/plain": [
       "array([ 1,  2,  3,  4,  5,  6,  7,  8,  9, 10, 11, 12, 13, 14, 15, 16, 17,\n",
       "       18, 19, 20, 21, 22, 23, 24, 25], dtype=int64)"
      ]
     },
     "execution_count": 14,
     "metadata": {},
     "output_type": "execute_result"
    }
   ],
   "source": [
    "a = df['Course instructor'].unique()\n",
    "#print(a)\n",
    "a.sort()\n",
    "a"
   ]
  },
  {
   "cell_type": "code",
   "execution_count": 15,
   "id": "a36d0070",
   "metadata": {},
   "outputs": [
    {
     "data": {
      "text/html": [
       "<div>\n",
       "<style scoped>\n",
       "    .dataframe tbody tr th:only-of-type {\n",
       "        vertical-align: middle;\n",
       "    }\n",
       "\n",
       "    .dataframe tbody tr th {\n",
       "        vertical-align: top;\n",
       "    }\n",
       "\n",
       "    .dataframe thead th {\n",
       "        text-align: right;\n",
       "    }\n",
       "</style>\n",
       "<table border=\"1\" class=\"dataframe\">\n",
       "  <thead>\n",
       "    <tr style=\"text-align: right;\">\n",
       "      <th></th>\n",
       "      <th>native English</th>\n",
       "      <th>Course instructor</th>\n",
       "      <th>Course</th>\n",
       "      <th>Summer semester</th>\n",
       "      <th>Class size</th>\n",
       "      <th>Class</th>\n",
       "    </tr>\n",
       "  </thead>\n",
       "  <tbody>\n",
       "    <tr>\n",
       "      <th>count</th>\n",
       "      <td>151.000000</td>\n",
       "      <td>151.000000</td>\n",
       "      <td>151.000000</td>\n",
       "      <td>151.000000</td>\n",
       "      <td>151.000000</td>\n",
       "      <td>151.000000</td>\n",
       "    </tr>\n",
       "    <tr>\n",
       "      <th>mean</th>\n",
       "      <td>1.807947</td>\n",
       "      <td>13.642384</td>\n",
       "      <td>8.105960</td>\n",
       "      <td>1.847682</td>\n",
       "      <td>27.867550</td>\n",
       "      <td>2.019868</td>\n",
       "    </tr>\n",
       "    <tr>\n",
       "      <th>std</th>\n",
       "      <td>0.395225</td>\n",
       "      <td>6.825779</td>\n",
       "      <td>7.023914</td>\n",
       "      <td>0.360525</td>\n",
       "      <td>12.893758</td>\n",
       "      <td>0.820327</td>\n",
       "    </tr>\n",
       "    <tr>\n",
       "      <th>min</th>\n",
       "      <td>1.000000</td>\n",
       "      <td>1.000000</td>\n",
       "      <td>1.000000</td>\n",
       "      <td>1.000000</td>\n",
       "      <td>3.000000</td>\n",
       "      <td>1.000000</td>\n",
       "    </tr>\n",
       "    <tr>\n",
       "      <th>25%</th>\n",
       "      <td>2.000000</td>\n",
       "      <td>8.000000</td>\n",
       "      <td>3.000000</td>\n",
       "      <td>2.000000</td>\n",
       "      <td>19.000000</td>\n",
       "      <td>1.000000</td>\n",
       "    </tr>\n",
       "    <tr>\n",
       "      <th>50%</th>\n",
       "      <td>2.000000</td>\n",
       "      <td>13.000000</td>\n",
       "      <td>4.000000</td>\n",
       "      <td>2.000000</td>\n",
       "      <td>27.000000</td>\n",
       "      <td>2.000000</td>\n",
       "    </tr>\n",
       "    <tr>\n",
       "      <th>75%</th>\n",
       "      <td>2.000000</td>\n",
       "      <td>20.000000</td>\n",
       "      <td>15.000000</td>\n",
       "      <td>2.000000</td>\n",
       "      <td>37.000000</td>\n",
       "      <td>3.000000</td>\n",
       "    </tr>\n",
       "    <tr>\n",
       "      <th>max</th>\n",
       "      <td>2.000000</td>\n",
       "      <td>25.000000</td>\n",
       "      <td>26.000000</td>\n",
       "      <td>2.000000</td>\n",
       "      <td>66.000000</td>\n",
       "      <td>3.000000</td>\n",
       "    </tr>\n",
       "  </tbody>\n",
       "</table>\n",
       "</div>"
      ],
      "text/plain": [
       "       native English  Course instructor      Course  Summer semester  \\\n",
       "count      151.000000         151.000000  151.000000       151.000000   \n",
       "mean         1.807947          13.642384    8.105960         1.847682   \n",
       "std          0.395225           6.825779    7.023914         0.360525   \n",
       "min          1.000000           1.000000    1.000000         1.000000   \n",
       "25%          2.000000           8.000000    3.000000         2.000000   \n",
       "50%          2.000000          13.000000    4.000000         2.000000   \n",
       "75%          2.000000          20.000000   15.000000         2.000000   \n",
       "max          2.000000          25.000000   26.000000         2.000000   \n",
       "\n",
       "       Class size       Class  \n",
       "count  151.000000  151.000000  \n",
       "mean    27.867550    2.019868  \n",
       "std     12.893758    0.820327  \n",
       "min      3.000000    1.000000  \n",
       "25%     19.000000    1.000000  \n",
       "50%     27.000000    2.000000  \n",
       "75%     37.000000    3.000000  \n",
       "max     66.000000    3.000000  "
      ]
     },
     "execution_count": 15,
     "metadata": {},
     "output_type": "execute_result"
    }
   ],
   "source": [
    "df.describe()"
   ]
  },
  {
   "cell_type": "code",
   "execution_count": 16,
   "id": "78bd1fdc",
   "metadata": {},
   "outputs": [
    {
     "data": {
      "text/plain": [
       "Course instructor  Class\n",
       "1                  2         3\n",
       "                   3         1\n",
       "2                  1         2\n",
       "                   2         2\n",
       "3                  1         2\n",
       "4                  1         2\n",
       "5                  1         4\n",
       "                   3         2\n",
       "6                  2         6\n",
       "                   3         2\n",
       "7                  2         6\n",
       "                   3         3\n",
       "                   1         2\n",
       "8                  1         2\n",
       "                   2         2\n",
       "                   3         1\n",
       "9                  3         5\n",
       "                   2         3\n",
       "10                 3         5\n",
       "                   1         3\n",
       "11                 1         2\n",
       "                   2         1\n",
       "12                 2         1\n",
       "                   1         1\n",
       "13                 3         6\n",
       "                   1         5\n",
       "                   2         3\n",
       "14                 2         3\n",
       "                   1         3\n",
       "                   3         2\n",
       "15                 3         4\n",
       "                   2         2\n",
       "                   1         2\n",
       "16                 1         3\n",
       "                   3         1\n",
       "17                 3         2\n",
       "                   2         1\n",
       "                   1         1\n",
       "18                 3         4\n",
       "                   1         3\n",
       "                   2         1\n",
       "19                 1         1\n",
       "20                 2         2\n",
       "                   1         2\n",
       "                   3         1\n",
       "21                 1         2\n",
       "22                 2         6\n",
       "                   1         3\n",
       "                   3         3\n",
       "23                 3        10\n",
       "                   1         4\n",
       "                   2         3\n",
       "24                 2         1\n",
       "25                 2         4\n",
       "Name: count, dtype: int64"
      ]
     },
     "execution_count": 16,
     "metadata": {},
     "output_type": "execute_result"
    }
   ],
   "source": [
    "df.groupby('Course instructor')['Class'].value_counts()"
   ]
  },
  {
   "cell_type": "code",
   "execution_count": 17,
   "id": "2f2b3d28",
   "metadata": {},
   "outputs": [
    {
     "data": {
      "text/plain": [
       "Course instructor\n",
       "1      4\n",
       "2      4\n",
       "3      2\n",
       "4      2\n",
       "5      6\n",
       "6      8\n",
       "7     11\n",
       "8      5\n",
       "9      8\n",
       "10     8\n",
       "11     3\n",
       "12     2\n",
       "13    14\n",
       "14     8\n",
       "15     8\n",
       "16     4\n",
       "17     4\n",
       "18     8\n",
       "19     1\n",
       "20     5\n",
       "21     2\n",
       "22    12\n",
       "23    17\n",
       "24     1\n",
       "25     4\n",
       "Name: Class, dtype: int64"
      ]
     },
     "execution_count": 17,
     "metadata": {},
     "output_type": "execute_result"
    }
   ],
   "source": [
    "\n",
    "df.groupby('Course instructor')['Class'].count()\n",
    "\n"
   ]
  },
  {
   "cell_type": "code",
   "execution_count": 18,
   "id": "8de9d1f5",
   "metadata": {},
   "outputs": [
    {
     "data": {
      "text/plain": [
       "Course instructor\n",
       "1     2.250000\n",
       "2     1.500000\n",
       "3     1.000000\n",
       "4     1.000000\n",
       "5     1.666667\n",
       "6     2.250000\n",
       "7     2.090909\n",
       "8     1.800000\n",
       "9     2.625000\n",
       "10    2.250000\n",
       "11    1.333333\n",
       "12    1.500000\n",
       "13    2.071429\n",
       "14    1.875000\n",
       "15    2.250000\n",
       "16    1.500000\n",
       "17    2.250000\n",
       "18    2.125000\n",
       "19    1.000000\n",
       "20    1.800000\n",
       "21    1.000000\n",
       "22    2.000000\n",
       "23    2.352941\n",
       "24    2.000000\n",
       "25    2.000000\n",
       "Name: Class, dtype: float64"
      ]
     },
     "execution_count": 18,
     "metadata": {},
     "output_type": "execute_result"
    }
   ],
   "source": [
    "df.groupby('Course instructor')['Class'].mean()"
   ]
  },
  {
   "cell_type": "code",
   "execution_count": 21,
   "id": "c1d6e2fb",
   "metadata": {},
   "outputs": [
    {
     "data": {
      "text/plain": [
       "[<matplotlib.lines.Line2D at 0x115a2038210>]"
      ]
     },
     "execution_count": 21,
     "metadata": {},
     "output_type": "execute_result"
    },
    {
     "data": {
      "image/png": "[encoded data removed]",
      "text/plain": [
       "<Figure size 640x480 with 1 Axes>"
      ]
     },
     "metadata": {},
     "output_type": "display_data"
    }
   ],
   "source": [
    "mean_instructor_class = df.groupby('Course instructor')['Class'].mean()\n",
    "plt.plot(mean_instructor_class, 'o')\n",
    "#sns.scatterplot(mean_instructor_class)"
   ]
  },
  {
   "cell_type": "code",
   "execution_count": 22,
   "id": "45fca50c",
   "metadata": {},
   "outputs": [
    {
     "data": {
      "text/html": [
       "<div>\n",
       "<style scoped>\n",
       "    .dataframe tbody tr th:only-of-type {\n",
       "        vertical-align: middle;\n",
       "    }\n",
       "\n",
       "    .dataframe tbody tr th {\n",
       "        vertical-align: top;\n",
       "    }\n",
       "\n",
       "    .dataframe thead th {\n",
       "        text-align: right;\n",
       "    }\n",
       "</style>\n",
       "<table border=\"1\" class=\"dataframe\">\n",
       "  <thead>\n",
       "    <tr style=\"text-align: right;\">\n",
       "      <th></th>\n",
       "      <th>native English</th>\n",
       "      <th>Course instructor</th>\n",
       "      <th>Course</th>\n",
       "      <th>Summer semester</th>\n",
       "      <th>Class size</th>\n",
       "    </tr>\n",
       "  </thead>\n",
       "  <tbody>\n",
       "    <tr>\n",
       "      <th>0</th>\n",
       "      <td>1</td>\n",
       "      <td>23</td>\n",
       "      <td>3</td>\n",
       "      <td>1</td>\n",
       "      <td>19</td>\n",
       "    </tr>\n",
       "    <tr>\n",
       "      <th>1</th>\n",
       "      <td>2</td>\n",
       "      <td>15</td>\n",
       "      <td>3</td>\n",
       "      <td>1</td>\n",
       "      <td>17</td>\n",
       "    </tr>\n",
       "    <tr>\n",
       "      <th>2</th>\n",
       "      <td>1</td>\n",
       "      <td>23</td>\n",
       "      <td>3</td>\n",
       "      <td>2</td>\n",
       "      <td>49</td>\n",
       "    </tr>\n",
       "    <tr>\n",
       "      <th>3</th>\n",
       "      <td>1</td>\n",
       "      <td>5</td>\n",
       "      <td>2</td>\n",
       "      <td>2</td>\n",
       "      <td>33</td>\n",
       "    </tr>\n",
       "    <tr>\n",
       "      <th>4</th>\n",
       "      <td>2</td>\n",
       "      <td>7</td>\n",
       "      <td>11</td>\n",
       "      <td>2</td>\n",
       "      <td>55</td>\n",
       "    </tr>\n",
       "    <tr>\n",
       "      <th>...</th>\n",
       "      <td>...</td>\n",
       "      <td>...</td>\n",
       "      <td>...</td>\n",
       "      <td>...</td>\n",
       "      <td>...</td>\n",
       "    </tr>\n",
       "    <tr>\n",
       "      <th>146</th>\n",
       "      <td>2</td>\n",
       "      <td>3</td>\n",
       "      <td>2</td>\n",
       "      <td>2</td>\n",
       "      <td>26</td>\n",
       "    </tr>\n",
       "    <tr>\n",
       "      <th>147</th>\n",
       "      <td>2</td>\n",
       "      <td>10</td>\n",
       "      <td>3</td>\n",
       "      <td>2</td>\n",
       "      <td>12</td>\n",
       "    </tr>\n",
       "    <tr>\n",
       "      <th>148</th>\n",
       "      <td>1</td>\n",
       "      <td>18</td>\n",
       "      <td>7</td>\n",
       "      <td>2</td>\n",
       "      <td>48</td>\n",
       "    </tr>\n",
       "    <tr>\n",
       "      <th>149</th>\n",
       "      <td>2</td>\n",
       "      <td>22</td>\n",
       "      <td>1</td>\n",
       "      <td>2</td>\n",
       "      <td>51</td>\n",
       "    </tr>\n",
       "    <tr>\n",
       "      <th>150</th>\n",
       "      <td>2</td>\n",
       "      <td>2</td>\n",
       "      <td>10</td>\n",
       "      <td>2</td>\n",
       "      <td>27</td>\n",
       "    </tr>\n",
       "  </tbody>\n",
       "</table>\n",
       "<p>151 rows × 5 columns</p>\n",
       "</div>"
      ],
      "text/plain": [
       "     native English  Course instructor  Course  Summer semester  Class size\n",
       "0                 1                 23       3                1          19\n",
       "1                 2                 15       3                1          17\n",
       "2                 1                 23       3                2          49\n",
       "3                 1                  5       2                2          33\n",
       "4                 2                  7      11                2          55\n",
       "..              ...                ...     ...              ...         ...\n",
       "146               2                  3       2                2          26\n",
       "147               2                 10       3                2          12\n",
       "148               1                 18       7                2          48\n",
       "149               2                 22       1                2          51\n",
       "150               2                  2      10                2          27\n",
       "\n",
       "[151 rows x 5 columns]"
      ]
     },
     "execution_count": 22,
     "metadata": {},
     "output_type": "execute_result"
    }
   ],
   "source": [
    "X_copy = df.drop(columns = ['Class'])\n",
    "y = df['Class']\n",
    "y\n",
    "X_copy"
   ]
  },
  {
   "cell_type": "code",
   "execution_count": 58,
   "id": "a652279f",
   "metadata": {},
   "outputs": [
    {
     "data": {
      "text/plain": [
       "0      3\n",
       "1      3\n",
       "2      3\n",
       "3      3\n",
       "4      3\n",
       "      ..\n",
       "146    1\n",
       "147    1\n",
       "148    1\n",
       "149    1\n",
       "150    1\n",
       "Name: Class, Length: 151, dtype: int64"
      ]
     },
     "execution_count": 58,
     "metadata": {},
     "output_type": "execute_result"
    }
   ],
   "source": [
    "y"
   ]
  },
  {
   "cell_type": "markdown",
   "id": "4bdec6ef",
   "metadata": {},
   "source": [
    "# Modelarea"
   ]
  },
  {
   "cell_type": "code",
   "execution_count": 54,
   "id": "2d5c89b9",
   "metadata": {},
   "outputs": [],
   "source": [
    "from sklearn.model_selection import train_test_split\n",
    "\n",
    "from sklearn.naive_bayes import CategoricalNB\n",
    "from sklearn.tree import DecisionTreeClassifier\n",
    " \n",
    "# X_train, X_test, y_train, y_test = train_test_split(X_copy, y, test_size=0.2, random_state=0, stratify = y)\n",
    "\n",
    "X_train, X_test, y_train, y_test = train_test_split(X_copy, y, test_size=0.2, random_state=0)\n"
   ]
  },
  {
   "cell_type": "code",
   "execution_count": 55,
   "id": "5ef408a3",
   "metadata": {},
   "outputs": [
    {
     "name": "stdout",
     "output_type": "stream",
     "text": [
      "0.13245033112582782\n"
     ]
    }
   ],
   "source": [
    "#model = CategoricalNB()\n",
    "#model = DecisionTreeClassifier(random_state =0)\n",
    "#model = DecisionTreeClassifier(random_state=0)\n",
    "model = svm.LinearSVC(random_state=0)\n",
    "model.fit(X_train, y_train)\n",
    "y_pred = model.predict(X_test)\n",
    "# (y_pred != y_test).sum()\n",
    "# print(y_test.size)\n",
    "y_pred\n",
    " "
   ]
  },
  {
   "cell_type": "code",
   "execution_count": 56,
   "id": "ef715f7c",
   "metadata": {},
   "outputs": [
    {
     "data": {
      "text/plain": [
       "114     True\n",
       "62     False\n",
       "33     False\n",
       "107     True\n",
       "7      False\n",
       "100    False\n",
       "40      True\n",
       "86      True\n",
       "76      True\n",
       "71      True\n",
       "134    False\n",
       "51      True\n",
       "73      True\n",
       "54     False\n",
       "63     False\n",
       "37      True\n",
       "78      True\n",
       "90      True\n",
       "45     False\n",
       "16     False\n",
       "121    False\n",
       "66     False\n",
       "24     False\n",
       "8       True\n",
       "126     True\n",
       "22     False\n",
       "44      True\n",
       "97     False\n",
       "93      True\n",
       "26     False\n",
       "137    False\n",
       "Name: Class, dtype: bool"
      ]
     },
     "execution_count": 56,
     "metadata": {},
     "output_type": "execute_result"
    }
   ],
   "source": [
    "y_test == y_pred\n"
   ]
  },
  {
   "cell_type": "code",
   "execution_count": 57,
   "id": "609dd302",
   "metadata": {},
   "outputs": [
    {
     "data": {
      "text/plain": [
       "0.5161290322580645"
      ]
     },
     "execution_count": 57,
     "metadata": {},
     "output_type": "execute_result"
    }
   ],
   "source": [
    "error = (y_pred != y_test).sum()/y_test.size\n",
    "error"
   ]
  },
  {
   "cell_type": "code",
   "execution_count": 58,
   "id": "505ad62b",
   "metadata": {},
   "outputs": [
    {
     "name": "stdout",
     "output_type": "stream",
     "text": [
      "30.2\n"
     ]
    }
   ],
   "source": [
    "y_test.size\n",
    "print(20*151/100)"
   ]
  },
  {
   "cell_type": "code",
   "execution_count": 59,
   "id": "218e4a4a",
   "metadata": {},
   "outputs": [],
   "source": [
    "model = DecisionTreeClassifier(random_state =0)\n",
    "model.fit(X_train, y_train)\n",
    "y_pred = model.predict(X_test)"
   ]
  },
  {
   "cell_type": "code",
   "execution_count": 60,
   "id": "b21dd4a5",
   "metadata": {},
   "outputs": [
    {
     "data": {
      "text/plain": [
       "0.45161290322580644"
      ]
     },
     "execution_count": 60,
     "metadata": {},
     "output_type": "execute_result"
    }
   ],
   "source": [
    "error = (y_pred != y_test).sum()/y_test.size\n",
    "error"
   ]
  },
  {
   "cell_type": "markdown",
   "id": "9c8ab1b3",
   "metadata": {},
   "source": [
    "Cu standard scaler"
   ]
  },
  {
   "cell_type": "code",
   "execution_count": 61,
   "id": "f8ed6562",
   "metadata": {},
   "outputs": [
    {
     "data": {
      "text/html": [
       "<div>\n",
       "<style scoped>\n",
       "    .dataframe tbody tr th:only-of-type {\n",
       "        vertical-align: middle;\n",
       "    }\n",
       "\n",
       "    .dataframe tbody tr th {\n",
       "        vertical-align: top;\n",
       "    }\n",
       "\n",
       "    .dataframe thead th {\n",
       "        text-align: right;\n",
       "    }\n",
       "</style>\n",
       "<table border=\"1\" class=\"dataframe\">\n",
       "  <thead>\n",
       "    <tr style=\"text-align: right;\">\n",
       "      <th></th>\n",
       "      <th>native English</th>\n",
       "      <th>Course instructor</th>\n",
       "      <th>Course</th>\n",
       "      <th>Summer semester</th>\n",
       "      <th>Class size</th>\n",
       "    </tr>\n",
       "  </thead>\n",
       "  <tbody>\n",
       "    <tr>\n",
       "      <th>0</th>\n",
       "      <td>-2.051072</td>\n",
       "      <td>1.375485</td>\n",
       "      <td>-0.729359</td>\n",
       "      <td>-2.359071</td>\n",
       "      <td>-0.690028</td>\n",
       "    </tr>\n",
       "    <tr>\n",
       "      <th>1</th>\n",
       "      <td>0.487550</td>\n",
       "      <td>0.199557</td>\n",
       "      <td>-0.729359</td>\n",
       "      <td>-2.359071</td>\n",
       "      <td>-0.845658</td>\n",
       "    </tr>\n",
       "    <tr>\n",
       "      <th>2</th>\n",
       "      <td>-2.051072</td>\n",
       "      <td>1.375485</td>\n",
       "      <td>-0.729359</td>\n",
       "      <td>0.423896</td>\n",
       "      <td>1.644422</td>\n",
       "    </tr>\n",
       "    <tr>\n",
       "      <th>3</th>\n",
       "      <td>-2.051072</td>\n",
       "      <td>-1.270352</td>\n",
       "      <td>-0.872203</td>\n",
       "      <td>0.423896</td>\n",
       "      <td>0.399382</td>\n",
       "    </tr>\n",
       "    <tr>\n",
       "      <th>4</th>\n",
       "      <td>0.487550</td>\n",
       "      <td>-0.976370</td>\n",
       "      <td>0.413398</td>\n",
       "      <td>0.423896</td>\n",
       "      <td>2.111312</td>\n",
       "    </tr>\n",
       "    <tr>\n",
       "      <th>...</th>\n",
       "      <td>...</td>\n",
       "      <td>...</td>\n",
       "      <td>...</td>\n",
       "      <td>...</td>\n",
       "      <td>...</td>\n",
       "    </tr>\n",
       "    <tr>\n",
       "      <th>146</th>\n",
       "      <td>0.487550</td>\n",
       "      <td>-1.564334</td>\n",
       "      <td>-0.872203</td>\n",
       "      <td>0.423896</td>\n",
       "      <td>-0.145323</td>\n",
       "    </tr>\n",
       "    <tr>\n",
       "      <th>147</th>\n",
       "      <td>0.487550</td>\n",
       "      <td>-0.535398</td>\n",
       "      <td>-0.729359</td>\n",
       "      <td>0.423896</td>\n",
       "      <td>-1.234733</td>\n",
       "    </tr>\n",
       "    <tr>\n",
       "      <th>148</th>\n",
       "      <td>-2.051072</td>\n",
       "      <td>0.640530</td>\n",
       "      <td>-0.157980</td>\n",
       "      <td>0.423896</td>\n",
       "      <td>1.566607</td>\n",
       "    </tr>\n",
       "    <tr>\n",
       "      <th>149</th>\n",
       "      <td>0.487550</td>\n",
       "      <td>1.228494</td>\n",
       "      <td>-1.015048</td>\n",
       "      <td>0.423896</td>\n",
       "      <td>1.800052</td>\n",
       "    </tr>\n",
       "    <tr>\n",
       "      <th>150</th>\n",
       "      <td>0.487550</td>\n",
       "      <td>-1.711325</td>\n",
       "      <td>0.270553</td>\n",
       "      <td>0.423896</td>\n",
       "      <td>-0.067508</td>\n",
       "    </tr>\n",
       "  </tbody>\n",
       "</table>\n",
       "<p>151 rows × 5 columns</p>\n",
       "</div>"
      ],
      "text/plain": [
       "     native English  Course instructor    Course  Summer semester  Class size\n",
       "0         -2.051072           1.375485 -0.729359        -2.359071   -0.690028\n",
       "1          0.487550           0.199557 -0.729359        -2.359071   -0.845658\n",
       "2         -2.051072           1.375485 -0.729359         0.423896    1.644422\n",
       "3         -2.051072          -1.270352 -0.872203         0.423896    0.399382\n",
       "4          0.487550          -0.976370  0.413398         0.423896    2.111312\n",
       "..              ...                ...       ...              ...         ...\n",
       "146        0.487550          -1.564334 -0.872203         0.423896   -0.145323\n",
       "147        0.487550          -0.535398 -0.729359         0.423896   -1.234733\n",
       "148       -2.051072           0.640530 -0.157980         0.423896    1.566607\n",
       "149        0.487550           1.228494 -1.015048         0.423896    1.800052\n",
       "150        0.487550          -1.711325  0.270553         0.423896   -0.067508\n",
       "\n",
       "[151 rows x 5 columns]"
      ]
     },
     "execution_count": 61,
     "metadata": {},
     "output_type": "execute_result"
    }
   ],
   "source": [
    "from sklearn import linear_model\n",
    "from sklearn.preprocessing import StandardScaler\n",
    "scaler = StandardScaler()\n",
    "standardized_X_copy = pd.DataFrame(scaler.fit_transform(X_copy), columns = X_copy.columns)\n",
    "standardized_X_copy"
   ]
  },
  {
   "cell_type": "code",
   "execution_count": 62,
   "id": "bc943261",
   "metadata": {},
   "outputs": [
    {
     "data": {
      "text/html": [
       "<div>\n",
       "<style scoped>\n",
       "    .dataframe tbody tr th:only-of-type {\n",
       "        vertical-align: middle;\n",
       "    }\n",
       "\n",
       "    .dataframe tbody tr th {\n",
       "        vertical-align: top;\n",
       "    }\n",
       "\n",
       "    .dataframe thead th {\n",
       "        text-align: right;\n",
       "    }\n",
       "</style>\n",
       "<table border=\"1\" class=\"dataframe\">\n",
       "  <thead>\n",
       "    <tr style=\"text-align: right;\">\n",
       "      <th></th>\n",
       "      <th>native English</th>\n",
       "      <th>Course instructor</th>\n",
       "      <th>Course</th>\n",
       "      <th>Summer semester</th>\n",
       "      <th>Class size</th>\n",
       "    </tr>\n",
       "  </thead>\n",
       "  <tbody>\n",
       "    <tr>\n",
       "      <th>count</th>\n",
       "      <td>1.510000e+02</td>\n",
       "      <td>1.510000e+02</td>\n",
       "      <td>1.510000e+02</td>\n",
       "      <td>1.510000e+02</td>\n",
       "      <td>1.510000e+02</td>\n",
       "    </tr>\n",
       "    <tr>\n",
       "      <th>mean</th>\n",
       "      <td>2.470430e-16</td>\n",
       "      <td>5.881976e-17</td>\n",
       "      <td>-9.190588e-17</td>\n",
       "      <td>-2.470430e-16</td>\n",
       "      <td>-7.058372e-17</td>\n",
       "    </tr>\n",
       "    <tr>\n",
       "      <th>std</th>\n",
       "      <td>1.003328e+00</td>\n",
       "      <td>1.003328e+00</td>\n",
       "      <td>1.003328e+00</td>\n",
       "      <td>1.003328e+00</td>\n",
       "      <td>1.003328e+00</td>\n",
       "    </tr>\n",
       "    <tr>\n",
       "      <th>min</th>\n",
       "      <td>-2.051072e+00</td>\n",
       "      <td>-1.858316e+00</td>\n",
       "      <td>-1.015048e+00</td>\n",
       "      <td>-2.359071e+00</td>\n",
       "      <td>-1.935068e+00</td>\n",
       "    </tr>\n",
       "    <tr>\n",
       "      <th>25%</th>\n",
       "      <td>4.875499e-01</td>\n",
       "      <td>-8.293795e-01</td>\n",
       "      <td>-7.293586e-01</td>\n",
       "      <td>4.238956e-01</td>\n",
       "      <td>-6.900284e-01</td>\n",
       "    </tr>\n",
       "    <tr>\n",
       "      <th>50%</th>\n",
       "      <td>4.875499e-01</td>\n",
       "      <td>-9.442466e-02</td>\n",
       "      <td>-5.865140e-01</td>\n",
       "      <td>4.238956e-01</td>\n",
       "      <td>-6.750838e-02</td>\n",
       "    </tr>\n",
       "    <tr>\n",
       "      <th>75%</th>\n",
       "      <td>4.875499e-01</td>\n",
       "      <td>9.345121e-01</td>\n",
       "      <td>9.847760e-01</td>\n",
       "      <td>4.238956e-01</td>\n",
       "      <td>7.106416e-01</td>\n",
       "    </tr>\n",
       "    <tr>\n",
       "      <th>max</th>\n",
       "      <td>4.875499e-01</td>\n",
       "      <td>1.669467e+00</td>\n",
       "      <td>2.556066e+00</td>\n",
       "      <td>4.238956e-01</td>\n",
       "      <td>2.967277e+00</td>\n",
       "    </tr>\n",
       "  </tbody>\n",
       "</table>\n",
       "</div>"
      ],
      "text/plain": [
       "       native English  Course instructor        Course  Summer semester  \\\n",
       "count    1.510000e+02       1.510000e+02  1.510000e+02     1.510000e+02   \n",
       "mean     2.470430e-16       5.881976e-17 -9.190588e-17    -2.470430e-16   \n",
       "std      1.003328e+00       1.003328e+00  1.003328e+00     1.003328e+00   \n",
       "min     -2.051072e+00      -1.858316e+00 -1.015048e+00    -2.359071e+00   \n",
       "25%      4.875499e-01      -8.293795e-01 -7.293586e-01     4.238956e-01   \n",
       "50%      4.875499e-01      -9.442466e-02 -5.865140e-01     4.238956e-01   \n",
       "75%      4.875499e-01       9.345121e-01  9.847760e-01     4.238956e-01   \n",
       "max      4.875499e-01       1.669467e+00  2.556066e+00     4.238956e-01   \n",
       "\n",
       "         Class size  \n",
       "count  1.510000e+02  \n",
       "mean  -7.058372e-17  \n",
       "std    1.003328e+00  \n",
       "min   -1.935068e+00  \n",
       "25%   -6.900284e-01  \n",
       "50%   -6.750838e-02  \n",
       "75%    7.106416e-01  \n",
       "max    2.967277e+00  "
      ]
     },
     "execution_count": 62,
     "metadata": {},
     "output_type": "execute_result"
    }
   ],
   "source": [
    "standardized_X_copy.describe()"
   ]
  },
  {
   "cell_type": "code",
   "execution_count": 63,
   "id": "ed026b2d",
   "metadata": {},
   "outputs": [],
   "source": [
    "from sklearn import linear_model\n",
    "from sklearn.preprocessing import StandardScaler\n",
    "scaler = StandardScaler()\n",
    "\n",
    "standardized_X_train = pd.DataFrame(scaler.fit_transform(X_train), columns = X_train.columns)\n",
    "standardized_X_test = pd.DataFrame(scaler.transform(X_test), columns = X_test.columns)\n"
   ]
  },
  {
   "cell_type": "code",
   "execution_count": 64,
   "id": "c3657f62",
   "metadata": {},
   "outputs": [
    {
     "data": {
      "text/plain": [
       "12"
      ]
     },
     "execution_count": 64,
     "metadata": {},
     "output_type": "execute_result"
    }
   ],
   "source": [
    "#model = CategoricalNB()\n",
    "#model = DecisionTreeClassifier(random_state =0)\n",
    "#model = DecisionTreeClassifier(random_state=0)\n",
    "\n",
    "\n",
    "model = svm.LinearSVC(random_state=0)\n",
    "model.fit(standardized_X_train, y_train)\n",
    "y_pred = model.predict(standardized_X_test)\n",
    "(y_pred != y_test).sum()\n",
    " "
   ]
  },
  {
   "cell_type": "code",
   "execution_count": 65,
   "id": "1fe6f60d",
   "metadata": {},
   "outputs": [
    {
     "data": {
      "text/plain": [
       "0.3870967741935484"
      ]
     },
     "execution_count": 65,
     "metadata": {},
     "output_type": "execute_result"
    }
   ],
   "source": [
    "error = (y_pred != y_test).sum()/y_test.size\n",
    "error"
   ]
  },
  {
   "cell_type": "code",
   "execution_count": 66,
   "id": "7a3596a4",
   "metadata": {},
   "outputs": [],
   "source": [
    "model = DecisionTreeClassifier(random_state =0)\n",
    "model.fit(standardized_X_train, y_train)\n",
    "y_pred = model.predict(standardized_X_test)"
   ]
  },
  {
   "cell_type": "code",
   "execution_count": 67,
   "id": "3758f1ec",
   "metadata": {},
   "outputs": [
    {
     "data": {
      "text/plain": [
       "0.45161290322580644"
      ]
     },
     "execution_count": 67,
     "metadata": {},
     "output_type": "execute_result"
    }
   ],
   "source": [
    "error = (y_pred != y_test).sum()/y_test.size\n",
    "error"
   ]
  },
  {
   "cell_type": "code",
   "execution_count": 68,
   "id": "1751b4fe",
   "metadata": {},
   "outputs": [
    {
     "data": {
      "text/plain": [
       "114    1\n",
       "62     2\n",
       "33     1\n",
       "107    1\n",
       "7      3\n",
       "100    2\n",
       "40     3\n",
       "86     3\n",
       "76     1\n",
       "71     1\n",
       "134    2\n",
       "51     3\n",
       "73     1\n",
       "54     2\n",
       "63     2\n",
       "37     1\n",
       "78     3\n",
       "90     3\n",
       "45     3\n",
       "16     2\n",
       "121    3\n",
       "66     2\n",
       "24     2\n",
       "8      3\n",
       "126    3\n",
       "22     2\n",
       "44     3\n",
       "97     2\n",
       "93     3\n",
       "26     2\n",
       "137    2\n",
       "Name: Class, dtype: int64"
      ]
     },
     "execution_count": 68,
     "metadata": {},
     "output_type": "execute_result"
    }
   ],
   "source": [
    "y_test"
   ]
  },
  {
   "cell_type": "markdown",
   "id": "494927e4",
   "metadata": {},
   "source": [
    "cu normalizer"
   ]
  },
  {
   "cell_type": "code",
   "execution_count": 69,
   "id": "6197bf48",
   "metadata": {},
   "outputs": [],
   "source": [
    "from sklearn.preprocessing import Normalizer\n",
    "\n",
    "normaliz= Normalizer().fit(X_train)\n",
    "normalized_X_train =normaliz.transform(X_train)\n",
    "normalized_X_test =  Normalizer().fit(X_test).transform(X_test)\n",
    "\n",
    "model = svm.LinearSVC(random_state=0)\n",
    "model.fit(normalized_X_train, y_train)\n",
    "y_pred = model.predict(normalized_X_test)\n"
   ]
  },
  {
   "cell_type": "code",
   "execution_count": 70,
   "id": "d288dd0d",
   "metadata": {},
   "outputs": [
    {
     "data": {
      "text/plain": [
       "21"
      ]
     },
     "execution_count": 70,
     "metadata": {},
     "output_type": "execute_result"
    }
   ],
   "source": [
    "error = (y_pred != y_test).sum()/y_test.size\n",
    "error\n",
    "(y_pred != y_test).sum()\n",
    "error"
   ]
  },
  {
   "cell_type": "code",
   "execution_count": 71,
   "id": "8a0501c2",
   "metadata": {},
   "outputs": [
    {
     "data": {
      "text/plain": [
       "array([3, 2, 1, 1, 3, 2, 3, 2, 1, 1, 3, 3, 1, 2, 1, 1, 1, 2, 3, 2, 1, 1,\n",
       "       1, 1, 1, 2, 2, 1, 1, 2, 3], dtype=int64)"
      ]
     },
     "execution_count": 71,
     "metadata": {},
     "output_type": "execute_result"
    }
   ],
   "source": [
    "model = DecisionTreeClassifier(random_state =0)\n",
    "model.fit(normalized_X_train, y_train)\n",
    "y_pred = model.predict(normalized_X_test)\n",
    "y_pred"
   ]
  },
  {
   "cell_type": "code",
   "execution_count": 72,
   "id": "c4ab95b6",
   "metadata": {},
   "outputs": [
    {
     "data": {
      "text/plain": [
       "0.4838709677419355"
      ]
     },
     "execution_count": 72,
     "metadata": {},
     "output_type": "execute_result"
    }
   ],
   "source": [
    "error = (y_pred != y_test).sum()/y_test.size\n",
    "error"
   ]
  },
  {
   "cell_type": "markdown",
   "id": "c30de249",
   "metadata": {},
   "source": [
    "# Exercitiu: \n",
    "Sa se aplice DecisionTreeClassifier pentru diferite valori ale parametrilor:\n",
    "criterion = entropy, max_depth, max_leaf_nodes"
   ]
  },
  {
   "cell_type": "code",
   "execution_count": 73,
   "id": "6e7615e4",
   "metadata": {},
   "outputs": [],
   "source": [
    "model = DecisionTreeClassifier( criterion = 'gini', max_depth = 3, random_state =0)\n",
    "model.fit(normalized_X_train, y_train)\n",
    "y_pred = model.predict(normalized_X_test)"
   ]
  },
  {
   "cell_type": "code",
   "execution_count": 74,
   "id": "d0042c6a",
   "metadata": {},
   "outputs": [
    {
     "data": {
      "text/plain": [
       "0.5806451612903226"
      ]
     },
     "execution_count": 74,
     "metadata": {},
     "output_type": "execute_result"
    }
   ],
   "source": [
    "error = (y_pred != y_test).sum()/y_test.size\n",
    "error"
   ]
  },
  {
   "cell_type": "code",
   "execution_count": 75,
   "id": "8e41ee67",
   "metadata": {},
   "outputs": [
    {
     "data": {
      "text/plain": [
       "[Text(0.5, 0.875, 'x[2] <= 0.351\\ngini = 0.666\\nsamples = 120\\nvalue = [42, 38, 40]'),\n",
       " Text(0.25, 0.625, 'x[0] <= 0.036\\ngini = 0.646\\nsamples = 84\\nvalue = [37, 20, 27]'),\n",
       " Text(0.125, 0.375, 'x[3] <= 0.031\\ngini = 0.381\\nsamples = 17\\nvalue = [3, 1, 13]'),\n",
       " Text(0.0625, 0.125, 'gini = 0.0\\nsamples = 1\\nvalue = [1, 0, 0]'),\n",
       " Text(0.1875, 0.125, 'gini = 0.32\\nsamples = 16\\nvalue = [2, 1, 13]'),\n",
       " Text(0.375, 0.375, 'x[1] <= 0.219\\ngini = 0.618\\nsamples = 67\\nvalue = [34, 19, 14]'),\n",
       " Text(0.3125, 0.125, 'gini = 0.18\\nsamples = 10\\nvalue = [9, 1, 0]'),\n",
       " Text(0.4375, 0.125, 'gini = 0.648\\nsamples = 57\\nvalue = [25, 18, 14]'),\n",
       " Text(0.75, 0.625, 'x[0] <= 0.045\\ngini = 0.6\\nsamples = 36\\nvalue = [5, 18, 13]'),\n",
       " Text(0.625, 0.375, 'x[1] <= 0.352\\ngini = 0.219\\nsamples = 8\\nvalue = [1, 7, 0]'),\n",
       " Text(0.5625, 0.125, 'gini = 0.0\\nsamples = 6\\nvalue = [0, 6, 0]'),\n",
       " Text(0.6875, 0.125, 'gini = 0.5\\nsamples = 2\\nvalue = [1, 1, 0]'),\n",
       " Text(0.875, 0.375, 'x[0] <= 0.092\\ngini = 0.61\\nsamples = 28\\nvalue = [4, 11, 13]'),\n",
       " Text(0.8125, 0.125, 'gini = 0.595\\nsamples = 22\\nvalue = [4, 6, 12]'),\n",
       " Text(0.9375, 0.125, 'gini = 0.278\\nsamples = 6\\nvalue = [0, 5, 1]')]"
      ]
     },
     "execution_count": 75,
     "metadata": {},
     "output_type": "execute_result"
    },
    {
     "data": {
      "image/png": "[encoded data removed]",
      "text/plain": [
       "<Figure size 640x480 with 1 Axes>"
      ]
     },
     "metadata": {},
     "output_type": "display_data"
    }
   ],
   "source": [
    "from sklearn import tree\n",
    "tree.plot_tree(model)"
   ]
  },
  {
   "cell_type": "code",
   "execution_count": null,
   "id": "4b46cac9",
   "metadata": {},
   "outputs": [],
   "source": []
  },
  {
   "cell_type": "code",
   "execution_count": null,
   "id": "32735a04",
   "metadata": {},
   "outputs": [],
   "source": []
  },
  {
   "cell_type": "code",
   "execution_count": 76,
   "id": "eca4e36d",
   "metadata": {},
   "outputs": [],
   "source": [
    "model = svm.LinearSVC(random_state=0)\n",
    "model.fit(standardized_X_train, y_train)\n",
    "y_pred = model.predict(standardized_X_test)"
   ]
  },
  {
   "cell_type": "code",
   "execution_count": 77,
   "id": "092301d5",
   "metadata": {},
   "outputs": [
    {
     "data": {
      "text/plain": [
       "0.3870967741935484"
      ]
     },
     "execution_count": 77,
     "metadata": {},
     "output_type": "execute_result"
    }
   ],
   "source": [
    "error = (y_pred != y_test).sum()/y_test.size\n",
    "error"
   ]
  },
  {
   "cell_type": "code",
   "execution_count": 78,
   "id": "b536aad4",
   "metadata": {},
   "outputs": [
    {
     "data": {
      "text/plain": [
       "0.3870967741935484"
      ]
     },
     "execution_count": 78,
     "metadata": {},
     "output_type": "execute_result"
    }
   ],
   "source": [
    "error = (y_pred != y_test).sum()/y_test.size\n",
    "error"
   ]
  },
  {
   "cell_type": "markdown",
   "id": "cb3674fc",
   "metadata": {},
   "source": [
    "# Exercitiu : \n",
    "Aplicati aceeasi clasificatori pentru colectia cu datele de intrare: \"native English\" si \"Summer Semester\"."
   ]
  },
  {
   "cell_type": "code",
   "execution_count": 79,
   "id": "d7897ccd",
   "metadata": {},
   "outputs": [],
   "source": [
    "def print_tree_explained(clf):\n",
    "    n_nodes = clf.tree_.node_count\n",
    "    children_left = clf.tree_.children_left\n",
    "    children_right = clf.tree_.children_right\n",
    "    feature = clf.tree_.feature\n",
    "    threshold = clf.tree_.threshold\n",
    "\n",
    "    node_depth = np.zeros(shape=n_nodes, dtype=np.int64)\n",
    "    is_leaves = np.zeros(shape=n_nodes, dtype=bool)\n",
    "    stack = [(0, 0)]  # start with the root node id (0) and its depth (0)\n",
    "    while len(stack) > 0:\n",
    "        # `pop` ensures each node is only visited once\n",
    "        node_id, depth = stack.pop()\n",
    "        node_depth[node_id] = depth\n",
    "\n",
    "        # If the left and right child of a node is not the same we have a split\n",
    "        # node\n",
    "        is_split_node = children_left[node_id] != children_right[node_id]\n",
    "        # If a split node, append left and right children and depth to `stack`\n",
    "        # so we can loop through them\n",
    "        if is_split_node:\n",
    "            stack.append((children_left[node_id], depth + 1))\n",
    "            stack.append((children_right[node_id], depth + 1))\n",
    "        else:\n",
    "            is_leaves[node_id] = True\n",
    "\n",
    "    print(\n",
    "        \"The binary tree structure has {n} nodes and has \"\n",
    "        \"the following tree structure:\\n\".format(n=n_nodes)\n",
    "    )\n",
    "    for i in range(n_nodes):\n",
    "        if is_leaves[i]:\n",
    "            print(\n",
    "                \"{space}node={node} is a leaf node.\".format(\n",
    "                    space=node_depth[i] * \"\\t\", node=i\n",
    "                )\n",
    "            )\n",
    "        else:\n",
    "            print(\n",
    "                \"{space}node={node} is a split node: \"\n",
    "                \"go to node {left} if X[:, {feature}] <= {threshold} \"\n",
    "                \"else to node {right}.\".format(\n",
    "                    space=node_depth[i] * \"\\t\",\n",
    "                    node=i,\n",
    "                    left=children_left[i],\n",
    "                    feature=feature[i],\n",
    "                    threshold=threshold[i],\n",
    "                    right=children_right[i],\n",
    "                )\n",
    "            )"
   ]
  },
  {
   "cell_type": "code",
   "execution_count": 80,
   "id": "83e3cf1d",
   "metadata": {},
   "outputs": [
    {
     "data": {
      "text/plain": [
       "array([[6, 0, 1],\n",
       "       [3, 5, 4],\n",
       "       [2, 2, 8]], dtype=int64)"
      ]
     },
     "execution_count": 80,
     "metadata": {},
     "output_type": "execute_result"
    }
   ],
   "source": [
    "from sklearn.metrics import confusion_matrix\n",
    "\n",
    "confusion_matrix(y_test, y_pred)"
   ]
  },
  {
   "cell_type": "code",
   "execution_count": 81,
   "id": "b27d61a0",
   "metadata": {},
   "outputs": [
    {
     "data": {
      "image/png": "[encoded data removed]",
      "text/plain": [
       "<Figure size 640x480 with 2 Axes>"
      ]
     },
     "metadata": {},
     "output_type": "display_data"
    }
   ],
   "source": [
    "disp = metrics.ConfusionMatrixDisplay.from_predictions(y_test, y_pred)\n",
    "plt.title(\"Matricea de confuzie\")\n",
    "plt.show()"
   ]
  },
  {
   "cell_type": "code",
   "execution_count": 82,
   "id": "b522de06",
   "metadata": {},
   "outputs": [
    {
     "data": {
      "text/plain": [
       "0.3870967741935484"
      ]
     },
     "execution_count": 82,
     "metadata": {},
     "output_type": "execute_result"
    }
   ],
   "source": [
    "clf = DecisionTreeClassifier(max_leaf_nodes=15, random_state=0)\n",
    "clf.fit(normalized_X_train, y_train)\n",
    "error = (y_pred != y_test).sum()/y_test.size\n",
    "error"
   ]
  },
  {
   "cell_type": "code",
   "execution_count": 83,
   "id": "cacc985f",
   "metadata": {},
   "outputs": [
    {
     "name": "stdout",
     "output_type": "stream",
     "text": [
      "The binary tree structure has 29 nodes and has the following tree structure:\n",
      "\n",
      "node=0 is a split node: go to node 1 if X[:, 2] <= 0.3513844609260559 else to node 2.\n",
      "\tnode=1 is a split node: go to node 3 if X[:, 0] <= 0.035647325217723846 else to node 4.\n",
      "\tnode=2 is a split node: go to node 5 if X[:, 0] <= 0.04506182670593262 else to node 6.\n",
      "\t\tnode=3 is a leaf node.\n",
      "\t\tnode=4 is a split node: go to node 7 if X[:, 1] <= 0.21861137449741364 else to node 8.\n",
      "\t\tnode=5 is a leaf node.\n",
      "\t\tnode=6 is a split node: go to node 17 if X[:, 0] <= 0.09189144149422646 else to node 18.\n",
      "\t\t\tnode=7 is a split node: go to node 23 if X[:, 1] <= 0.06352305226027966 else to node 24.\n",
      "\t\t\tnode=8 is a split node: go to node 9 if X[:, 4] <= 0.9100147783756256 else to node 10.\n",
      "\t\t\t\tnode=9 is a split node: go to node 11 if X[:, 3] <= 0.041017867624759674 else to node 12.\n",
      "\t\t\t\tnode=10 is a split node: go to node 19 if X[:, 2] <= 0.030043844133615494 else to node 20.\n",
      "\t\t\t\t\tnode=11 is a leaf node.\n",
      "\t\t\t\t\tnode=12 is a split node: go to node 13 if X[:, 4] <= 0.8917017877101898 else to node 14.\n",
      "\t\t\t\t\t\tnode=13 is a split node: go to node 15 if X[:, 3] <= 0.04619419202208519 else to node 16.\n",
      "\t\t\t\t\t\tnode=14 is a leaf node.\n",
      "\t\t\t\t\t\t\tnode=15 is a leaf node.\n",
      "\t\t\t\t\t\t\tnode=16 is a split node: go to node 25 if X[:, 3] <= 0.07451006770133972 else to node 26.\n",
      "\t\t\tnode=17 is a split node: go to node 21 if X[:, 1] <= 0.6161548793315887 else to node 22.\n",
      "\t\t\tnode=18 is a leaf node.\n",
      "\t\t\t\t\tnode=19 is a leaf node.\n",
      "\t\t\t\t\tnode=20 is a leaf node.\n",
      "\t\t\t\tnode=21 is a leaf node.\n",
      "\t\t\t\tnode=22 is a leaf node.\n",
      "\t\t\t\tnode=23 is a leaf node.\n",
      "\t\t\t\tnode=24 is a leaf node.\n",
      "\t\t\t\t\t\t\t\tnode=25 is a leaf node.\n",
      "\t\t\t\t\t\t\t\tnode=26 is a split node: go to node 27 if X[:, 4] <= 0.8704097867012024 else to node 28.\n",
      "\t\t\t\t\t\t\t\t\tnode=27 is a leaf node.\n",
      "\t\t\t\t\t\t\t\t\tnode=28 is a leaf node.\n"
     ]
    }
   ],
   "source": [
    "n_nodes = clf.tree_.node_count\n",
    "children_left = clf.tree_.children_left\n",
    "children_right = clf.tree_.children_right\n",
    "feature = clf.tree_.feature\n",
    "threshold = clf.tree_.threshold\n",
    "\n",
    "node_depth = np.zeros(shape=n_nodes, dtype=np.int64)\n",
    "is_leaves = np.zeros(shape=n_nodes, dtype=bool)\n",
    "stack = [(0, 0)]  # start with the root node id (0) and its depth (0)\n",
    "while len(stack) > 0:\n",
    "    # `pop` ensures each node is only visited once\n",
    "    node_id, depth = stack.pop()\n",
    "    node_depth[node_id] = depth\n",
    "\n",
    "    # If the left and right child of a node is not the same we have a split\n",
    "    # node\n",
    "    is_split_node = children_left[node_id] != children_right[node_id]\n",
    "    # If a split node, append left and right children and depth to `stack`\n",
    "    # so we can loop through them\n",
    "    if is_split_node:\n",
    "        stack.append((children_left[node_id], depth + 1))\n",
    "        stack.append((children_right[node_id], depth + 1))\n",
    "    else:\n",
    "        is_leaves[node_id] = True\n",
    "\n",
    "print(\n",
    "    \"The binary tree structure has {n} nodes and has \"\n",
    "    \"the following tree structure:\\n\".format(n=n_nodes)\n",
    ")\n",
    "for i in range(n_nodes):\n",
    "    if is_leaves[i]:\n",
    "        print(\n",
    "            \"{space}node={node} is a leaf node.\".format(\n",
    "                space=node_depth[i] * \"\\t\", node=i\n",
    "            )\n",
    "        )\n",
    "    else:\n",
    "        print(\n",
    "            \"{space}node={node} is a split node: \"\n",
    "            \"go to node {left} if X[:, {feature}] <= {threshold} \"\n",
    "            \"else to node {right}.\".format(\n",
    "                space=node_depth[i] * \"\\t\",\n",
    "                node=i,\n",
    "                left=children_left[i],\n",
    "                feature=feature[i],\n",
    "                threshold=threshold[i],\n",
    "                right=children_right[i],\n",
    "            )\n",
    "        )"
   ]
  },
  {
   "cell_type": "code",
   "execution_count": 84,
   "id": "fb3f069f",
   "metadata": {},
   "outputs": [
    {
     "data": {
      "text/plain": [
       "[Text(0.5166666666666667, 0.95, 'x[2] <= 0.351\\ngini = 0.666\\nsamples = 120\\nvalue = [42, 38, 40]'),\n",
       " Text(0.23333333333333334, 0.85, 'x[0] <= 0.036\\ngini = 0.646\\nsamples = 84\\nvalue = [37, 20, 27]'),\n",
       " Text(0.16666666666666666, 0.75, 'gini = 0.381\\nsamples = 17\\nvalue = [3, 1, 13]'),\n",
       " Text(0.3, 0.75, 'x[1] <= 0.219\\ngini = 0.618\\nsamples = 67\\nvalue = [34, 19, 14]'),\n",
       " Text(0.13333333333333333, 0.65, 'x[1] <= 0.064\\ngini = 0.18\\nsamples = 10\\nvalue = [9, 1, 0]'),\n",
       " Text(0.06666666666666667, 0.55, 'gini = 0.0\\nsamples = 1\\nvalue = [0, 1, 0]'),\n",
       " Text(0.2, 0.55, 'gini = 0.0\\nsamples = 9\\nvalue = [9, 0, 0]'),\n",
       " Text(0.4666666666666667, 0.65, 'x[4] <= 0.91\\ngini = 0.648\\nsamples = 57\\nvalue = [25, 18, 14]'),\n",
       " Text(0.3333333333333333, 0.55, 'x[3] <= 0.041\\ngini = 0.621\\nsamples = 47\\nvalue = [22, 17, 8]'),\n",
       " Text(0.26666666666666666, 0.45, 'gini = 0.5\\nsamples = 6\\nvalue = [0, 3, 3]'),\n",
       " Text(0.4, 0.45, 'x[4] <= 0.892\\ngini = 0.581\\nsamples = 41\\nvalue = [22, 14, 5]'),\n",
       " Text(0.3333333333333333, 0.35, 'x[3] <= 0.046\\ngini = 0.611\\nsamples = 35\\nvalue = [16, 14, 5]'),\n",
       " Text(0.26666666666666666, 0.25, 'gini = 0.0\\nsamples = 2\\nvalue = [0, 0, 2]'),\n",
       " Text(0.4, 0.25, 'x[3] <= 0.075\\ngini = 0.577\\nsamples = 33\\nvalue = [16, 14, 3]'),\n",
       " Text(0.3333333333333333, 0.15, 'gini = 0.526\\nsamples = 17\\nvalue = [6, 10, 1]'),\n",
       " Text(0.4666666666666667, 0.15, 'x[4] <= 0.87\\ngini = 0.531\\nsamples = 16\\nvalue = [10, 4, 2]'),\n",
       " Text(0.4, 0.05, 'gini = 0.408\\nsamples = 14\\nvalue = [10, 4, 0]'),\n",
       " Text(0.5333333333333333, 0.05, 'gini = 0.0\\nsamples = 2\\nvalue = [0, 0, 2]'),\n",
       " Text(0.4666666666666667, 0.35, 'gini = 0.0\\nsamples = 6\\nvalue = [6, 0, 0]'),\n",
       " Text(0.6, 0.55, 'x[2] <= 0.03\\ngini = 0.54\\nsamples = 10\\nvalue = [3, 1, 6]'),\n",
       " Text(0.5333333333333333, 0.45, 'gini = 0.0\\nsamples = 2\\nvalue = [2, 0, 0]'),\n",
       " Text(0.6666666666666666, 0.45, 'gini = 0.406\\nsamples = 8\\nvalue = [1, 1, 6]'),\n",
       " Text(0.8, 0.85, 'x[0] <= 0.045\\ngini = 0.6\\nsamples = 36\\nvalue = [5, 18, 13]'),\n",
       " Text(0.7333333333333333, 0.75, 'gini = 0.219\\nsamples = 8\\nvalue = [1, 7, 0]'),\n",
       " Text(0.8666666666666667, 0.75, 'x[0] <= 0.092\\ngini = 0.61\\nsamples = 28\\nvalue = [4, 11, 13]'),\n",
       " Text(0.8, 0.65, 'x[1] <= 0.616\\ngini = 0.595\\nsamples = 22\\nvalue = [4, 6, 12]'),\n",
       " Text(0.7333333333333333, 0.55, 'gini = 0.56\\nsamples = 20\\nvalue = [4, 4, 12]'),\n",
       " Text(0.8666666666666667, 0.55, 'gini = 0.0\\nsamples = 2\\nvalue = [0, 2, 0]'),\n",
       " Text(0.9333333333333333, 0.65, 'gini = 0.278\\nsamples = 6\\nvalue = [0, 5, 1]')]"
      ]
     },
     "execution_count": 84,
     "metadata": {},
     "output_type": "execute_result"
    },
    {
     "data": {
      "image/png": "[encoded data removed]",
      "text/plain": [
       "<Figure size 640x480 with 1 Axes>"
      ]
     },
     "metadata": {},
     "output_type": "display_data"
    }
   ],
   "source": [
    "from sklearn import tree\n",
    "tree.plot_tree(clf)"
   ]
  },
  {
   "cell_type": "code",
   "execution_count": null,
   "id": "4169fc7b",
   "metadata": {},
   "outputs": [],
   "source": []
  },
  {
   "cell_type": "code",
   "execution_count": 85,
   "id": "e71002c9",
   "metadata": {},
   "outputs": [],
   "source": [
    "from sklearn.neural_network import MLPClassifier\n",
    "clf = MLPClassifier( alpha=1e-5,\n",
    "           hidden_layer_sizes=(5,), random_state=0)\n"
   ]
  },
  {
   "cell_type": "code",
   "execution_count": 86,
   "id": "19e54fcb",
   "metadata": {},
   "outputs": [
    {
     "data": {
      "text/plain": [
       "0.3870967741935484"
      ]
     },
     "execution_count": 86,
     "metadata": {},
     "output_type": "execute_result"
    }
   ],
   "source": [
    "clf.fit(X_train, y_train)\n",
    "error = (y_pred != y_test).sum()/y_test.size\n",
    "error"
   ]
  },
  {
   "cell_type": "code",
   "execution_count": 87,
   "id": "006c15ef",
   "metadata": {},
   "outputs": [
    {
     "data": {
      "text/html": [
       "<div>\n",
       "<style scoped>\n",
       "    .dataframe tbody tr th:only-of-type {\n",
       "        vertical-align: middle;\n",
       "    }\n",
       "\n",
       "    .dataframe tbody tr th {\n",
       "        vertical-align: top;\n",
       "    }\n",
       "\n",
       "    .dataframe thead th {\n",
       "        text-align: right;\n",
       "    }\n",
       "</style>\n",
       "<table border=\"1\" class=\"dataframe\">\n",
       "  <thead>\n",
       "    <tr style=\"text-align: right;\">\n",
       "      <th></th>\n",
       "      <th>native English</th>\n",
       "      <th>Course instructor</th>\n",
       "      <th>Course</th>\n",
       "      <th>Summer semester</th>\n",
       "      <th>Class size</th>\n",
       "      <th>Class</th>\n",
       "    </tr>\n",
       "  </thead>\n",
       "  <tbody>\n",
       "    <tr>\n",
       "      <th>native English</th>\n",
       "      <td>1.000000</td>\n",
       "      <td>-0.250510</td>\n",
       "      <td>0.134660</td>\n",
       "      <td>0.214417</td>\n",
       "      <td>-0.151547</td>\n",
       "      <td>-0.255466</td>\n",
       "    </tr>\n",
       "    <tr>\n",
       "      <th>Course instructor</th>\n",
       "      <td>-0.250510</td>\n",
       "      <td>1.000000</td>\n",
       "      <td>-0.236010</td>\n",
       "      <td>-0.168573</td>\n",
       "      <td>-0.035765</td>\n",
       "      <td>0.075095</td>\n",
       "    </tr>\n",
       "    <tr>\n",
       "      <th>Course</th>\n",
       "      <td>0.134660</td>\n",
       "      <td>-0.236010</td>\n",
       "      <td>1.000000</td>\n",
       "      <td>0.224927</td>\n",
       "      <td>-0.033485</td>\n",
       "      <td>0.143103</td>\n",
       "    </tr>\n",
       "    <tr>\n",
       "      <th>Summer semester</th>\n",
       "      <td>0.214417</td>\n",
       "      <td>-0.168573</td>\n",
       "      <td>0.224927</td>\n",
       "      <td>1.000000</td>\n",
       "      <td>0.269554</td>\n",
       "      <td>-0.282742</td>\n",
       "    </tr>\n",
       "    <tr>\n",
       "      <th>Class size</th>\n",
       "      <td>-0.151547</td>\n",
       "      <td>-0.035765</td>\n",
       "      <td>-0.033485</td>\n",
       "      <td>0.269554</td>\n",
       "      <td>1.000000</td>\n",
       "      <td>-0.035676</td>\n",
       "    </tr>\n",
       "    <tr>\n",
       "      <th>Class</th>\n",
       "      <td>-0.255466</td>\n",
       "      <td>0.075095</td>\n",
       "      <td>0.143103</td>\n",
       "      <td>-0.282742</td>\n",
       "      <td>-0.035676</td>\n",
       "      <td>1.000000</td>\n",
       "    </tr>\n",
       "  </tbody>\n",
       "</table>\n",
       "</div>"
      ],
      "text/plain": [
       "                   native English  Course instructor    Course  \\\n",
       "native English           1.000000          -0.250510  0.134660   \n",
       "Course instructor       -0.250510           1.000000 -0.236010   \n",
       "Course                   0.134660          -0.236010  1.000000   \n",
       "Summer semester          0.214417          -0.168573  0.224927   \n",
       "Class size              -0.151547          -0.035765 -0.033485   \n",
       "Class                   -0.255466           0.075095  0.143103   \n",
       "\n",
       "                   Summer semester  Class size     Class  \n",
       "native English            0.214417   -0.151547 -0.255466  \n",
       "Course instructor        -0.168573   -0.035765  0.075095  \n",
       "Course                    0.224927   -0.033485  0.143103  \n",
       "Summer semester           1.000000    0.269554 -0.282742  \n",
       "Class size                0.269554    1.000000 -0.035676  \n",
       "Class                    -0.282742   -0.035676  1.000000  "
      ]
     },
     "execution_count": 87,
     "metadata": {},
     "output_type": "execute_result"
    }
   ],
   "source": [
    "df.corr()"
   ]
  },
  {
   "cell_type": "code",
   "execution_count": 88,
   "id": "2b8862a4",
   "metadata": {},
   "outputs": [
    {
     "name": "stdout",
     "output_type": "stream",
     "text": [
      "0    3\n",
      "1    3\n",
      "2    3\n",
      "3    3\n",
      "4    3\n",
      "Name: Class, dtype: int64\n",
      "     native English  Summer semester\n",
      "0                 1                1\n",
      "1                 2                1\n",
      "2                 1                2\n",
      "3                 1                2\n",
      "4                 2                2\n",
      "..              ...              ...\n",
      "146               2                2\n",
      "147               2                2\n",
      "148               1                2\n",
      "149               2                2\n",
      "150               2                2\n",
      "\n",
      "[151 rows x 2 columns]\n"
     ]
    }
   ],
   "source": [
    "X_copy_2 = df[['native English', 'Summer semester']]\n",
    "y_2 = df['Class']\n",
    "print(y_2.head())\n",
    "print(X_copy_2)"
   ]
  },
  {
   "cell_type": "code",
   "execution_count": 89,
   "id": "7472f44b",
   "metadata": {},
   "outputs": [],
   "source": [
    "X_train, X_test, y_train, y_test = train_test_split(X_copy_2, y_2, test_size=0.2, random_state=0)"
   ]
  },
  {
   "cell_type": "code",
   "execution_count": 90,
   "id": "4fd9c5e2",
   "metadata": {},
   "outputs": [],
   "source": [
    "model = CategoricalNB()\n"
   ]
  },
  {
   "cell_type": "code",
   "execution_count": 91,
   "id": "384777a3",
   "metadata": {},
   "outputs": [
    {
     "data": {
      "text/plain": [
       "0.3870967741935484"
      ]
     },
     "execution_count": 91,
     "metadata": {},
     "output_type": "execute_result"
    }
   ],
   "source": [
    "model.fit(X_train, y_train)\n",
    "error = (y_pred != y_test).sum()/y_test.size\n",
    "error"
   ]
  },
  {
   "cell_type": "code",
   "execution_count": 92,
   "id": "9d642e05",
   "metadata": {},
   "outputs": [
    {
     "data": {
      "text/plain": [
       "0.3870967741935484"
      ]
     },
     "execution_count": 92,
     "metadata": {},
     "output_type": "execute_result"
    }
   ],
   "source": [
    "clf = DecisionTreeClassifier(max_leaf_nodes= 3, random_state=0)\n",
    "clf.fit(X_train, y_train)\n",
    "error = (y_pred != y_test).sum()/y_test.size\n",
    "error"
   ]
  },
  {
   "cell_type": "code",
   "execution_count": 93,
   "id": "815185f7",
   "metadata": {},
   "outputs": [
    {
     "data": {
      "image/png": "[encoded data removed]",
      "text/plain": [
       "<Figure size 640x480 with 2 Axes>"
      ]
     },
     "metadata": {},
     "output_type": "display_data"
    }
   ],
   "source": [
    "disp = metrics.ConfusionMatrixDisplay.from_predictions(y_test, y_pred)\n",
    "plt.title(\"Matricea de confuzie\")\n",
    "plt.show()"
   ]
  },
  {
   "cell_type": "code",
   "execution_count": 94,
   "id": "cd03a0b9",
   "metadata": {},
   "outputs": [
    {
     "data": {
      "text/plain": [
       "[Text(0.4, 0.8333333333333334, 'x[0] <= 1.5\\ngini = 0.666\\nsamples = 120\\nvalue = [42, 38, 40]'),\n",
       " Text(0.2, 0.5, 'gini = 0.544\\nsamples = 21\\nvalue = [4, 4, 13]'),\n",
       " Text(0.6, 0.5, 'x[1] <= 1.5\\ngini = 0.66\\nsamples = 99\\nvalue = [38, 34, 27]'),\n",
       " Text(0.4, 0.16666666666666666, 'gini = 0.48\\nsamples = 10\\nvalue = [0, 4, 6]'),\n",
       " Text(0.8, 0.16666666666666666, 'gini = 0.648\\nsamples = 89\\nvalue = [38, 30, 21]')]"
      ]
     },
     "execution_count": 94,
     "metadata": {},
     "output_type": "execute_result"
    },
    {
     "data": {
      "image/png": "[encoded data removed]",
      "text/plain": [
       "<Figure size 640x480 with 1 Axes>"
      ]
     },
     "metadata": {},
     "output_type": "display_data"
    }
   ],
   "source": [
    "from sklearn import tree\n",
    "tree.plot_tree(clf)"
   ]
  },
  {
   "cell_type": "code",
   "execution_count": 95,
   "id": "c0a9ad3a",
   "metadata": {},
   "outputs": [
    {
     "data": {
      "text/plain": [
       "native English  Summer semester\n",
       "1               2                   5\n",
       "                1                   3\n",
       "2               2                  19\n",
       "                1                   4\n",
       "Name: count, dtype: int64"
      ]
     },
     "execution_count": 95,
     "metadata": {},
     "output_type": "execute_result"
    }
   ],
   "source": [
    "X_test.groupby('native English').value_counts()"
   ]
  },
  {
   "cell_type": "code",
   "execution_count": 96,
   "id": "f3ce8d76",
   "metadata": {},
   "outputs": [
    {
     "data": {
      "text/plain": [
       "114    1\n",
       "62     2\n",
       "33     1\n",
       "107    1\n",
       "7      3\n",
       "100    2\n",
       "40     3\n",
       "86     3\n",
       "76     1\n",
       "71     1\n",
       "134    2\n",
       "51     3\n",
       "73     1\n",
       "54     2\n",
       "63     2\n",
       "37     1\n",
       "78     3\n",
       "90     3\n",
       "45     3\n",
       "16     2\n",
       "121    3\n",
       "66     2\n",
       "24     2\n",
       "8      3\n",
       "126    3\n",
       "22     2\n",
       "44     3\n",
       "97     2\n",
       "93     3\n",
       "26     2\n",
       "137    2\n",
       "Name: Class, dtype: int64"
      ]
     },
     "execution_count": 96,
     "metadata": {},
     "output_type": "execute_result"
    }
   ],
   "source": [
    "y_test\n"
   ]
  },
  {
   "cell_type": "code",
   "execution_count": 97,
   "id": "4389c4f9",
   "metadata": {},
   "outputs": [
    {
     "data": {
      "text/plain": [
       "Class  native English  Summer semester\n",
       "1      2               2                  6\n",
       "       1               1                  1\n",
       "2      2               2                  9\n",
       "       1               2                  2\n",
       "       2               1                  1\n",
       "3      2               2                  4\n",
       "       1               2                  3\n",
       "       2               1                  3\n",
       "       1               1                  2\n",
       "Name: count, dtype: int64"
      ]
     },
     "execution_count": 97,
     "metadata": {},
     "output_type": "execute_result"
    }
   ],
   "source": [
    "df3 = pd.concat([X_test, y_test], axis = 1)\n",
    "df3\n",
    "df3.groupby('Class').value_counts()\n"
   ]
  },
  {
   "cell_type": "code",
   "execution_count": 98,
   "id": "44f3701c",
   "metadata": {},
   "outputs": [],
   "source": [
    "#df4 = pd.concat([X_test, y_pred], axis = 1)\n",
    "#df4.groupby('native English').value_counts()\n"
   ]
  },
  {
   "cell_type": "code",
   "execution_count": 99,
   "id": "b200aa38",
   "metadata": {},
   "outputs": [
    {
     "name": "stdout",
     "output_type": "stream",
     "text": [
      "The binary tree structure has 5 nodes and has the following tree structure:\n",
      "\n",
      "node=0 is a split node: go to node 1 if X[:, 0] <= 1.5 else to node 2.\n",
      "\tnode=1 is a leaf node.\n",
      "\tnode=2 is a split node: go to node 3 if X[:, 1] <= 1.5 else to node 4.\n",
      "\t\tnode=3 is a leaf node.\n",
      "\t\tnode=4 is a leaf node.\n"
     ]
    }
   ],
   "source": [
    "print_tree_explained(clf)"
   ]
  },
  {
   "cell_type": "markdown",
   "id": "f4d45d60",
   "metadata": {},
   "source": [
    "### Random Forest"
   ]
  },
  {
   "cell_type": "code",
   "execution_count": 100,
   "id": "41f15c6b",
   "metadata": {},
   "outputs": [],
   "source": [
    "X_train, X_test, y_train, y_test = train_test_split(X_copy, y, test_size=0.2, random_state=0)"
   ]
  },
  {
   "cell_type": "code",
   "execution_count": 101,
   "id": "f20a7d0a",
   "metadata": {},
   "outputs": [
    {
     "data": {
      "text/html": [
       "<div>\n",
       "<style scoped>\n",
       "    .dataframe tbody tr th:only-of-type {\n",
       "        vertical-align: middle;\n",
       "    }\n",
       "\n",
       "    .dataframe tbody tr th {\n",
       "        vertical-align: top;\n",
       "    }\n",
       "\n",
       "    .dataframe thead th {\n",
       "        text-align: right;\n",
       "    }\n",
       "</style>\n",
       "<table border=\"1\" class=\"dataframe\">\n",
       "  <thead>\n",
       "    <tr style=\"text-align: right;\">\n",
       "      <th></th>\n",
       "      <th>native English</th>\n",
       "      <th>Course instructor</th>\n",
       "      <th>Course</th>\n",
       "      <th>Summer semester</th>\n",
       "      <th>Class size</th>\n",
       "    </tr>\n",
       "  </thead>\n",
       "  <tbody>\n",
       "    <tr>\n",
       "      <th>114</th>\n",
       "      <td>2</td>\n",
       "      <td>12</td>\n",
       "      <td>7</td>\n",
       "      <td>2</td>\n",
       "      <td>34</td>\n",
       "    </tr>\n",
       "    <tr>\n",
       "      <th>62</th>\n",
       "      <td>2</td>\n",
       "      <td>1</td>\n",
       "      <td>15</td>\n",
       "      <td>1</td>\n",
       "      <td>22</td>\n",
       "    </tr>\n",
       "    <tr>\n",
       "      <th>33</th>\n",
       "      <td>1</td>\n",
       "      <td>13</td>\n",
       "      <td>3</td>\n",
       "      <td>1</td>\n",
       "      <td>13</td>\n",
       "    </tr>\n",
       "    <tr>\n",
       "      <th>107</th>\n",
       "      <td>2</td>\n",
       "      <td>20</td>\n",
       "      <td>2</td>\n",
       "      <td>2</td>\n",
       "      <td>14</td>\n",
       "    </tr>\n",
       "    <tr>\n",
       "      <th>7</th>\n",
       "      <td>2</td>\n",
       "      <td>10</td>\n",
       "      <td>3</td>\n",
       "      <td>2</td>\n",
       "      <td>27</td>\n",
       "    </tr>\n",
       "    <tr>\n",
       "      <th>100</th>\n",
       "      <td>1</td>\n",
       "      <td>6</td>\n",
       "      <td>17</td>\n",
       "      <td>2</td>\n",
       "      <td>35</td>\n",
       "    </tr>\n",
       "    <tr>\n",
       "      <th>40</th>\n",
       "      <td>2</td>\n",
       "      <td>15</td>\n",
       "      <td>3</td>\n",
       "      <td>1</td>\n",
       "      <td>17</td>\n",
       "    </tr>\n",
       "    <tr>\n",
       "      <th>86</th>\n",
       "      <td>2</td>\n",
       "      <td>23</td>\n",
       "      <td>3</td>\n",
       "      <td>1</td>\n",
       "      <td>20</td>\n",
       "    </tr>\n",
       "    <tr>\n",
       "      <th>76</th>\n",
       "      <td>2</td>\n",
       "      <td>5</td>\n",
       "      <td>2</td>\n",
       "      <td>2</td>\n",
       "      <td>48</td>\n",
       "    </tr>\n",
       "    <tr>\n",
       "      <th>71</th>\n",
       "      <td>2</td>\n",
       "      <td>13</td>\n",
       "      <td>1</td>\n",
       "      <td>2</td>\n",
       "      <td>31</td>\n",
       "    </tr>\n",
       "    <tr>\n",
       "      <th>134</th>\n",
       "      <td>2</td>\n",
       "      <td>9</td>\n",
       "      <td>24</td>\n",
       "      <td>2</td>\n",
       "      <td>20</td>\n",
       "    </tr>\n",
       "    <tr>\n",
       "      <th>51</th>\n",
       "      <td>2</td>\n",
       "      <td>18</td>\n",
       "      <td>21</td>\n",
       "      <td>2</td>\n",
       "      <td>29</td>\n",
       "    </tr>\n",
       "    <tr>\n",
       "      <th>73</th>\n",
       "      <td>2</td>\n",
       "      <td>5</td>\n",
       "      <td>2</td>\n",
       "      <td>2</td>\n",
       "      <td>37</td>\n",
       "    </tr>\n",
       "    <tr>\n",
       "      <th>54</th>\n",
       "      <td>2</td>\n",
       "      <td>6</td>\n",
       "      <td>17</td>\n",
       "      <td>2</td>\n",
       "      <td>43</td>\n",
       "    </tr>\n",
       "    <tr>\n",
       "      <th>63</th>\n",
       "      <td>2</td>\n",
       "      <td>15</td>\n",
       "      <td>13</td>\n",
       "      <td>2</td>\n",
       "      <td>37</td>\n",
       "    </tr>\n",
       "    <tr>\n",
       "      <th>37</th>\n",
       "      <td>2</td>\n",
       "      <td>5</td>\n",
       "      <td>2</td>\n",
       "      <td>2</td>\n",
       "      <td>48</td>\n",
       "    </tr>\n",
       "    <tr>\n",
       "      <th>78</th>\n",
       "      <td>1</td>\n",
       "      <td>23</td>\n",
       "      <td>3</td>\n",
       "      <td>1</td>\n",
       "      <td>25</td>\n",
       "    </tr>\n",
       "    <tr>\n",
       "      <th>90</th>\n",
       "      <td>1</td>\n",
       "      <td>17</td>\n",
       "      <td>17</td>\n",
       "      <td>2</td>\n",
       "      <td>19</td>\n",
       "    </tr>\n",
       "    <tr>\n",
       "      <th>45</th>\n",
       "      <td>2</td>\n",
       "      <td>9</td>\n",
       "      <td>5</td>\n",
       "      <td>2</td>\n",
       "      <td>19</td>\n",
       "    </tr>\n",
       "    <tr>\n",
       "      <th>16</th>\n",
       "      <td>2</td>\n",
       "      <td>7</td>\n",
       "      <td>11</td>\n",
       "      <td>2</td>\n",
       "      <td>10</td>\n",
       "    </tr>\n",
       "    <tr>\n",
       "      <th>121</th>\n",
       "      <td>2</td>\n",
       "      <td>13</td>\n",
       "      <td>14</td>\n",
       "      <td>2</td>\n",
       "      <td>17</td>\n",
       "    </tr>\n",
       "    <tr>\n",
       "      <th>66</th>\n",
       "      <td>2</td>\n",
       "      <td>14</td>\n",
       "      <td>15</td>\n",
       "      <td>2</td>\n",
       "      <td>38</td>\n",
       "    </tr>\n",
       "    <tr>\n",
       "      <th>24</th>\n",
       "      <td>2</td>\n",
       "      <td>15</td>\n",
       "      <td>13</td>\n",
       "      <td>2</td>\n",
       "      <td>37</td>\n",
       "    </tr>\n",
       "    <tr>\n",
       "      <th>8</th>\n",
       "      <td>1</td>\n",
       "      <td>22</td>\n",
       "      <td>3</td>\n",
       "      <td>1</td>\n",
       "      <td>58</td>\n",
       "    </tr>\n",
       "    <tr>\n",
       "      <th>126</th>\n",
       "      <td>1</td>\n",
       "      <td>8</td>\n",
       "      <td>3</td>\n",
       "      <td>2</td>\n",
       "      <td>29</td>\n",
       "    </tr>\n",
       "    <tr>\n",
       "      <th>22</th>\n",
       "      <td>2</td>\n",
       "      <td>2</td>\n",
       "      <td>9</td>\n",
       "      <td>2</td>\n",
       "      <td>31</td>\n",
       "    </tr>\n",
       "    <tr>\n",
       "      <th>44</th>\n",
       "      <td>2</td>\n",
       "      <td>23</td>\n",
       "      <td>3</td>\n",
       "      <td>1</td>\n",
       "      <td>20</td>\n",
       "    </tr>\n",
       "    <tr>\n",
       "      <th>97</th>\n",
       "      <td>1</td>\n",
       "      <td>22</td>\n",
       "      <td>13</td>\n",
       "      <td>2</td>\n",
       "      <td>27</td>\n",
       "    </tr>\n",
       "    <tr>\n",
       "      <th>93</th>\n",
       "      <td>1</td>\n",
       "      <td>17</td>\n",
       "      <td>17</td>\n",
       "      <td>2</td>\n",
       "      <td>31</td>\n",
       "    </tr>\n",
       "    <tr>\n",
       "      <th>26</th>\n",
       "      <td>2</td>\n",
       "      <td>8</td>\n",
       "      <td>3</td>\n",
       "      <td>2</td>\n",
       "      <td>24</td>\n",
       "    </tr>\n",
       "    <tr>\n",
       "      <th>137</th>\n",
       "      <td>2</td>\n",
       "      <td>22</td>\n",
       "      <td>1</td>\n",
       "      <td>2</td>\n",
       "      <td>42</td>\n",
       "    </tr>\n",
       "  </tbody>\n",
       "</table>\n",
       "</div>"
      ],
      "text/plain": [
       "     native English  Course instructor  Course  Summer semester  Class size\n",
       "114               2                 12       7                2          34\n",
       "62                2                  1      15                1          22\n",
       "33                1                 13       3                1          13\n",
       "107               2                 20       2                2          14\n",
       "7                 2                 10       3                2          27\n",
       "100               1                  6      17                2          35\n",
       "40                2                 15       3                1          17\n",
       "86                2                 23       3                1          20\n",
       "76                2                  5       2                2          48\n",
       "71                2                 13       1                2          31\n",
       "134               2                  9      24                2          20\n",
       "51                2                 18      21                2          29\n",
       "73                2                  5       2                2          37\n",
       "54                2                  6      17                2          43\n",
       "63                2                 15      13                2          37\n",
       "37                2                  5       2                2          48\n",
       "78                1                 23       3                1          25\n",
       "90                1                 17      17                2          19\n",
       "45                2                  9       5                2          19\n",
       "16                2                  7      11                2          10\n",
       "121               2                 13      14                2          17\n",
       "66                2                 14      15                2          38\n",
       "24                2                 15      13                2          37\n",
       "8                 1                 22       3                1          58\n",
       "126               1                  8       3                2          29\n",
       "22                2                  2       9                2          31\n",
       "44                2                 23       3                1          20\n",
       "97                1                 22      13                2          27\n",
       "93                1                 17      17                2          31\n",
       "26                2                  8       3                2          24\n",
       "137               2                 22       1                2          42"
      ]
     },
     "execution_count": 101,
     "metadata": {},
     "output_type": "execute_result"
    }
   ],
   "source": [
    "from sklearn.ensemble import RandomForestClassifier\n",
    "\n",
    "model = RandomForestClassifier(random_state=0)\n",
    "model.fit(X_train, y_train)\n",
    "y_pred =  model.predict(X_test)\n",
    "error = (y_pred != y_test).sum()/y_test.size\n",
    "error\n",
    "X_test"
   ]
  },
  {
   "cell_type": "code",
   "execution_count": 106,
   "id": "af740757",
   "metadata": {},
   "outputs": [
    {
     "data": {
      "text/plain": [
       "array([3], dtype=int64)"
      ]
     },
     "execution_count": 106,
     "metadata": {},
     "output_type": "execute_result"
    }
   ],
   "source": [
    "exemplu_nou = [1, 15, 3, 1,25]\n",
    "model.predict([[1, 12, 3, 1,25]])"
   ]
  },
  {
   "cell_type": "markdown",
   "id": "ea5ca5a5",
   "metadata": {},
   "source": [
    "### Support Vector Machine"
   ]
  },
  {
   "cell_type": "code",
   "execution_count": null,
   "id": "0ac3cc26",
   "metadata": {},
   "outputs": [],
   "source": []
  },
  {
   "cell_type": "code",
   "execution_count": 103,
   "id": "a1764238",
   "metadata": {},
   "outputs": [
    {
     "data": {
      "text/plain": [
       "0.5161290322580645"
      ]
     },
     "execution_count": 103,
     "metadata": {},
     "output_type": "execute_result"
    }
   ],
   "source": [
    "X_train, X_test, y_train, y_test = train_test_split(X_copy, y, test_size=0.2, random_state=0)\n",
    "\n",
    "model = svm.LinearSVC(random_state=0)\n",
    "model.fit(X_train,y_train)\n",
    "y_pred = model.predict(X_test)\n",
    "\n",
    "error = (y_pred != y_test).sum()/y_test.size\n",
    "error"
   ]
  },
  {
   "cell_type": "code",
   "execution_count": 104,
   "id": "775553a8",
   "metadata": {},
   "outputs": [
    {
     "data": {
      "text/plain": [
       "0.41935483870967744"
      ]
     },
     "execution_count": 104,
     "metadata": {},
     "output_type": "execute_result"
    }
   ],
   "source": [
    "from sklearn.svm import SVC\n",
    "\n",
    "model = SVC(kernel='linear', random_state = 0)\n",
    " \n",
    "model.fit(X_train,y_train)\n",
    "y_pred = model.predict(X_test)\n",
    "\n",
    "error = (y_pred != y_test).sum()/y_test.size\n",
    "error"
   ]
  },
  {
   "cell_type": "code",
   "execution_count": 105,
   "id": "dd212daa",
   "metadata": {},
   "outputs": [
    {
     "data": {
      "text/plain": [
       "0.3870967741935484"
      ]
     },
     "execution_count": 105,
     "metadata": {},
     "output_type": "execute_result"
    }
   ],
   "source": [
    "from sklearn.linear_model import LogisticRegression\n",
    "from sklearn.model_selection import train_test_split\n",
    "X_train, X_test, y_train, y_test = train_test_split(X_copy, y, test_size=0.2, random_state=0)\n",
    "model = LogisticRegression( random_state = 0)\n",
    " \n",
    "model.fit(X_train,y_train)\n",
    "y_pred = model.predict(X_test)\n",
    "\n",
    "error = (y_pred != y_test).sum()/y_test.size\n",
    "error"
   ]
  },
  {
   "cell_type": "code",
   "execution_count": null,
   "id": "30b27455",
   "metadata": {},
   "outputs": [],
   "source": []
  },
  {
   "cell_type": "code",
   "execution_count": null,
   "id": "d1e4906a",
   "metadata": {},
   "outputs": [],
   "source": []
  }
 ],
 "metadata": {
  "kernelspec": {
   "display_name": "Python 3 (ipykernel)",
   "language": "python",
   "name": "python3"
  },
  "language_info": {
   "codemirror_mode": {
    "name": "ipython",
    "version": 3
   },
   "file_extension": ".py",
   "mimetype": "text/x-python",
   "name": "python",
   "nbconvert_exporter": "python",
   "pygments_lexer": "ipython3",
   "version": "3.11.5"
  }
 },
 "nbformat": 4,
 "nbformat_minor": 5
}
