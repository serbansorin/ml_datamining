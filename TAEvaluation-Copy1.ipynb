{
 "cells": [
  {
   "cell_type": "markdown",
   "id": "e257a3d5",
   "metadata": {},
   "source": [
    "# TA Evaluation"
   ]
  },
  {
   "cell_type": "code",
   "execution_count": 1,
   "id": "12e27be1",
   "metadata": {},
   "outputs": [],
   "source": [
    "import numpy as np\n",
    "import pandas as pd\n",
    "\n",
    "import warnings\n",
    "warnings.simplefilter('ignore')\n",
    "\n",
    "import seaborn as sns"
   ]
  },
  {
   "cell_type": "markdown",
   "id": "72865e32",
   "metadata": {},
   "source": [
    "Utilizarea si a altor clasificatori"
   ]
  },
  {
   "cell_type": "markdown",
   "id": "ecbca41b",
   "metadata": {},
   "source": [
    "\n",
    " Attribute Information:\n",
    "  \n",
    "   1. Whether of not the TA is a native English speaker (binary)\n",
    "      1=English speaker, 2=non-English speaker\n",
    "   2. Course instructor (categorical, 25 categories)\n",
    "   3. Course (categorical, 26 categories)\n",
    "   4. Summer or regular semester (binary) 1=Summer, 2=Regular\n",
    "   5. Class size (numerical)\n",
    "   6. Class attribute (categorical) 1=Low, 2=Medium, 3=High\n",
    "\n",
    "8. Missing Attribute Values: None\n",
    "\n",
    "https://archive.ics.uci.edu/ml/datasets/teaching+assistant+evaluation\n",
    "\n",
    "https://archive.ics.uci.edu/dataset/100/teaching+assistant+evaluation\n"
   ]
  },
  {
   "cell_type": "code",
   "execution_count": 2,
   "id": "15c43cdc",
   "metadata": {},
   "outputs": [
    {
     "ename": "ConnectTimeout",
     "evalue": "HTTPSConnectionPool(host='archive.ics.uci.edu', port=443): Max retries exceeded with url: /static/public/100/teaching+assistant+evaluation.zip (Caused by ConnectTimeoutError(<urllib3.connection.HTTPSConnection object at 0x000001159DB73A90>, 'Connection to archive.ics.uci.edu timed out. (connect timeout=None)'))",
     "output_type": "error",
     "traceback": [
      "\u001b[1;31m---------------------------------------------------------------------------\u001b[0m",
      "\u001b[1;31mTimeoutError\u001b[0m                              Traceback (most recent call last)",
      "File \u001b[1;32mC:\\ProgramData\\anaconda3\\Lib\\site-packages\\urllib3\\connection.py:174\u001b[0m, in \u001b[0;36mHTTPConnection._new_conn\u001b[1;34m(self)\u001b[0m\n\u001b[0;32m    173\u001b[0m \u001b[38;5;28;01mtry\u001b[39;00m:\n\u001b[1;32m--> 174\u001b[0m     conn \u001b[38;5;241m=\u001b[39m connection\u001b[38;5;241m.\u001b[39mcreate_connection(\n\u001b[0;32m    175\u001b[0m         (\u001b[38;5;28mself\u001b[39m\u001b[38;5;241m.\u001b[39m_dns_host, \u001b[38;5;28mself\u001b[39m\u001b[38;5;241m.\u001b[39mport), \u001b[38;5;28mself\u001b[39m\u001b[38;5;241m.\u001b[39mtimeout, \u001b[38;5;241m*\u001b[39m\u001b[38;5;241m*\u001b[39mextra_kw\n\u001b[0;32m    176\u001b[0m     )\n\u001b[0;32m    178\u001b[0m \u001b[38;5;28;01mexcept\u001b[39;00m SocketTimeout:\n",
      "File \u001b[1;32mC:\\ProgramData\\anaconda3\\Lib\\site-packages\\urllib3\\util\\connection.py:95\u001b[0m, in \u001b[0;36mcreate_connection\u001b[1;34m(address, timeout, source_address, socket_options)\u001b[0m\n\u001b[0;32m     94\u001b[0m \u001b[38;5;28;01mif\u001b[39;00m err \u001b[38;5;129;01mis\u001b[39;00m \u001b[38;5;129;01mnot\u001b[39;00m \u001b[38;5;28;01mNone\u001b[39;00m:\n\u001b[1;32m---> 95\u001b[0m     \u001b[38;5;28;01mraise\u001b[39;00m err\n\u001b[0;32m     97\u001b[0m \u001b[38;5;28;01mraise\u001b[39;00m socket\u001b[38;5;241m.\u001b[39merror(\u001b[38;5;124m\"\u001b[39m\u001b[38;5;124mgetaddrinfo returns an empty list\u001b[39m\u001b[38;5;124m\"\u001b[39m)\n",
      "File \u001b[1;32mC:\\ProgramData\\anaconda3\\Lib\\site-packages\\urllib3\\util\\connection.py:85\u001b[0m, in \u001b[0;36mcreate_connection\u001b[1;34m(address, timeout, source_address, socket_options)\u001b[0m\n\u001b[0;32m     84\u001b[0m     sock\u001b[38;5;241m.\u001b[39mbind(source_address)\n\u001b[1;32m---> 85\u001b[0m sock\u001b[38;5;241m.\u001b[39mconnect(sa)\n\u001b[0;32m     86\u001b[0m \u001b[38;5;28;01mreturn\u001b[39;00m sock\n",
      "\u001b[1;31mTimeoutError\u001b[0m: [WinError 10060] A connection attempt failed because the connected party did not properly respond after a period of time, or established connection failed because connected host has failed to respond",
      "\nDuring handling of the above exception, another exception occurred:\n",
      "\u001b[1;31mConnectTimeoutError\u001b[0m                       Traceback (most recent call last)",
      "File \u001b[1;32mC:\\ProgramData\\anaconda3\\Lib\\site-packages\\urllib3\\connectionpool.py:714\u001b[0m, in \u001b[0;36mHTTPConnectionPool.urlopen\u001b[1;34m(self, method, url, body, headers, retries, redirect, assert_same_host, timeout, pool_timeout, release_conn, chunked, body_pos, **response_kw)\u001b[0m\n\u001b[0;32m    713\u001b[0m \u001b[38;5;66;03m# Make the request on the httplib connection object.\u001b[39;00m\n\u001b[1;32m--> 714\u001b[0m httplib_response \u001b[38;5;241m=\u001b[39m \u001b[38;5;28mself\u001b[39m\u001b[38;5;241m.\u001b[39m_make_request(\n\u001b[0;32m    715\u001b[0m     conn,\n\u001b[0;32m    716\u001b[0m     method,\n\u001b[0;32m    717\u001b[0m     url,\n\u001b[0;32m    718\u001b[0m     timeout\u001b[38;5;241m=\u001b[39mtimeout_obj,\n\u001b[0;32m    719\u001b[0m     body\u001b[38;5;241m=\u001b[39mbody,\n\u001b[0;32m    720\u001b[0m     headers\u001b[38;5;241m=\u001b[39mheaders,\n\u001b[0;32m    721\u001b[0m     chunked\u001b[38;5;241m=\u001b[39mchunked,\n\u001b[0;32m    722\u001b[0m )\n\u001b[0;32m    724\u001b[0m \u001b[38;5;66;03m# If we're going to release the connection in ``finally:``, then\u001b[39;00m\n\u001b[0;32m    725\u001b[0m \u001b[38;5;66;03m# the response doesn't need to know about the connection. Otherwise\u001b[39;00m\n\u001b[0;32m    726\u001b[0m \u001b[38;5;66;03m# it will also try to release it and we'll have a double-release\u001b[39;00m\n\u001b[0;32m    727\u001b[0m \u001b[38;5;66;03m# mess.\u001b[39;00m\n",
      "File \u001b[1;32mC:\\ProgramData\\anaconda3\\Lib\\site-packages\\urllib3\\connectionpool.py:403\u001b[0m, in \u001b[0;36mHTTPConnectionPool._make_request\u001b[1;34m(self, conn, method, url, timeout, chunked, **httplib_request_kw)\u001b[0m\n\u001b[0;32m    402\u001b[0m \u001b[38;5;28;01mtry\u001b[39;00m:\n\u001b[1;32m--> 403\u001b[0m     \u001b[38;5;28mself\u001b[39m\u001b[38;5;241m.\u001b[39m_validate_conn(conn)\n\u001b[0;32m    404\u001b[0m \u001b[38;5;28;01mexcept\u001b[39;00m (SocketTimeout, BaseSSLError) \u001b[38;5;28;01mas\u001b[39;00m e:\n\u001b[0;32m    405\u001b[0m     \u001b[38;5;66;03m# Py2 raises this as a BaseSSLError, Py3 raises it as socket timeout.\u001b[39;00m\n",
      "File \u001b[1;32mC:\\ProgramData\\anaconda3\\Lib\\site-packages\\urllib3\\connectionpool.py:1053\u001b[0m, in \u001b[0;36mHTTPSConnectionPool._validate_conn\u001b[1;34m(self, conn)\u001b[0m\n\u001b[0;32m   1052\u001b[0m \u001b[38;5;28;01mif\u001b[39;00m \u001b[38;5;129;01mnot\u001b[39;00m \u001b[38;5;28mgetattr\u001b[39m(conn, \u001b[38;5;124m\"\u001b[39m\u001b[38;5;124msock\u001b[39m\u001b[38;5;124m\"\u001b[39m, \u001b[38;5;28;01mNone\u001b[39;00m):  \u001b[38;5;66;03m# AppEngine might not have  `.sock`\u001b[39;00m\n\u001b[1;32m-> 1053\u001b[0m     conn\u001b[38;5;241m.\u001b[39mconnect()\n\u001b[0;32m   1055\u001b[0m \u001b[38;5;28;01mif\u001b[39;00m \u001b[38;5;129;01mnot\u001b[39;00m conn\u001b[38;5;241m.\u001b[39mis_verified:\n",
      "File \u001b[1;32mC:\\ProgramData\\anaconda3\\Lib\\site-packages\\urllib3\\connection.py:363\u001b[0m, in \u001b[0;36mHTTPSConnection.connect\u001b[1;34m(self)\u001b[0m\n\u001b[0;32m    361\u001b[0m \u001b[38;5;28;01mdef\u001b[39;00m \u001b[38;5;21mconnect\u001b[39m(\u001b[38;5;28mself\u001b[39m):\n\u001b[0;32m    362\u001b[0m     \u001b[38;5;66;03m# Add certificate verification\u001b[39;00m\n\u001b[1;32m--> 363\u001b[0m     \u001b[38;5;28mself\u001b[39m\u001b[38;5;241m.\u001b[39msock \u001b[38;5;241m=\u001b[39m conn \u001b[38;5;241m=\u001b[39m \u001b[38;5;28mself\u001b[39m\u001b[38;5;241m.\u001b[39m_new_conn()\n\u001b[0;32m    364\u001b[0m     hostname \u001b[38;5;241m=\u001b[39m \u001b[38;5;28mself\u001b[39m\u001b[38;5;241m.\u001b[39mhost\n",
      "File \u001b[1;32mC:\\ProgramData\\anaconda3\\Lib\\site-packages\\urllib3\\connection.py:179\u001b[0m, in \u001b[0;36mHTTPConnection._new_conn\u001b[1;34m(self)\u001b[0m\n\u001b[0;32m    178\u001b[0m \u001b[38;5;28;01mexcept\u001b[39;00m SocketTimeout:\n\u001b[1;32m--> 179\u001b[0m     \u001b[38;5;28;01mraise\u001b[39;00m ConnectTimeoutError(\n\u001b[0;32m    180\u001b[0m         \u001b[38;5;28mself\u001b[39m,\n\u001b[0;32m    181\u001b[0m         \u001b[38;5;124m\"\u001b[39m\u001b[38;5;124mConnection to \u001b[39m\u001b[38;5;132;01m%s\u001b[39;00m\u001b[38;5;124m timed out. (connect timeout=\u001b[39m\u001b[38;5;132;01m%s\u001b[39;00m\u001b[38;5;124m)\u001b[39m\u001b[38;5;124m\"\u001b[39m\n\u001b[0;32m    182\u001b[0m         \u001b[38;5;241m%\u001b[39m (\u001b[38;5;28mself\u001b[39m\u001b[38;5;241m.\u001b[39mhost, \u001b[38;5;28mself\u001b[39m\u001b[38;5;241m.\u001b[39mtimeout),\n\u001b[0;32m    183\u001b[0m     )\n\u001b[0;32m    185\u001b[0m \u001b[38;5;28;01mexcept\u001b[39;00m SocketError \u001b[38;5;28;01mas\u001b[39;00m e:\n",
      "\u001b[1;31mConnectTimeoutError\u001b[0m: (<urllib3.connection.HTTPSConnection object at 0x000001159DB73A90>, 'Connection to archive.ics.uci.edu timed out. (connect timeout=None)')",
      "\nDuring handling of the above exception, another exception occurred:\n",
      "\u001b[1;31mMaxRetryError\u001b[0m                             Traceback (most recent call last)",
      "File \u001b[1;32mC:\\ProgramData\\anaconda3\\Lib\\site-packages\\requests\\adapters.py:486\u001b[0m, in \u001b[0;36mHTTPAdapter.send\u001b[1;34m(self, request, stream, timeout, verify, cert, proxies)\u001b[0m\n\u001b[0;32m    485\u001b[0m \u001b[38;5;28;01mtry\u001b[39;00m:\n\u001b[1;32m--> 486\u001b[0m     resp \u001b[38;5;241m=\u001b[39m conn\u001b[38;5;241m.\u001b[39murlopen(\n\u001b[0;32m    487\u001b[0m         method\u001b[38;5;241m=\u001b[39mrequest\u001b[38;5;241m.\u001b[39mmethod,\n\u001b[0;32m    488\u001b[0m         url\u001b[38;5;241m=\u001b[39murl,\n\u001b[0;32m    489\u001b[0m         body\u001b[38;5;241m=\u001b[39mrequest\u001b[38;5;241m.\u001b[39mbody,\n\u001b[0;32m    490\u001b[0m         headers\u001b[38;5;241m=\u001b[39mrequest\u001b[38;5;241m.\u001b[39mheaders,\n\u001b[0;32m    491\u001b[0m         redirect\u001b[38;5;241m=\u001b[39m\u001b[38;5;28;01mFalse\u001b[39;00m,\n\u001b[0;32m    492\u001b[0m         assert_same_host\u001b[38;5;241m=\u001b[39m\u001b[38;5;28;01mFalse\u001b[39;00m,\n\u001b[0;32m    493\u001b[0m         preload_content\u001b[38;5;241m=\u001b[39m\u001b[38;5;28;01mFalse\u001b[39;00m,\n\u001b[0;32m    494\u001b[0m         decode_content\u001b[38;5;241m=\u001b[39m\u001b[38;5;28;01mFalse\u001b[39;00m,\n\u001b[0;32m    495\u001b[0m         retries\u001b[38;5;241m=\u001b[39m\u001b[38;5;28mself\u001b[39m\u001b[38;5;241m.\u001b[39mmax_retries,\n\u001b[0;32m    496\u001b[0m         timeout\u001b[38;5;241m=\u001b[39mtimeout,\n\u001b[0;32m    497\u001b[0m         chunked\u001b[38;5;241m=\u001b[39mchunked,\n\u001b[0;32m    498\u001b[0m     )\n\u001b[0;32m    500\u001b[0m \u001b[38;5;28;01mexcept\u001b[39;00m (ProtocolError, \u001b[38;5;167;01mOSError\u001b[39;00m) \u001b[38;5;28;01mas\u001b[39;00m err:\n",
      "File \u001b[1;32mC:\\ProgramData\\anaconda3\\Lib\\site-packages\\urllib3\\connectionpool.py:798\u001b[0m, in \u001b[0;36mHTTPConnectionPool.urlopen\u001b[1;34m(self, method, url, body, headers, retries, redirect, assert_same_host, timeout, pool_timeout, release_conn, chunked, body_pos, **response_kw)\u001b[0m\n\u001b[0;32m    796\u001b[0m     e \u001b[38;5;241m=\u001b[39m ProtocolError(\u001b[38;5;124m\"\u001b[39m\u001b[38;5;124mConnection aborted.\u001b[39m\u001b[38;5;124m\"\u001b[39m, e)\n\u001b[1;32m--> 798\u001b[0m retries \u001b[38;5;241m=\u001b[39m retries\u001b[38;5;241m.\u001b[39mincrement(\n\u001b[0;32m    799\u001b[0m     method, url, error\u001b[38;5;241m=\u001b[39me, _pool\u001b[38;5;241m=\u001b[39m\u001b[38;5;28mself\u001b[39m, _stacktrace\u001b[38;5;241m=\u001b[39msys\u001b[38;5;241m.\u001b[39mexc_info()[\u001b[38;5;241m2\u001b[39m]\n\u001b[0;32m    800\u001b[0m )\n\u001b[0;32m    801\u001b[0m retries\u001b[38;5;241m.\u001b[39msleep()\n",
      "File \u001b[1;32mC:\\ProgramData\\anaconda3\\Lib\\site-packages\\urllib3\\util\\retry.py:592\u001b[0m, in \u001b[0;36mRetry.increment\u001b[1;34m(self, method, url, response, error, _pool, _stacktrace)\u001b[0m\n\u001b[0;32m    591\u001b[0m \u001b[38;5;28;01mif\u001b[39;00m new_retry\u001b[38;5;241m.\u001b[39mis_exhausted():\n\u001b[1;32m--> 592\u001b[0m     \u001b[38;5;28;01mraise\u001b[39;00m MaxRetryError(_pool, url, error \u001b[38;5;129;01mor\u001b[39;00m ResponseError(cause))\n\u001b[0;32m    594\u001b[0m log\u001b[38;5;241m.\u001b[39mdebug(\u001b[38;5;124m\"\u001b[39m\u001b[38;5;124mIncremented Retry for (url=\u001b[39m\u001b[38;5;124m'\u001b[39m\u001b[38;5;132;01m%s\u001b[39;00m\u001b[38;5;124m'\u001b[39m\u001b[38;5;124m): \u001b[39m\u001b[38;5;132;01m%r\u001b[39;00m\u001b[38;5;124m\"\u001b[39m, url, new_retry)\n",
      "\u001b[1;31mMaxRetryError\u001b[0m: HTTPSConnectionPool(host='archive.ics.uci.edu', port=443): Max retries exceeded with url: /static/public/100/teaching+assistant+evaluation.zip (Caused by ConnectTimeoutError(<urllib3.connection.HTTPSConnection object at 0x000001159DB73A90>, 'Connection to archive.ics.uci.edu timed out. (connect timeout=None)'))",
      "\nDuring handling of the above exception, another exception occurred:\n",
      "\u001b[1;31mConnectTimeout\u001b[0m                            Traceback (most recent call last)",
      "Cell \u001b[1;32mIn[2], line 7\u001b[0m\n\u001b[0;32m      4\u001b[0m \u001b[38;5;28;01mimport\u001b[39;00m \u001b[38;5;21;01mrequests\u001b[39;00m\u001b[38;5;241m,\u001b[39m \u001b[38;5;21;01mio\u001b[39;00m\n\u001b[0;32m      6\u001b[0m url \u001b[38;5;241m=\u001b[39m \u001b[38;5;124m\"\u001b[39m\u001b[38;5;124mhttps://archive.ics.uci.edu/static/public/100/teaching+assistant+evaluation.zip\u001b[39m\u001b[38;5;124m\"\u001b[39m\n\u001b[1;32m----> 7\u001b[0m r \u001b[38;5;241m=\u001b[39m requests\u001b[38;5;241m.\u001b[39mget(url, stream \u001b[38;5;241m=\u001b[39m \u001b[38;5;28;01mTrue\u001b[39;00m)\n\u001b[0;32m      8\u001b[0m zf \u001b[38;5;241m=\u001b[39m ZipFile(io\u001b[38;5;241m.\u001b[39mBytesIO(r\u001b[38;5;241m.\u001b[39mcontent))\n\u001b[0;32m      9\u001b[0m zf\u001b[38;5;241m.\u001b[39mextractall()\n",
      "File \u001b[1;32mC:\\ProgramData\\anaconda3\\Lib\\site-packages\\requests\\api.py:73\u001b[0m, in \u001b[0;36mget\u001b[1;34m(url, params, **kwargs)\u001b[0m\n\u001b[0;32m     62\u001b[0m \u001b[38;5;28;01mdef\u001b[39;00m \u001b[38;5;21mget\u001b[39m(url, params\u001b[38;5;241m=\u001b[39m\u001b[38;5;28;01mNone\u001b[39;00m, \u001b[38;5;241m*\u001b[39m\u001b[38;5;241m*\u001b[39mkwargs):\n\u001b[0;32m     63\u001b[0m \u001b[38;5;250m    \u001b[39m\u001b[38;5;124mr\u001b[39m\u001b[38;5;124;03m\"\"\"Sends a GET request.\u001b[39;00m\n\u001b[0;32m     64\u001b[0m \n\u001b[0;32m     65\u001b[0m \u001b[38;5;124;03m    :param url: URL for the new :class:`Request` object.\u001b[39;00m\n\u001b[1;32m   (...)\u001b[0m\n\u001b[0;32m     70\u001b[0m \u001b[38;5;124;03m    :rtype: requests.Response\u001b[39;00m\n\u001b[0;32m     71\u001b[0m \u001b[38;5;124;03m    \"\"\"\u001b[39;00m\n\u001b[1;32m---> 73\u001b[0m     \u001b[38;5;28;01mreturn\u001b[39;00m request(\u001b[38;5;124m\"\u001b[39m\u001b[38;5;124mget\u001b[39m\u001b[38;5;124m\"\u001b[39m, url, params\u001b[38;5;241m=\u001b[39mparams, \u001b[38;5;241m*\u001b[39m\u001b[38;5;241m*\u001b[39mkwargs)\n",
      "File \u001b[1;32mC:\\ProgramData\\anaconda3\\Lib\\site-packages\\requests\\api.py:59\u001b[0m, in \u001b[0;36mrequest\u001b[1;34m(method, url, **kwargs)\u001b[0m\n\u001b[0;32m     55\u001b[0m \u001b[38;5;66;03m# By using the 'with' statement we are sure the session is closed, thus we\u001b[39;00m\n\u001b[0;32m     56\u001b[0m \u001b[38;5;66;03m# avoid leaving sockets open which can trigger a ResourceWarning in some\u001b[39;00m\n\u001b[0;32m     57\u001b[0m \u001b[38;5;66;03m# cases, and look like a memory leak in others.\u001b[39;00m\n\u001b[0;32m     58\u001b[0m \u001b[38;5;28;01mwith\u001b[39;00m sessions\u001b[38;5;241m.\u001b[39mSession() \u001b[38;5;28;01mas\u001b[39;00m session:\n\u001b[1;32m---> 59\u001b[0m     \u001b[38;5;28;01mreturn\u001b[39;00m session\u001b[38;5;241m.\u001b[39mrequest(method\u001b[38;5;241m=\u001b[39mmethod, url\u001b[38;5;241m=\u001b[39murl, \u001b[38;5;241m*\u001b[39m\u001b[38;5;241m*\u001b[39mkwargs)\n",
      "File \u001b[1;32mC:\\ProgramData\\anaconda3\\Lib\\site-packages\\requests\\sessions.py:589\u001b[0m, in \u001b[0;36mSession.request\u001b[1;34m(self, method, url, params, data, headers, cookies, files, auth, timeout, allow_redirects, proxies, hooks, stream, verify, cert, json)\u001b[0m\n\u001b[0;32m    584\u001b[0m send_kwargs \u001b[38;5;241m=\u001b[39m {\n\u001b[0;32m    585\u001b[0m     \u001b[38;5;124m\"\u001b[39m\u001b[38;5;124mtimeout\u001b[39m\u001b[38;5;124m\"\u001b[39m: timeout,\n\u001b[0;32m    586\u001b[0m     \u001b[38;5;124m\"\u001b[39m\u001b[38;5;124mallow_redirects\u001b[39m\u001b[38;5;124m\"\u001b[39m: allow_redirects,\n\u001b[0;32m    587\u001b[0m }\n\u001b[0;32m    588\u001b[0m send_kwargs\u001b[38;5;241m.\u001b[39mupdate(settings)\n\u001b[1;32m--> 589\u001b[0m resp \u001b[38;5;241m=\u001b[39m \u001b[38;5;28mself\u001b[39m\u001b[38;5;241m.\u001b[39msend(prep, \u001b[38;5;241m*\u001b[39m\u001b[38;5;241m*\u001b[39msend_kwargs)\n\u001b[0;32m    591\u001b[0m \u001b[38;5;28;01mreturn\u001b[39;00m resp\n",
      "File \u001b[1;32mC:\\ProgramData\\anaconda3\\Lib\\site-packages\\requests\\sessions.py:703\u001b[0m, in \u001b[0;36mSession.send\u001b[1;34m(self, request, **kwargs)\u001b[0m\n\u001b[0;32m    700\u001b[0m start \u001b[38;5;241m=\u001b[39m preferred_clock()\n\u001b[0;32m    702\u001b[0m \u001b[38;5;66;03m# Send the request\u001b[39;00m\n\u001b[1;32m--> 703\u001b[0m r \u001b[38;5;241m=\u001b[39m adapter\u001b[38;5;241m.\u001b[39msend(request, \u001b[38;5;241m*\u001b[39m\u001b[38;5;241m*\u001b[39mkwargs)\n\u001b[0;32m    705\u001b[0m \u001b[38;5;66;03m# Total elapsed time of the request (approximately)\u001b[39;00m\n\u001b[0;32m    706\u001b[0m elapsed \u001b[38;5;241m=\u001b[39m preferred_clock() \u001b[38;5;241m-\u001b[39m start\n",
      "File \u001b[1;32mC:\\ProgramData\\anaconda3\\Lib\\site-packages\\requests\\adapters.py:507\u001b[0m, in \u001b[0;36mHTTPAdapter.send\u001b[1;34m(self, request, stream, timeout, verify, cert, proxies)\u001b[0m\n\u001b[0;32m    504\u001b[0m \u001b[38;5;28;01mif\u001b[39;00m \u001b[38;5;28misinstance\u001b[39m(e\u001b[38;5;241m.\u001b[39mreason, ConnectTimeoutError):\n\u001b[0;32m    505\u001b[0m     \u001b[38;5;66;03m# TODO: Remove this in 3.0.0: see #2811\u001b[39;00m\n\u001b[0;32m    506\u001b[0m     \u001b[38;5;28;01mif\u001b[39;00m \u001b[38;5;129;01mnot\u001b[39;00m \u001b[38;5;28misinstance\u001b[39m(e\u001b[38;5;241m.\u001b[39mreason, NewConnectionError):\n\u001b[1;32m--> 507\u001b[0m         \u001b[38;5;28;01mraise\u001b[39;00m ConnectTimeout(e, request\u001b[38;5;241m=\u001b[39mrequest)\n\u001b[0;32m    509\u001b[0m \u001b[38;5;28;01mif\u001b[39;00m \u001b[38;5;28misinstance\u001b[39m(e\u001b[38;5;241m.\u001b[39mreason, ResponseError):\n\u001b[0;32m    510\u001b[0m     \u001b[38;5;28;01mraise\u001b[39;00m RetryError(e, request\u001b[38;5;241m=\u001b[39mrequest)\n",
      "\u001b[1;31mConnectTimeout\u001b[0m: HTTPSConnectionPool(host='archive.ics.uci.edu', port=443): Max retries exceeded with url: /static/public/100/teaching+assistant+evaluation.zip (Caused by ConnectTimeoutError(<urllib3.connection.HTTPSConnection object at 0x000001159DB73A90>, 'Connection to archive.ics.uci.edu timed out. (connect timeout=None)'))"
     ]
    }
   ],
   "source": [
    "#url = 'https://archive.ics.uci.edu/ml/machine-learning-databases/tae/tae.data'\n",
    "\n",
    "from zipfile import ZipFile\n",
    "import requests, io\n",
    "\n",
    "url = \"https://archive.ics.uci.edu/static/public/100/teaching+assistant+evaluation.zip\"\n",
    "r = requests.get(url, stream = True)\n",
    "zf = ZipFile(io.BytesIO(r.content))\n",
    "zf.extractall()\n"
   ]
  },
  {
   "cell_type": "code",
   "execution_count": 42,
   "id": "6dc3e960",
   "metadata": {},
   "outputs": [],
   "source": [
    "df = pd.read_csv(\"tae.data\", header =  None)"
   ]
  },
  {
   "cell_type": "code",
   "execution_count": 43,
   "id": "767e80f9",
   "metadata": {},
   "outputs": [],
   "source": [
    "df.columns = ['native English', 'Course instructor', 'Course', 'Summer semester', 'Class size', 'Class']"
   ]
  },
  {
   "cell_type": "code",
   "execution_count": 44,
   "id": "4a0b75b5",
   "metadata": {},
   "outputs": [
    {
     "data": {
      "text/html": [
       "<div>\n",
       "<style scoped>\n",
       "    .dataframe tbody tr th:only-of-type {\n",
       "        vertical-align: middle;\n",
       "    }\n",
       "\n",
       "    .dataframe tbody tr th {\n",
       "        vertical-align: top;\n",
       "    }\n",
       "\n",
       "    .dataframe thead th {\n",
       "        text-align: right;\n",
       "    }\n",
       "</style>\n",
       "<table border=\"1\" class=\"dataframe\">\n",
       "  <thead>\n",
       "    <tr style=\"text-align: right;\">\n",
       "      <th></th>\n",
       "      <th>native English</th>\n",
       "      <th>Course instructor</th>\n",
       "      <th>Course</th>\n",
       "      <th>Summer semester</th>\n",
       "      <th>Class size</th>\n",
       "      <th>Class</th>\n",
       "    </tr>\n",
       "  </thead>\n",
       "  <tbody>\n",
       "    <tr>\n",
       "      <th>0</th>\n",
       "      <td>1</td>\n",
       "      <td>23</td>\n",
       "      <td>3</td>\n",
       "      <td>1</td>\n",
       "      <td>19</td>\n",
       "      <td>3</td>\n",
       "    </tr>\n",
       "    <tr>\n",
       "      <th>1</th>\n",
       "      <td>2</td>\n",
       "      <td>15</td>\n",
       "      <td>3</td>\n",
       "      <td>1</td>\n",
       "      <td>17</td>\n",
       "      <td>3</td>\n",
       "    </tr>\n",
       "    <tr>\n",
       "      <th>2</th>\n",
       "      <td>1</td>\n",
       "      <td>23</td>\n",
       "      <td>3</td>\n",
       "      <td>2</td>\n",
       "      <td>49</td>\n",
       "      <td>3</td>\n",
       "    </tr>\n",
       "    <tr>\n",
       "      <th>3</th>\n",
       "      <td>1</td>\n",
       "      <td>5</td>\n",
       "      <td>2</td>\n",
       "      <td>2</td>\n",
       "      <td>33</td>\n",
       "      <td>3</td>\n",
       "    </tr>\n",
       "    <tr>\n",
       "      <th>4</th>\n",
       "      <td>2</td>\n",
       "      <td>7</td>\n",
       "      <td>11</td>\n",
       "      <td>2</td>\n",
       "      <td>55</td>\n",
       "      <td>3</td>\n",
       "    </tr>\n",
       "    <tr>\n",
       "      <th>...</th>\n",
       "      <td>...</td>\n",
       "      <td>...</td>\n",
       "      <td>...</td>\n",
       "      <td>...</td>\n",
       "      <td>...</td>\n",
       "      <td>...</td>\n",
       "    </tr>\n",
       "    <tr>\n",
       "      <th>146</th>\n",
       "      <td>2</td>\n",
       "      <td>3</td>\n",
       "      <td>2</td>\n",
       "      <td>2</td>\n",
       "      <td>26</td>\n",
       "      <td>1</td>\n",
       "    </tr>\n",
       "    <tr>\n",
       "      <th>147</th>\n",
       "      <td>2</td>\n",
       "      <td>10</td>\n",
       "      <td>3</td>\n",
       "      <td>2</td>\n",
       "      <td>12</td>\n",
       "      <td>1</td>\n",
       "    </tr>\n",
       "    <tr>\n",
       "      <th>148</th>\n",
       "      <td>1</td>\n",
       "      <td>18</td>\n",
       "      <td>7</td>\n",
       "      <td>2</td>\n",
       "      <td>48</td>\n",
       "      <td>1</td>\n",
       "    </tr>\n",
       "    <tr>\n",
       "      <th>149</th>\n",
       "      <td>2</td>\n",
       "      <td>22</td>\n",
       "      <td>1</td>\n",
       "      <td>2</td>\n",
       "      <td>51</td>\n",
       "      <td>1</td>\n",
       "    </tr>\n",
       "    <tr>\n",
       "      <th>150</th>\n",
       "      <td>2</td>\n",
       "      <td>2</td>\n",
       "      <td>10</td>\n",
       "      <td>2</td>\n",
       "      <td>27</td>\n",
       "      <td>1</td>\n",
       "    </tr>\n",
       "  </tbody>\n",
       "</table>\n",
       "<p>151 rows × 6 columns</p>\n",
       "</div>"
      ],
      "text/plain": [
       "     native English  Course instructor  Course  Summer semester  Class size  \\\n",
       "0                 1                 23       3                1          19   \n",
       "1                 2                 15       3                1          17   \n",
       "2                 1                 23       3                2          49   \n",
       "3                 1                  5       2                2          33   \n",
       "4                 2                  7      11                2          55   \n",
       "..              ...                ...     ...              ...         ...   \n",
       "146               2                  3       2                2          26   \n",
       "147               2                 10       3                2          12   \n",
       "148               1                 18       7                2          48   \n",
       "149               2                 22       1                2          51   \n",
       "150               2                  2      10                2          27   \n",
       "\n",
       "     Class  \n",
       "0        3  \n",
       "1        3  \n",
       "2        3  \n",
       "3        3  \n",
       "4        3  \n",
       "..     ...  \n",
       "146      1  \n",
       "147      1  \n",
       "148      1  \n",
       "149      1  \n",
       "150      1  \n",
       "\n",
       "[151 rows x 6 columns]"
      ]
     },
     "execution_count": 44,
     "metadata": {},
     "output_type": "execute_result"
    }
   ],
   "source": [
    "df"
   ]
  },
  {
   "cell_type": "code",
   "execution_count": 45,
   "id": "48b370b8",
   "metadata": {},
   "outputs": [
    {
     "name": "stdout",
     "output_type": "stream",
     "text": [
      "<class 'pandas.core.frame.DataFrame'>\n",
      "RangeIndex: 151 entries, 0 to 150\n",
      "Data columns (total 6 columns):\n",
      " #   Column             Non-Null Count  Dtype\n",
      "---  ------             --------------  -----\n",
      " 0   native English     151 non-null    int64\n",
      " 1   Course instructor  151 non-null    int64\n",
      " 2   Course             151 non-null    int64\n",
      " 3   Summer semester    151 non-null    int64\n",
      " 4   Class size         151 non-null    int64\n",
      " 5   Class              151 non-null    int64\n",
      "dtypes: int64(6)\n",
      "memory usage: 7.2 KB\n"
     ]
    }
   ],
   "source": [
    "df.info()"
   ]
  },
  {
   "cell_type": "code",
   "execution_count": 46,
   "id": "7f814c90",
   "metadata": {},
   "outputs": [
    {
     "data": {
      "text/plain": [
       "native English       0\n",
       "Course instructor    0\n",
       "Course               0\n",
       "Summer semester      0\n",
       "Class size           0\n",
       "Class                0\n",
       "dtype: int64"
      ]
     },
     "execution_count": 46,
     "metadata": {},
     "output_type": "execute_result"
    }
   ],
   "source": [
    "df.isnull().sum()"
   ]
  },
  {
   "cell_type": "code",
   "execution_count": 47,
   "id": "a91e0a5d",
   "metadata": {},
   "outputs": [],
   "source": [
    "from sklearn.model_selection import train_test_split\n",
    "from sklearn.naive_bayes import CategoricalNB\n",
    "from sklearn.naive_bayes import GaussianNB\n",
    "from sklearn.naive_bayes import MultinomialNB\n",
    "from sklearn.preprocessing import OrdinalEncoder\n",
    "from sklearn.tree import DecisionTreeClassifier, plot_tree\n",
    "\n",
    "import matplotlib.pyplot as plt\n",
    "\n",
    "# Import datasets, classifiers and performance metrics\n",
    "from sklearn import datasets, svm, metrics"
   ]
  },
  {
   "cell_type": "code",
   "execution_count": 48,
   "id": "32d5631f",
   "metadata": {},
   "outputs": [
    {
     "data": {
      "text/html": [
       "<div>\n",
       "<style scoped>\n",
       "    .dataframe tbody tr th:only-of-type {\n",
       "        vertical-align: middle;\n",
       "    }\n",
       "\n",
       "    .dataframe tbody tr th {\n",
       "        vertical-align: top;\n",
       "    }\n",
       "\n",
       "    .dataframe thead th {\n",
       "        text-align: right;\n",
       "    }\n",
       "</style>\n",
       "<table border=\"1\" class=\"dataframe\">\n",
       "  <thead>\n",
       "    <tr style=\"text-align: right;\">\n",
       "      <th></th>\n",
       "      <th>native English</th>\n",
       "      <th>Course instructor</th>\n",
       "      <th>Course</th>\n",
       "      <th>Summer semester</th>\n",
       "      <th>Class size</th>\n",
       "      <th>Class</th>\n",
       "    </tr>\n",
       "  </thead>\n",
       "  <tbody>\n",
       "    <tr>\n",
       "      <th>native English</th>\n",
       "      <td>1.000000</td>\n",
       "      <td>-0.250510</td>\n",
       "      <td>0.134660</td>\n",
       "      <td>0.214417</td>\n",
       "      <td>-0.151547</td>\n",
       "      <td>-0.255466</td>\n",
       "    </tr>\n",
       "    <tr>\n",
       "      <th>Course instructor</th>\n",
       "      <td>-0.250510</td>\n",
       "      <td>1.000000</td>\n",
       "      <td>-0.236010</td>\n",
       "      <td>-0.168573</td>\n",
       "      <td>-0.035765</td>\n",
       "      <td>0.075095</td>\n",
       "    </tr>\n",
       "    <tr>\n",
       "      <th>Course</th>\n",
       "      <td>0.134660</td>\n",
       "      <td>-0.236010</td>\n",
       "      <td>1.000000</td>\n",
       "      <td>0.224927</td>\n",
       "      <td>-0.033485</td>\n",
       "      <td>0.143103</td>\n",
       "    </tr>\n",
       "    <tr>\n",
       "      <th>Summer semester</th>\n",
       "      <td>0.214417</td>\n",
       "      <td>-0.168573</td>\n",
       "      <td>0.224927</td>\n",
       "      <td>1.000000</td>\n",
       "      <td>0.269554</td>\n",
       "      <td>-0.282742</td>\n",
       "    </tr>\n",
       "    <tr>\n",
       "      <th>Class size</th>\n",
       "      <td>-0.151547</td>\n",
       "      <td>-0.035765</td>\n",
       "      <td>-0.033485</td>\n",
       "      <td>0.269554</td>\n",
       "      <td>1.000000</td>\n",
       "      <td>-0.035676</td>\n",
       "    </tr>\n",
       "    <tr>\n",
       "      <th>Class</th>\n",
       "      <td>-0.255466</td>\n",
       "      <td>0.075095</td>\n",
       "      <td>0.143103</td>\n",
       "      <td>-0.282742</td>\n",
       "      <td>-0.035676</td>\n",
       "      <td>1.000000</td>\n",
       "    </tr>\n",
       "  </tbody>\n",
       "</table>\n",
       "</div>"
      ],
      "text/plain": [
       "                   native English  Course instructor    Course  \\\n",
       "native English           1.000000          -0.250510  0.134660   \n",
       "Course instructor       -0.250510           1.000000 -0.236010   \n",
       "Course                   0.134660          -0.236010  1.000000   \n",
       "Summer semester          0.214417          -0.168573  0.224927   \n",
       "Class size              -0.151547          -0.035765 -0.033485   \n",
       "Class                   -0.255466           0.075095  0.143103   \n",
       "\n",
       "                   Summer semester  Class size     Class  \n",
       "native English            0.214417   -0.151547 -0.255466  \n",
       "Course instructor        -0.168573   -0.035765  0.075095  \n",
       "Course                    0.224927   -0.033485  0.143103  \n",
       "Summer semester           1.000000    0.269554 -0.282742  \n",
       "Class size                0.269554    1.000000 -0.035676  \n",
       "Class                    -0.282742   -0.035676  1.000000  "
      ]
     },
     "execution_count": 48,
     "metadata": {},
     "output_type": "execute_result"
    }
   ],
   "source": [
    "df.corr()"
   ]
  },
  {
   "cell_type": "code",
   "execution_count": 49,
   "id": "b174b8f0",
   "metadata": {},
   "outputs": [
    {
     "data": {
      "text/plain": [
       "<Axes: >"
      ]
     },
     "execution_count": 49,
     "metadata": {},
     "output_type": "execute_result"
    },
    {
     "data": {
      "image/png": "[encoded data removed]",
      "text/plain": [
       "<Figure size 640x480 with 2 Axes>"
      ]
     },
     "metadata": {},
     "output_type": "display_data"
    }
   ],
   "source": [
    "sns.heatmap(df.corr())"
   ]
  },
  {
   "cell_type": "code",
   "execution_count": 50,
   "id": "45fca50c",
   "metadata": {},
   "outputs": [
    {
     "data": {
      "text/html": [
       "<div>\n",
       "<style scoped>\n",
       "    .dataframe tbody tr th:only-of-type {\n",
       "        vertical-align: middle;\n",
       "    }\n",
       "\n",
       "    .dataframe tbody tr th {\n",
       "        vertical-align: top;\n",
       "    }\n",
       "\n",
       "    .dataframe thead th {\n",
       "        text-align: right;\n",
       "    }\n",
       "</style>\n",
       "<table border=\"1\" class=\"dataframe\">\n",
       "  <thead>\n",
       "    <tr style=\"text-align: right;\">\n",
       "      <th></th>\n",
       "      <th>native English</th>\n",
       "      <th>Course instructor</th>\n",
       "      <th>Course</th>\n",
       "      <th>Summer semester</th>\n",
       "      <th>Class size</th>\n",
       "    </tr>\n",
       "  </thead>\n",
       "  <tbody>\n",
       "    <tr>\n",
       "      <th>0</th>\n",
       "      <td>1</td>\n",
       "      <td>23</td>\n",
       "      <td>3</td>\n",
       "      <td>1</td>\n",
       "      <td>19</td>\n",
       "    </tr>\n",
       "    <tr>\n",
       "      <th>1</th>\n",
       "      <td>2</td>\n",
       "      <td>15</td>\n",
       "      <td>3</td>\n",
       "      <td>1</td>\n",
       "      <td>17</td>\n",
       "    </tr>\n",
       "    <tr>\n",
       "      <th>2</th>\n",
       "      <td>1</td>\n",
       "      <td>23</td>\n",
       "      <td>3</td>\n",
       "      <td>2</td>\n",
       "      <td>49</td>\n",
       "    </tr>\n",
       "    <tr>\n",
       "      <th>3</th>\n",
       "      <td>1</td>\n",
       "      <td>5</td>\n",
       "      <td>2</td>\n",
       "      <td>2</td>\n",
       "      <td>33</td>\n",
       "    </tr>\n",
       "    <tr>\n",
       "      <th>4</th>\n",
       "      <td>2</td>\n",
       "      <td>7</td>\n",
       "      <td>11</td>\n",
       "      <td>2</td>\n",
       "      <td>55</td>\n",
       "    </tr>\n",
       "    <tr>\n",
       "      <th>...</th>\n",
       "      <td>...</td>\n",
       "      <td>...</td>\n",
       "      <td>...</td>\n",
       "      <td>...</td>\n",
       "      <td>...</td>\n",
       "    </tr>\n",
       "    <tr>\n",
       "      <th>146</th>\n",
       "      <td>2</td>\n",
       "      <td>3</td>\n",
       "      <td>2</td>\n",
       "      <td>2</td>\n",
       "      <td>26</td>\n",
       "    </tr>\n",
       "    <tr>\n",
       "      <th>147</th>\n",
       "      <td>2</td>\n",
       "      <td>10</td>\n",
       "      <td>3</td>\n",
       "      <td>2</td>\n",
       "      <td>12</td>\n",
       "    </tr>\n",
       "    <tr>\n",
       "      <th>148</th>\n",
       "      <td>1</td>\n",
       "      <td>18</td>\n",
       "      <td>7</td>\n",
       "      <td>2</td>\n",
       "      <td>48</td>\n",
       "    </tr>\n",
       "    <tr>\n",
       "      <th>149</th>\n",
       "      <td>2</td>\n",
       "      <td>22</td>\n",
       "      <td>1</td>\n",
       "      <td>2</td>\n",
       "      <td>51</td>\n",
       "    </tr>\n",
       "    <tr>\n",
       "      <th>150</th>\n",
       "      <td>2</td>\n",
       "      <td>2</td>\n",
       "      <td>10</td>\n",
       "      <td>2</td>\n",
       "      <td>27</td>\n",
       "    </tr>\n",
       "  </tbody>\n",
       "</table>\n",
       "<p>151 rows × 5 columns</p>\n",
       "</div>"
      ],
      "text/plain": [
       "     native English  Course instructor  Course  Summer semester  Class size\n",
       "0                 1                 23       3                1          19\n",
       "1                 2                 15       3                1          17\n",
       "2                 1                 23       3                2          49\n",
       "3                 1                  5       2                2          33\n",
       "4                 2                  7      11                2          55\n",
       "..              ...                ...     ...              ...         ...\n",
       "146               2                  3       2                2          26\n",
       "147               2                 10       3                2          12\n",
       "148               1                 18       7                2          48\n",
       "149               2                 22       1                2          51\n",
       "150               2                  2      10                2          27\n",
       "\n",
       "[151 rows x 5 columns]"
      ]
     },
     "execution_count": 50,
     "metadata": {},
     "output_type": "execute_result"
    }
   ],
   "source": [
    "X_copy = df.drop(columns = ['Class'])\n",
    "y = df['Class']\n",
    "y\n",
    "X_copy"
   ]
  },
  {
   "cell_type": "code",
   "execution_count": 51,
   "id": "e57b6838",
   "metadata": {},
   "outputs": [
    {
     "data": {
      "text/plain": [
       "<seaborn.axisgrid.PairGrid at 0x228d8b9ba10>"
      ]
     },
     "execution_count": 51,
     "metadata": {},
     "output_type": "execute_result"
    },
    {
     "data": {
      "image/png": "[encoded data removed]",
      "text/plain": [
       "<Figure size 1500x1500 with 42 Axes>"
      ]
     },
     "metadata": {},
     "output_type": "display_data"
    }
   ],
   "source": [
    "sns.pairplot(df)"
   ]
  },
  {
   "cell_type": "code",
   "execution_count": 52,
   "id": "e43b381b",
   "metadata": {},
   "outputs": [
    {
     "name": "stdout",
     "output_type": "stream",
     "text": [
      "[23 15  5  7  9 10 22 13 18  6 25  2  1  8 14 21 11 16  4 17 20 12 24  3\n",
      " 19]\n"
     ]
    },
    {
     "data": {
      "text/plain": [
       "array([ 1,  2,  3,  4,  5,  6,  7,  8,  9, 10, 11, 12, 13, 14, 15, 16, 17,\n",
       "       18, 19, 20, 21, 22, 23, 24, 25], dtype=int64)"
      ]
     },
     "execution_count": 52,
     "metadata": {},
     "output_type": "execute_result"
    }
   ],
   "source": [
    "a = df['Course instructor'].unique()\n",
    "print(a)\n",
    "a.sort()\n",
    "a"
   ]
  },
  {
   "cell_type": "code",
   "execution_count": 53,
   "id": "a36d0070",
   "metadata": {},
   "outputs": [
    {
     "data": {
      "text/html": [
       "<div>\n",
       "<style scoped>\n",
       "    .dataframe tbody tr th:only-of-type {\n",
       "        vertical-align: middle;\n",
       "    }\n",
       "\n",
       "    .dataframe tbody tr th {\n",
       "        vertical-align: top;\n",
       "    }\n",
       "\n",
       "    .dataframe thead th {\n",
       "        text-align: right;\n",
       "    }\n",
       "</style>\n",
       "<table border=\"1\" class=\"dataframe\">\n",
       "  <thead>\n",
       "    <tr style=\"text-align: right;\">\n",
       "      <th></th>\n",
       "      <th>native English</th>\n",
       "      <th>Course instructor</th>\n",
       "      <th>Course</th>\n",
       "      <th>Summer semester</th>\n",
       "      <th>Class size</th>\n",
       "      <th>Class</th>\n",
       "    </tr>\n",
       "  </thead>\n",
       "  <tbody>\n",
       "    <tr>\n",
       "      <th>count</th>\n",
       "      <td>151.000000</td>\n",
       "      <td>151.000000</td>\n",
       "      <td>151.000000</td>\n",
       "      <td>151.000000</td>\n",
       "      <td>151.000000</td>\n",
       "      <td>151.000000</td>\n",
       "    </tr>\n",
       "    <tr>\n",
       "      <th>mean</th>\n",
       "      <td>1.807947</td>\n",
       "      <td>13.642384</td>\n",
       "      <td>8.105960</td>\n",
       "      <td>1.847682</td>\n",
       "      <td>27.867550</td>\n",
       "      <td>2.019868</td>\n",
       "    </tr>\n",
       "    <tr>\n",
       "      <th>std</th>\n",
       "      <td>0.395225</td>\n",
       "      <td>6.825779</td>\n",
       "      <td>7.023914</td>\n",
       "      <td>0.360525</td>\n",
       "      <td>12.893758</td>\n",
       "      <td>0.820327</td>\n",
       "    </tr>\n",
       "    <tr>\n",
       "      <th>min</th>\n",
       "      <td>1.000000</td>\n",
       "      <td>1.000000</td>\n",
       "      <td>1.000000</td>\n",
       "      <td>1.000000</td>\n",
       "      <td>3.000000</td>\n",
       "      <td>1.000000</td>\n",
       "    </tr>\n",
       "    <tr>\n",
       "      <th>25%</th>\n",
       "      <td>2.000000</td>\n",
       "      <td>8.000000</td>\n",
       "      <td>3.000000</td>\n",
       "      <td>2.000000</td>\n",
       "      <td>19.000000</td>\n",
       "      <td>1.000000</td>\n",
       "    </tr>\n",
       "    <tr>\n",
       "      <th>50%</th>\n",
       "      <td>2.000000</td>\n",
       "      <td>13.000000</td>\n",
       "      <td>4.000000</td>\n",
       "      <td>2.000000</td>\n",
       "      <td>27.000000</td>\n",
       "      <td>2.000000</td>\n",
       "    </tr>\n",
       "    <tr>\n",
       "      <th>75%</th>\n",
       "      <td>2.000000</td>\n",
       "      <td>20.000000</td>\n",
       "      <td>15.000000</td>\n",
       "      <td>2.000000</td>\n",
       "      <td>37.000000</td>\n",
       "      <td>3.000000</td>\n",
       "    </tr>\n",
       "    <tr>\n",
       "      <th>max</th>\n",
       "      <td>2.000000</td>\n",
       "      <td>25.000000</td>\n",
       "      <td>26.000000</td>\n",
       "      <td>2.000000</td>\n",
       "      <td>66.000000</td>\n",
       "      <td>3.000000</td>\n",
       "    </tr>\n",
       "  </tbody>\n",
       "</table>\n",
       "</div>"
      ],
      "text/plain": [
       "       native English  Course instructor      Course  Summer semester  \\\n",
       "count      151.000000         151.000000  151.000000       151.000000   \n",
       "mean         1.807947          13.642384    8.105960         1.847682   \n",
       "std          0.395225           6.825779    7.023914         0.360525   \n",
       "min          1.000000           1.000000    1.000000         1.000000   \n",
       "25%          2.000000           8.000000    3.000000         2.000000   \n",
       "50%          2.000000          13.000000    4.000000         2.000000   \n",
       "75%          2.000000          20.000000   15.000000         2.000000   \n",
       "max          2.000000          25.000000   26.000000         2.000000   \n",
       "\n",
       "       Class size       Class  \n",
       "count  151.000000  151.000000  \n",
       "mean    27.867550    2.019868  \n",
       "std     12.893758    0.820327  \n",
       "min      3.000000    1.000000  \n",
       "25%     19.000000    1.000000  \n",
       "50%     27.000000    2.000000  \n",
       "75%     37.000000    3.000000  \n",
       "max     66.000000    3.000000  "
      ]
     },
     "execution_count": 53,
     "metadata": {},
     "output_type": "execute_result"
    }
   ],
   "source": [
    "df.describe()"
   ]
  },
  {
   "cell_type": "code",
   "execution_count": 54,
   "id": "78bd1fdc",
   "metadata": {},
   "outputs": [
    {
     "data": {
      "text/plain": [
       "Course instructor  Class\n",
       "1                  2         3\n",
       "                   3         1\n",
       "2                  1         2\n",
       "                   2         2\n",
       "3                  1         2\n",
       "4                  1         2\n",
       "5                  1         4\n",
       "                   3         2\n",
       "6                  2         6\n",
       "                   3         2\n",
       "7                  2         6\n",
       "                   3         3\n",
       "                   1         2\n",
       "8                  1         2\n",
       "                   2         2\n",
       "                   3         1\n",
       "9                  3         5\n",
       "                   2         3\n",
       "10                 3         5\n",
       "                   1         3\n",
       "11                 1         2\n",
       "                   2         1\n",
       "12                 2         1\n",
       "                   1         1\n",
       "13                 3         6\n",
       "                   1         5\n",
       "                   2         3\n",
       "14                 2         3\n",
       "                   1         3\n",
       "                   3         2\n",
       "15                 3         4\n",
       "                   2         2\n",
       "                   1         2\n",
       "16                 1         3\n",
       "                   3         1\n",
       "17                 3         2\n",
       "                   2         1\n",
       "                   1         1\n",
       "18                 3         4\n",
       "                   1         3\n",
       "                   2         1\n",
       "19                 1         1\n",
       "20                 2         2\n",
       "                   1         2\n",
       "                   3         1\n",
       "21                 1         2\n",
       "22                 2         6\n",
       "                   1         3\n",
       "                   3         3\n",
       "23                 3        10\n",
       "                   1         4\n",
       "                   2         3\n",
       "24                 2         1\n",
       "25                 2         4\n",
       "Name: count, dtype: int64"
      ]
     },
     "execution_count": 54,
     "metadata": {},
     "output_type": "execute_result"
    }
   ],
   "source": [
    "df.groupby('Course instructor')['Class'].value_counts()"
   ]
  },
  {
   "cell_type": "code",
   "execution_count": 55,
   "id": "2f2b3d28",
   "metadata": {},
   "outputs": [
    {
     "data": {
      "text/plain": [
       "Course instructor\n",
       "1      4\n",
       "2      4\n",
       "3      2\n",
       "4      2\n",
       "5      6\n",
       "6      8\n",
       "7     11\n",
       "8      5\n",
       "9      8\n",
       "10     8\n",
       "11     3\n",
       "12     2\n",
       "13    14\n",
       "14     8\n",
       "15     8\n",
       "16     4\n",
       "17     4\n",
       "18     8\n",
       "19     1\n",
       "20     5\n",
       "21     2\n",
       "22    12\n",
       "23    17\n",
       "24     1\n",
       "25     4\n",
       "Name: Class, dtype: int64"
      ]
     },
     "execution_count": 55,
     "metadata": {},
     "output_type": "execute_result"
    }
   ],
   "source": [
    "\n",
    "df.groupby('Course instructor')['Class'].count()\n",
    "\n"
   ]
  },
  {
   "cell_type": "code",
   "execution_count": 56,
   "id": "8de9d1f5",
   "metadata": {},
   "outputs": [
    {
     "data": {
      "text/plain": [
       "Course instructor\n",
       "1     2.250000\n",
       "2     1.500000\n",
       "3     1.000000\n",
       "4     1.000000\n",
       "5     1.666667\n",
       "6     2.250000\n",
       "7     2.090909\n",
       "8     1.800000\n",
       "9     2.625000\n",
       "10    2.250000\n",
       "11    1.333333\n",
       "12    1.500000\n",
       "13    2.071429\n",
       "14    1.875000\n",
       "15    2.250000\n",
       "16    1.500000\n",
       "17    2.250000\n",
       "18    2.125000\n",
       "19    1.000000\n",
       "20    1.800000\n",
       "21    1.000000\n",
       "22    2.000000\n",
       "23    2.352941\n",
       "24    2.000000\n",
       "25    2.000000\n",
       "Name: Class, dtype: float64"
      ]
     },
     "execution_count": 56,
     "metadata": {},
     "output_type": "execute_result"
    }
   ],
   "source": [
    "df.groupby('Course instructor')['Class'].mean()"
   ]
  },
  {
   "cell_type": "code",
   "execution_count": 57,
   "id": "c1d6e2fb",
   "metadata": {},
   "outputs": [
    {
     "data": {
      "text/plain": [
       "[<matplotlib.lines.Line2D at 0x228db362ed0>]"
      ]
     },
     "execution_count": 57,
     "metadata": {},
     "output_type": "execute_result"
    },
    {
     "data": {
      "image/png": "[encoded data removed]",
      "text/plain": [
       "<Figure size 640x480 with 1 Axes>"
      ]
     },
     "metadata": {},
     "output_type": "display_data"
    }
   ],
   "source": [
    "mean_instructor_class = df.groupby('Course instructor')['Class'].mean()\n",
    "plt.plot(mean_instructor_class, 'o')\n",
    "#sns.scatterplot(mean_instructor_class)"
   ]
  },
  {
   "cell_type": "code",
   "execution_count": 58,
   "id": "a652279f",
   "metadata": {},
   "outputs": [
    {
     "data": {
      "text/plain": [
       "0      3\n",
       "1      3\n",
       "2      3\n",
       "3      3\n",
       "4      3\n",
       "      ..\n",
       "146    1\n",
       "147    1\n",
       "148    1\n",
       "149    1\n",
       "150    1\n",
       "Name: Class, Length: 151, dtype: int64"
      ]
     },
     "execution_count": 58,
     "metadata": {},
     "output_type": "execute_result"
    }
   ],
   "source": [
    "y"
   ]
  },
  {
   "cell_type": "markdown",
   "id": "4bdec6ef",
   "metadata": {},
   "source": [
    "# Modelarea"
   ]
  },
  {
   "cell_type": "code",
   "execution_count": 59,
   "id": "2d5c89b9",
   "metadata": {},
   "outputs": [],
   "source": [
    "from sklearn.model_selection import train_test_split\n",
    "\n",
    "from sklearn.naive_bayes import CategoricalNB\n",
    "from sklearn.tree import DecisionTreeClassifier\n",
    " \n",
    "# X_train, X_test, y_train, y_test = train_test_split(X_copy, y, test_size=0.2, random_state=0, stratify = y)\n",
    "\n",
    "X_train, X_test, y_train, y_test = train_test_split(X_copy, y, test_size=0.2, random_state=0)\n"
   ]
  },
  {
   "cell_type": "code",
   "execution_count": 60,
   "id": "5ef408a3",
   "metadata": {},
   "outputs": [
    {
     "name": "stdout",
     "output_type": "stream",
     "text": [
      "31\n"
     ]
    }
   ],
   "source": [
    "#model = CategoricalNB()\n",
    "#model = DecisionTreeClassifier(random_state =0)\n",
    "#model = DecisionTreeClassifier(random_state=0)\n",
    "model = svm.LinearSVC(random_state=0)\n",
    "model.fit(X_train, y_train)\n",
    "y_pred = model.predict(X_test)\n",
    "(y_pred != y_test).sum()\n",
    "print(y_test.size)"
   ]
  },
  {
   "cell_type": "code",
   "execution_count": 61,
   "id": "609dd302",
   "metadata": {},
   "outputs": [
    {
     "data": {
      "text/plain": [
       "0.5161290322580645"
      ]
     },
     "execution_count": 61,
     "metadata": {},
     "output_type": "execute_result"
    }
   ],
   "source": [
    "error = (y_pred != y_test).sum()/y_test.size\n",
    "error"
   ]
  },
  {
   "cell_type": "code",
   "execution_count": 62,
   "id": "218e4a4a",
   "metadata": {},
   "outputs": [],
   "source": [
    "model = DecisionTreeClassifier(random_state =0)\n",
    "model.fit(X_train, y_train)\n",
    "y_pred = model.predict(X_test)"
   ]
  },
  {
   "cell_type": "code",
   "execution_count": 63,
   "id": "b21dd4a5",
   "metadata": {},
   "outputs": [
    {
     "data": {
      "text/plain": [
       "0.45161290322580644"
      ]
     },
     "execution_count": 63,
     "metadata": {},
     "output_type": "execute_result"
    }
   ],
   "source": [
    "error = (y_pred != y_test).sum()/y_test.size\n",
    "error"
   ]
  },
  {
   "cell_type": "markdown",
   "id": "9c8ab1b3",
   "metadata": {},
   "source": [
    "Cu standard scaler"
   ]
  },
  {
   "cell_type": "code",
   "execution_count": 64,
   "id": "ed026b2d",
   "metadata": {},
   "outputs": [],
   "source": [
    "from sklearn import linear_model\n",
    "from sklearn.preprocessing import StandardScaler\n",
    "scaler = StandardScaler()\n",
    "\n",
    "standardized_X_train = pd.DataFrame(scaler.fit_transform(X_train), columns = X_train.columns)\n",
    "standardized_X_test = pd.DataFrame(scaler.transform(X_test), columns = X_test.columns)\n"
   ]
  },
  {
   "cell_type": "code",
   "execution_count": 65,
   "id": "c3657f62",
   "metadata": {},
   "outputs": [
    {
     "name": "stdout",
     "output_type": "stream",
     "text": [
      "31\n"
     ]
    }
   ],
   "source": [
    "#model = CategoricalNB()\n",
    "#model = DecisionTreeClassifier(random_state =0)\n",
    "#model = DecisionTreeClassifier(random_state=0)\n",
    "\n",
    "\n",
    "model = svm.LinearSVC(random_state=0)\n",
    "model.fit(standardized_X_train, y_train)\n",
    "y_pred = model.predict(standardized_X_test)\n",
    "(y_pred != y_test).sum()\n",
    "print(y_test.size)"
   ]
  },
  {
   "cell_type": "code",
   "execution_count": 66,
   "id": "1fe6f60d",
   "metadata": {},
   "outputs": [
    {
     "data": {
      "text/plain": [
       "0.3870967741935484"
      ]
     },
     "execution_count": 66,
     "metadata": {},
     "output_type": "execute_result"
    }
   ],
   "source": [
    "error = (y_pred != y_test).sum()/y_test.size\n",
    "error"
   ]
  },
  {
   "cell_type": "code",
   "execution_count": 67,
   "id": "7a3596a4",
   "metadata": {},
   "outputs": [],
   "source": [
    "model = DecisionTreeClassifier(random_state =0)\n",
    "model.fit(standardized_X_train, y_train)\n",
    "y_pred = model.predict(standardized_X_test)"
   ]
  },
  {
   "cell_type": "code",
   "execution_count": 68,
   "id": "3758f1ec",
   "metadata": {},
   "outputs": [
    {
     "data": {
      "text/plain": [
       "0.45161290322580644"
      ]
     },
     "execution_count": 68,
     "metadata": {},
     "output_type": "execute_result"
    }
   ],
   "source": [
    "error = (y_pred != y_test).sum()/y_test.size\n",
    "error"
   ]
  },
  {
   "cell_type": "markdown",
   "id": "494927e4",
   "metadata": {},
   "source": [
    "cu normalizer"
   ]
  },
  {
   "cell_type": "code",
   "execution_count": 69,
   "id": "6197bf48",
   "metadata": {},
   "outputs": [],
   "source": [
    "from sklearn.preprocessing import Normalizer\n",
    "\n",
    "normaliz= Normalizer().fit(X_train)\n",
    "normalized_X_train =normaliz.transform(X_train)\n",
    "normalized_X_test =  Normalizer().fit(X_test).transform(X_test)\n",
    "\n",
    "model = svm.LinearSVC(random_state=0)\n",
    "model.fit(normalized_X_train, y_train)\n",
    "y_pred = model.predict(normalized_X_test)\n"
   ]
  },
  {
   "cell_type": "code",
   "execution_count": 70,
   "id": "d288dd0d",
   "metadata": {},
   "outputs": [
    {
     "data": {
      "text/plain": [
       "0.6774193548387096"
      ]
     },
     "execution_count": 70,
     "metadata": {},
     "output_type": "execute_result"
    }
   ],
   "source": [
    "error = (y_pred != y_test).sum()/y_test.size\n",
    "error"
   ]
  },
  {
   "cell_type": "code",
   "execution_count": 71,
   "id": "8a0501c2",
   "metadata": {},
   "outputs": [
    {
     "data": {
      "text/plain": [
       "array([3, 2, 1, 1, 3, 2, 3, 2, 1, 1, 3, 3, 1, 2, 1, 1, 1, 2, 3, 2, 1, 1,\n",
       "       1, 1, 1, 2, 2, 1, 1, 2, 3], dtype=int64)"
      ]
     },
     "execution_count": 71,
     "metadata": {},
     "output_type": "execute_result"
    }
   ],
   "source": [
    "model = DecisionTreeClassifier(random_state =0)\n",
    "model.fit(normalized_X_train, y_train)\n",
    "y_pred = model.predict(normalized_X_test)\n",
    "y_pred"
   ]
  },
  {
   "cell_type": "code",
   "execution_count": 39,
   "id": "c4ab95b6",
   "metadata": {},
   "outputs": [
    {
     "data": {
      "text/plain": [
       "0.3870967741935484"
      ]
     },
     "execution_count": 39,
     "metadata": {},
     "output_type": "execute_result"
    }
   ],
   "source": [
    "error = (y_pred != y_test).sum()/y_test.size\n",
    "error"
   ]
  },
  {
   "cell_type": "markdown",
   "id": "c30de249",
   "metadata": {},
   "source": [
    "# Exercitiu: \n",
    "Sa se aplice DecisionTreeClassifier pentru diferite valori ale parametrilor:\n",
    "criterion = entropy, max_depth, max_leaf_nodes"
   ]
  },
  {
   "cell_type": "code",
   "execution_count": 72,
   "id": "6e7615e4",
   "metadata": {},
   "outputs": [],
   "source": [
    "model = DecisionTreeClassifier( criterion = 'gini', max_depth = 3, random_state =0)\n",
    "model.fit(normalized_X_train, y_train)\n",
    "y_pred = model.predict(normalized_X_test)"
   ]
  },
  {
   "cell_type": "code",
   "execution_count": 73,
   "id": "d0042c6a",
   "metadata": {},
   "outputs": [
    {
     "data": {
      "text/plain": [
       "0.5806451612903226"
      ]
     },
     "execution_count": 73,
     "metadata": {},
     "output_type": "execute_result"
    }
   ],
   "source": [
    "error = (y_pred != y_test).sum()/y_test.size\n",
    "error"
   ]
  },
  {
   "cell_type": "code",
   "execution_count": 74,
   "id": "8e41ee67",
   "metadata": {},
   "outputs": [
    {
     "data": {
      "text/plain": [
       "[Text(0.5, 0.875, 'x[2] <= 0.351\\ngini = 0.666\\nsamples = 120\\nvalue = [42, 38, 40]'),\n",
       " Text(0.25, 0.625, 'x[0] <= 0.036\\ngini = 0.646\\nsamples = 84\\nvalue = [37, 20, 27]'),\n",
       " Text(0.125, 0.375, 'x[3] <= 0.031\\ngini = 0.381\\nsamples = 17\\nvalue = [3, 1, 13]'),\n",
       " Text(0.0625, 0.125, 'gini = 0.0\\nsamples = 1\\nvalue = [1, 0, 0]'),\n",
       " Text(0.1875, 0.125, 'gini = 0.32\\nsamples = 16\\nvalue = [2, 1, 13]'),\n",
       " Text(0.375, 0.375, 'x[1] <= 0.219\\ngini = 0.618\\nsamples = 67\\nvalue = [34, 19, 14]'),\n",
       " Text(0.3125, 0.125, 'gini = 0.18\\nsamples = 10\\nvalue = [9, 1, 0]'),\n",
       " Text(0.4375, 0.125, 'gini = 0.648\\nsamples = 57\\nvalue = [25, 18, 14]'),\n",
       " Text(0.75, 0.625, 'x[0] <= 0.045\\ngini = 0.6\\nsamples = 36\\nvalue = [5, 18, 13]'),\n",
       " Text(0.625, 0.375, 'x[1] <= 0.352\\ngini = 0.219\\nsamples = 8\\nvalue = [1, 7, 0]'),\n",
       " Text(0.5625, 0.125, 'gini = 0.0\\nsamples = 6\\nvalue = [0, 6, 0]'),\n",
       " Text(0.6875, 0.125, 'gini = 0.5\\nsamples = 2\\nvalue = [1, 1, 0]'),\n",
       " Text(0.875, 0.375, 'x[0] <= 0.092\\ngini = 0.61\\nsamples = 28\\nvalue = [4, 11, 13]'),\n",
       " Text(0.8125, 0.125, 'gini = 0.595\\nsamples = 22\\nvalue = [4, 6, 12]'),\n",
       " Text(0.9375, 0.125, 'gini = 0.278\\nsamples = 6\\nvalue = [0, 5, 1]')]"
      ]
     },
     "execution_count": 74,
     "metadata": {},
     "output_type": "execute_result"
    },
    {
     "data": {
      "image/png": "[encoded data removed]",
      "text/plain": [
       "<Figure size 640x480 with 1 Axes>"
      ]
     },
     "metadata": {},
     "output_type": "display_data"
    }
   ],
   "source": [
    "from sklearn import tree\n",
    "tree.plot_tree(model)"
   ]
  },
  {
   "cell_type": "code",
   "execution_count": null,
   "id": "4b46cac9",
   "metadata": {},
   "outputs": [],
   "source": []
  },
  {
   "cell_type": "code",
   "execution_count": null,
   "id": "32735a04",
   "metadata": {},
   "outputs": [],
   "source": []
  },
  {
   "cell_type": "code",
   "execution_count": null,
   "id": "eca4e36d",
   "metadata": {},
   "outputs": [],
   "source": [
    "model = svm.LinearSVC(random_state=0)\n",
    "model.fit(standardized_X_train, y_train)\n",
    "y_pred = model.predict(standardized_X_test)"
   ]
  },
  {
   "cell_type": "code",
   "execution_count": null,
   "id": "092301d5",
   "metadata": {},
   "outputs": [],
   "source": [
    "error = (y_pred != y_test).sum()/y_test.size\n",
    "error"
   ]
  },
  {
   "cell_type": "code",
   "execution_count": null,
   "id": "b536aad4",
   "metadata": {},
   "outputs": [],
   "source": [
    "error = (y_pred != y_test).sum()/y_test.size\n",
    "error"
   ]
  },
  {
   "cell_type": "markdown",
   "id": "cb3674fc",
   "metadata": {},
   "source": [
    "# Exercitiu : \n",
    "Aplicati aceeasi clasificatori pentru colectia cu datele de intrare: \"native English\" si \"Summer Semester\"."
   ]
  },
  {
   "cell_type": "code",
   "execution_count": 75,
   "id": "d7897ccd",
   "metadata": {},
   "outputs": [],
   "source": [
    "def print_tree_explained(clf):\n",
    "    n_nodes = clf.tree_.node_count\n",
    "    children_left = clf.tree_.children_left\n",
    "    children_right = clf.tree_.children_right\n",
    "    feature = clf.tree_.feature\n",
    "    threshold = clf.tree_.threshold\n",
    "\n",
    "    node_depth = np.zeros(shape=n_nodes, dtype=np.int64)\n",
    "    is_leaves = np.zeros(shape=n_nodes, dtype=bool)\n",
    "    stack = [(0, 0)]  # start with the root node id (0) and its depth (0)\n",
    "    while len(stack) > 0:\n",
    "        # `pop` ensures each node is only visited once\n",
    "        node_id, depth = stack.pop()\n",
    "        node_depth[node_id] = depth\n",
    "\n",
    "        # If the left and right child of a node is not the same we have a split\n",
    "        # node\n",
    "        is_split_node = children_left[node_id] != children_right[node_id]\n",
    "        # If a split node, append left and right children and depth to `stack`\n",
    "        # so we can loop through them\n",
    "        if is_split_node:\n",
    "            stack.append((children_left[node_id], depth + 1))\n",
    "            stack.append((children_right[node_id], depth + 1))\n",
    "        else:\n",
    "            is_leaves[node_id] = True\n",
    "\n",
    "    print(\n",
    "        \"The binary tree structure has {n} nodes and has \"\n",
    "        \"the following tree structure:\\n\".format(n=n_nodes)\n",
    "    )\n",
    "    for i in range(n_nodes):\n",
    "        if is_leaves[i]:\n",
    "            print(\n",
    "                \"{space}node={node} is a leaf node.\".format(\n",
    "                    space=node_depth[i] * \"\\t\", node=i\n",
    "                )\n",
    "            )\n",
    "        else:\n",
    "            print(\n",
    "                \"{space}node={node} is a split node: \"\n",
    "                \"go to node {left} if X[:, {feature}] <= {threshold} \"\n",
    "                \"else to node {right}.\".format(\n",
    "                    space=node_depth[i] * \"\\t\",\n",
    "                    node=i,\n",
    "                    left=children_left[i],\n",
    "                    feature=feature[i],\n",
    "                    threshold=threshold[i],\n",
    "                    right=children_right[i],\n",
    "                )\n",
    "            )"
   ]
  },
  {
   "cell_type": "code",
   "execution_count": 76,
   "id": "83e3cf1d",
   "metadata": {},
   "outputs": [
    {
     "data": {
      "text/plain": [
       "array([[7, 0, 0],\n",
       "       [6, 3, 3],\n",
       "       [9, 0, 3]], dtype=int64)"
      ]
     },
     "execution_count": 76,
     "metadata": {},
     "output_type": "execute_result"
    }
   ],
   "source": [
    "from sklearn.metrics import confusion_matrix\n",
    "\n",
    "confusion_matrix(y_test, y_pred)"
   ]
  },
  {
   "cell_type": "code",
   "execution_count": 77,
   "id": "b27d61a0",
   "metadata": {},
   "outputs": [
    {
     "data": {
      "image/png": "[encoded data removed]",
      "text/plain": [
       "<Figure size 640x480 with 2 Axes>"
      ]
     },
     "metadata": {},
     "output_type": "display_data"
    }
   ],
   "source": [
    "disp = metrics.ConfusionMatrixDisplay.from_predictions(y_test, y_pred)\n",
    "plt.title(\"Matricea de confuzie\")\n",
    "plt.show()"
   ]
  },
  {
   "cell_type": "code",
   "execution_count": 78,
   "id": "b522de06",
   "metadata": {},
   "outputs": [
    {
     "data": {
      "text/plain": [
       "0.5806451612903226"
      ]
     },
     "execution_count": 78,
     "metadata": {},
     "output_type": "execute_result"
    }
   ],
   "source": [
    "clf = DecisionTreeClassifier(max_leaf_nodes=15, random_state=0)\n",
    "clf.fit(normalized_X_train, y_train)\n",
    "error = (y_pred != y_test).sum()/y_test.size\n",
    "error"
   ]
  },
  {
   "cell_type": "code",
   "execution_count": 79,
   "id": "cacc985f",
   "metadata": {},
   "outputs": [
    {
     "name": "stdout",
     "output_type": "stream",
     "text": [
      "The binary tree structure has 29 nodes and has the following tree structure:\n",
      "\n",
      "node=0 is a split node: go to node 1 if X[:, 1] <= 23.5 else to node 2.\n",
      "\tnode=1 is a split node: go to node 3 if X[:, 3] <= 1.5 else to node 4.\n",
      "\tnode=2 is a leaf node.\n",
      "\t\tnode=3 is a split node: go to node 17 if X[:, 4] <= 10.5 else to node 18.\n",
      "\t\tnode=4 is a split node: go to node 5 if X[:, 2] <= 16.5 else to node 6.\n",
      "\t\t\tnode=5 is a split node: go to node 7 if X[:, 4] <= 18.5 else to node 8.\n",
      "\t\t\tnode=6 is a split node: go to node 9 if X[:, 4] <= 40.5 else to node 10.\n",
      "\t\t\t\tnode=7 is a split node: go to node 15 if X[:, 4] <= 12.5 else to node 16.\n",
      "\t\t\t\tnode=8 is a split node: go to node 11 if X[:, 0] <= 1.5 else to node 12.\n",
      "\t\t\t\tnode=9 is a leaf node.\n",
      "\t\t\t\tnode=10 is a leaf node.\n",
      "\t\t\t\t\tnode=11 is a split node: go to node 13 if X[:, 2] <= 5.0 else to node 14.\n",
      "\t\t\t\t\tnode=12 is a split node: go to node 27 if X[:, 1] <= 1.5 else to node 28.\n",
      "\t\t\t\t\t\tnode=13 is a leaf node.\n",
      "\t\t\t\t\t\tnode=14 is a split node: go to node 21 if X[:, 2] <= 15.5 else to node 22.\n",
      "\t\t\t\t\tnode=15 is a split node: go to node 19 if X[:, 2] <= 5.0 else to node 20.\n",
      "\t\t\t\t\tnode=16 is a leaf node.\n",
      "\t\t\tnode=17 is a leaf node.\n",
      "\t\t\tnode=18 is a split node: go to node 23 if X[:, 2] <= 13.0 else to node 24.\n",
      "\t\t\t\t\t\tnode=19 is a split node: go to node 25 if X[:, 2] <= 1.5 else to node 26.\n",
      "\t\t\t\t\t\tnode=20 is a leaf node.\n",
      "\t\t\t\t\t\t\tnode=21 is a leaf node.\n",
      "\t\t\t\t\t\t\tnode=22 is a leaf node.\n",
      "\t\t\t\tnode=23 is a leaf node.\n",
      "\t\t\t\tnode=24 is a leaf node.\n",
      "\t\t\t\t\t\t\tnode=25 is a leaf node.\n",
      "\t\t\t\t\t\t\tnode=26 is a leaf node.\n",
      "\t\t\t\t\t\tnode=27 is a leaf node.\n",
      "\t\t\t\t\t\tnode=28 is a leaf node.\n"
     ]
    }
   ],
   "source": [
    "n_nodes = clf.tree_.node_count\n",
    "children_left = clf.tree_.children_left\n",
    "children_right = clf.tree_.children_right\n",
    "feature = clf.tree_.feature\n",
    "threshold = clf.tree_.threshold\n",
    "\n",
    "node_depth = np.zeros(shape=n_nodes, dtype=np.int64)\n",
    "is_leaves = np.zeros(shape=n_nodes, dtype=bool)\n",
    "stack = [(0, 0)]  # start with the root node id (0) and its depth (0)\n",
    "while len(stack) > 0:\n",
    "    # `pop` ensures each node is only visited once\n",
    "    node_id, depth = stack.pop()\n",
    "    node_depth[node_id] = depth\n",
    "\n",
    "    # If the left and right child of a node is not the same we have a split\n",
    "    # node\n",
    "    is_split_node = children_left[node_id] != children_right[node_id]\n",
    "    # If a split node, append left and right children and depth to `stack`\n",
    "    # so we can loop through them\n",
    "    if is_split_node:\n",
    "        stack.append((children_left[node_id], depth + 1))\n",
    "        stack.append((children_right[node_id], depth + 1))\n",
    "    else:\n",
    "        is_leaves[node_id] = True\n",
    "\n",
    "print(\n",
    "    \"The binary tree structure has {n} nodes and has \"\n",
    "    \"the following tree structure:\\n\".format(n=n_nodes)\n",
    ")\n",
    "for i in range(n_nodes):\n",
    "    if is_leaves[i]:\n",
    "        print(\n",
    "            \"{space}node={node} is a leaf node.\".format(\n",
    "                space=node_depth[i] * \"\\t\", node=i\n",
    "            )\n",
    "        )\n",
    "    else:\n",
    "        print(\n",
    "            \"{space}node={node} is a split node: \"\n",
    "            \"go to node {left} if X[:, {feature}] <= {threshold} \"\n",
    "            \"else to node {right}.\".format(\n",
    "                space=node_depth[i] * \"\\t\",\n",
    "                node=i,\n",
    "                left=children_left[i],\n",
    "                feature=feature[i],\n",
    "                threshold=threshold[i],\n",
    "                right=children_right[i],\n",
    "            )\n",
    "        )"
   ]
  },
  {
   "cell_type": "code",
   "execution_count": 80,
   "id": "fb3f069f",
   "metadata": {},
   "outputs": [
    {
     "data": {
      "text/plain": [
       "[Text(0.4765625, 0.9375, 'x[1] <= 23.5\\ngini = 0.666\\nsamples = 120\\nvalue = [42, 38, 40]'),\n",
       " Text(0.4140625, 0.8125, 'x[3] <= 1.5\\ngini = 0.663\\nsamples = 115\\nvalue = [42, 33, 40]'),\n",
       " Text(0.125, 0.6875, 'x[4] <= 10.5\\ngini = 0.508\\nsamples = 16\\nvalue = [1, 5, 10]'),\n",
       " Text(0.0625, 0.5625, 'gini = 0.0\\nsamples = 2\\nvalue = [0, 2, 0]'),\n",
       " Text(0.1875, 0.5625, 'x[2] <= 13.0\\ngini = 0.439\\nsamples = 14\\nvalue = [1, 3, 10]'),\n",
       " Text(0.125, 0.4375, 'gini = 0.379\\nsamples = 13\\nvalue = [1, 2, 10]'),\n",
       " Text(0.25, 0.4375, 'gini = 0.0\\nsamples = 1\\nvalue = [0, 1, 0]'),\n",
       " Text(0.703125, 0.6875, 'x[2] <= 16.5\\ngini = 0.657\\nsamples = 99\\nvalue = [41, 28, 30]'),\n",
       " Text(0.53125, 0.5625, 'x[4] <= 18.5\\ngini = 0.631\\nsamples = 80\\nvalue = [39, 20, 21]'),\n",
       " Text(0.375, 0.4375, 'x[4] <= 12.5\\ngini = 0.491\\nsamples = 17\\nvalue = [5, 11, 1]'),\n",
       " Text(0.3125, 0.3125, 'x[2] <= 5.0\\ngini = 0.58\\nsamples = 10\\nvalue = [5, 4, 1]'),\n",
       " Text(0.25, 0.1875, 'x[2] <= 1.5\\ngini = 0.408\\nsamples = 7\\nvalue = [5, 2, 0]'),\n",
       " Text(0.1875, 0.0625, 'gini = 0.0\\nsamples = 1\\nvalue = [0, 1, 0]'),\n",
       " Text(0.3125, 0.0625, 'gini = 0.278\\nsamples = 6\\nvalue = [5, 1, 0]'),\n",
       " Text(0.375, 0.1875, 'gini = 0.444\\nsamples = 3\\nvalue = [0, 2, 1]'),\n",
       " Text(0.4375, 0.3125, 'gini = 0.0\\nsamples = 7\\nvalue = [0, 7, 0]'),\n",
       " Text(0.6875, 0.4375, 'x[0] <= 1.5\\ngini = 0.588\\nsamples = 63\\nvalue = [34, 9, 20]'),\n",
       " Text(0.5625, 0.3125, 'x[2] <= 5.0\\ngini = 0.462\\nsamples = 13\\nvalue = [3, 1, 9]'),\n",
       " Text(0.5, 0.1875, 'gini = 0.18\\nsamples = 10\\nvalue = [1, 0, 9]'),\n",
       " Text(0.625, 0.1875, 'x[2] <= 15.5\\ngini = 0.444\\nsamples = 3\\nvalue = [2, 1, 0]'),\n",
       " Text(0.5625, 0.0625, 'gini = 0.0\\nsamples = 2\\nvalue = [2, 0, 0]'),\n",
       " Text(0.6875, 0.0625, 'gini = 0.0\\nsamples = 1\\nvalue = [0, 1, 0]'),\n",
       " Text(0.8125, 0.3125, 'x[1] <= 1.5\\ngini = 0.542\\nsamples = 50\\nvalue = [31, 8, 11]'),\n",
       " Text(0.75, 0.1875, 'gini = 0.0\\nsamples = 1\\nvalue = [0, 0, 1]'),\n",
       " Text(0.875, 0.1875, 'gini = 0.531\\nsamples = 49\\nvalue = [31, 8, 10]'),\n",
       " Text(0.875, 0.5625, 'x[4] <= 40.5\\ngini = 0.587\\nsamples = 19\\nvalue = [2, 8, 9]'),\n",
       " Text(0.8125, 0.4375, 'gini = 0.473\\nsamples = 13\\nvalue = [2, 2, 9]'),\n",
       " Text(0.9375, 0.4375, 'gini = 0.0\\nsamples = 6\\nvalue = [0, 6, 0]'),\n",
       " Text(0.5390625, 0.8125, 'gini = 0.0\\nsamples = 5\\nvalue = [0, 5, 0]')]"
      ]
     },
     "execution_count": 80,
     "metadata": {},
     "output_type": "execute_result"
    },
    {
     "data": {
      "image/png": "[encoded data removed]",
      "text/plain": [
       "<Figure size 640x480 with 1 Axes>"
      ]
     },
     "metadata": {},
     "output_type": "display_data"
    }
   ],
   "source": [
    "from sklearn import tree\n",
    "tree.plot_tree(clf)"
   ]
  },
  {
   "cell_type": "code",
   "execution_count": null,
   "id": "4169fc7b",
   "metadata": {},
   "outputs": [],
   "source": []
  },
  {
   "cell_type": "code",
   "execution_count": 81,
   "id": "e71002c9",
   "metadata": {},
   "outputs": [],
   "source": [
    "from sklearn.neural_network import MLPClassifier\n",
    "clf = MLPClassifier( alpha=1e-5,\n",
    "           hidden_layer_sizes=(5,), random_state=0)\n"
   ]
  },
  {
   "cell_type": "code",
   "execution_count": 82,
   "id": "19e54fcb",
   "metadata": {},
   "outputs": [
    {
     "data": {
      "text/plain": [
       "0.5806451612903226"
      ]
     },
     "execution_count": 82,
     "metadata": {},
     "output_type": "execute_result"
    }
   ],
   "source": [
    "clf.fit(X_train, y_train)\n",
    "error = (y_pred != y_test).sum()/y_test.size\n",
    "error"
   ]
  },
  {
   "cell_type": "code",
   "execution_count": 83,
   "id": "006c15ef",
   "metadata": {},
   "outputs": [
    {
     "data": {
      "text/html": [
       "<div>\n",
       "<style scoped>\n",
       "    .dataframe tbody tr th:only-of-type {\n",
       "        vertical-align: middle;\n",
       "    }\n",
       "\n",
       "    .dataframe tbody tr th {\n",
       "        vertical-align: top;\n",
       "    }\n",
       "\n",
       "    .dataframe thead th {\n",
       "        text-align: right;\n",
       "    }\n",
       "</style>\n",
       "<table border=\"1\" class=\"dataframe\">\n",
       "  <thead>\n",
       "    <tr style=\"text-align: right;\">\n",
       "      <th></th>\n",
       "      <th>native English</th>\n",
       "      <th>Course instructor</th>\n",
       "      <th>Course</th>\n",
       "      <th>Summer semester</th>\n",
       "      <th>Class size</th>\n",
       "      <th>Class</th>\n",
       "    </tr>\n",
       "  </thead>\n",
       "  <tbody>\n",
       "    <tr>\n",
       "      <th>native English</th>\n",
       "      <td>1.000000</td>\n",
       "      <td>-0.250510</td>\n",
       "      <td>0.134660</td>\n",
       "      <td>0.214417</td>\n",
       "      <td>-0.151547</td>\n",
       "      <td>-0.255466</td>\n",
       "    </tr>\n",
       "    <tr>\n",
       "      <th>Course instructor</th>\n",
       "      <td>-0.250510</td>\n",
       "      <td>1.000000</td>\n",
       "      <td>-0.236010</td>\n",
       "      <td>-0.168573</td>\n",
       "      <td>-0.035765</td>\n",
       "      <td>0.075095</td>\n",
       "    </tr>\n",
       "    <tr>\n",
       "      <th>Course</th>\n",
       "      <td>0.134660</td>\n",
       "      <td>-0.236010</td>\n",
       "      <td>1.000000</td>\n",
       "      <td>0.224927</td>\n",
       "      <td>-0.033485</td>\n",
       "      <td>0.143103</td>\n",
       "    </tr>\n",
       "    <tr>\n",
       "      <th>Summer semester</th>\n",
       "      <td>0.214417</td>\n",
       "      <td>-0.168573</td>\n",
       "      <td>0.224927</td>\n",
       "      <td>1.000000</td>\n",
       "      <td>0.269554</td>\n",
       "      <td>-0.282742</td>\n",
       "    </tr>\n",
       "    <tr>\n",
       "      <th>Class size</th>\n",
       "      <td>-0.151547</td>\n",
       "      <td>-0.035765</td>\n",
       "      <td>-0.033485</td>\n",
       "      <td>0.269554</td>\n",
       "      <td>1.000000</td>\n",
       "      <td>-0.035676</td>\n",
       "    </tr>\n",
       "    <tr>\n",
       "      <th>Class</th>\n",
       "      <td>-0.255466</td>\n",
       "      <td>0.075095</td>\n",
       "      <td>0.143103</td>\n",
       "      <td>-0.282742</td>\n",
       "      <td>-0.035676</td>\n",
       "      <td>1.000000</td>\n",
       "    </tr>\n",
       "  </tbody>\n",
       "</table>\n",
       "</div>"
      ],
      "text/plain": [
       "                   native English  Course instructor    Course  \\\n",
       "native English           1.000000          -0.250510  0.134660   \n",
       "Course instructor       -0.250510           1.000000 -0.236010   \n",
       "Course                   0.134660          -0.236010  1.000000   \n",
       "Summer semester          0.214417          -0.168573  0.224927   \n",
       "Class size              -0.151547          -0.035765 -0.033485   \n",
       "Class                   -0.255466           0.075095  0.143103   \n",
       "\n",
       "                   Summer semester  Class size     Class  \n",
       "native English            0.214417   -0.151547 -0.255466  \n",
       "Course instructor        -0.168573   -0.035765  0.075095  \n",
       "Course                    0.224927   -0.033485  0.143103  \n",
       "Summer semester           1.000000    0.269554 -0.282742  \n",
       "Class size                0.269554    1.000000 -0.035676  \n",
       "Class                    -0.282742   -0.035676  1.000000  "
      ]
     },
     "execution_count": 83,
     "metadata": {},
     "output_type": "execute_result"
    }
   ],
   "source": [
    "df.corr()"
   ]
  },
  {
   "cell_type": "code",
   "execution_count": 84,
   "id": "2b8862a4",
   "metadata": {},
   "outputs": [
    {
     "name": "stdout",
     "output_type": "stream",
     "text": [
      "0    3\n",
      "1    3\n",
      "2    3\n",
      "3    3\n",
      "4    3\n",
      "Name: Class, dtype: int64\n",
      "     native English  Summer semester\n",
      "0                 1                1\n",
      "1                 2                1\n",
      "2                 1                2\n",
      "3                 1                2\n",
      "4                 2                2\n",
      "..              ...              ...\n",
      "146               2                2\n",
      "147               2                2\n",
      "148               1                2\n",
      "149               2                2\n",
      "150               2                2\n",
      "\n",
      "[151 rows x 2 columns]\n"
     ]
    }
   ],
   "source": [
    "X_copy_2 = df[['native English', 'Summer semester']]\n",
    "y_2 = df['Class']\n",
    "print(y_2.head())\n",
    "print(X_copy_2)"
   ]
  },
  {
   "cell_type": "code",
   "execution_count": 85,
   "id": "7472f44b",
   "metadata": {},
   "outputs": [],
   "source": [
    "X_train, X_test, y_train, y_test = train_test_split(X_copy_2, y_2, test_size=0.2, random_state=0)"
   ]
  },
  {
   "cell_type": "code",
   "execution_count": 86,
   "id": "4fd9c5e2",
   "metadata": {},
   "outputs": [],
   "source": [
    "model = CategoricalNB()\n"
   ]
  },
  {
   "cell_type": "code",
   "execution_count": 87,
   "id": "384777a3",
   "metadata": {},
   "outputs": [
    {
     "data": {
      "text/plain": [
       "0.5806451612903226"
      ]
     },
     "execution_count": 87,
     "metadata": {},
     "output_type": "execute_result"
    }
   ],
   "source": [
    "model.fit(X_train, y_train)\n",
    "error = (y_pred != y_test).sum()/y_test.size\n",
    "error"
   ]
  },
  {
   "cell_type": "code",
   "execution_count": 88,
   "id": "9d642e05",
   "metadata": {},
   "outputs": [
    {
     "data": {
      "text/plain": [
       "0.5806451612903226"
      ]
     },
     "execution_count": 88,
     "metadata": {},
     "output_type": "execute_result"
    }
   ],
   "source": [
    "clf = DecisionTreeClassifier(max_leaf_nodes= 3, random_state=0)\n",
    "clf.fit(X_train, y_train)\n",
    "error = (y_pred != y_test).sum()/y_test.size\n",
    "error"
   ]
  },
  {
   "cell_type": "code",
   "execution_count": 89,
   "id": "815185f7",
   "metadata": {},
   "outputs": [
    {
     "data": {
      "image/png": "[encoded data removed]",
      "text/plain": [
       "<Figure size 640x480 with 2 Axes>"
      ]
     },
     "metadata": {},
     "output_type": "display_data"
    }
   ],
   "source": [
    "disp = metrics.ConfusionMatrixDisplay.from_predictions(y_test, y_pred)\n",
    "plt.title(\"Matricea de confuzie\")\n",
    "plt.show()"
   ]
  },
  {
   "cell_type": "code",
   "execution_count": 90,
   "id": "cd03a0b9",
   "metadata": {},
   "outputs": [
    {
     "data": {
      "text/plain": [
       "[Text(0.4, 0.8333333333333334, 'x[0] <= 1.5\\ngini = 0.666\\nsamples = 120\\nvalue = [42, 38, 40]'),\n",
       " Text(0.2, 0.5, 'gini = 0.544\\nsamples = 21\\nvalue = [4, 4, 13]'),\n",
       " Text(0.6, 0.5, 'x[1] <= 1.5\\ngini = 0.66\\nsamples = 99\\nvalue = [38, 34, 27]'),\n",
       " Text(0.4, 0.16666666666666666, 'gini = 0.48\\nsamples = 10\\nvalue = [0, 4, 6]'),\n",
       " Text(0.8, 0.16666666666666666, 'gini = 0.648\\nsamples = 89\\nvalue = [38, 30, 21]')]"
      ]
     },
     "execution_count": 90,
     "metadata": {},
     "output_type": "execute_result"
    },
    {
     "data": {
      "image/png": "[encoded data removed]",
      "text/plain": [
       "<Figure size 640x480 with 1 Axes>"
      ]
     },
     "metadata": {},
     "output_type": "display_data"
    }
   ],
   "source": [
    "from sklearn import tree\n",
    "tree.plot_tree(clf)"
   ]
  },
  {
   "cell_type": "code",
   "execution_count": 91,
   "id": "c0a9ad3a",
   "metadata": {},
   "outputs": [
    {
     "data": {
      "text/plain": [
       "native English  Summer semester\n",
       "1               2                   5\n",
       "                1                   3\n",
       "2               2                  19\n",
       "                1                   4\n",
       "Name: count, dtype: int64"
      ]
     },
     "execution_count": 91,
     "metadata": {},
     "output_type": "execute_result"
    }
   ],
   "source": [
    "X_test.groupby('native English').value_counts()"
   ]
  },
  {
   "cell_type": "code",
   "execution_count": 92,
   "id": "f3ce8d76",
   "metadata": {},
   "outputs": [
    {
     "data": {
      "text/plain": [
       "114    1\n",
       "62     2\n",
       "33     1\n",
       "107    1\n",
       "7      3\n",
       "100    2\n",
       "40     3\n",
       "86     3\n",
       "76     1\n",
       "71     1\n",
       "134    2\n",
       "51     3\n",
       "73     1\n",
       "54     2\n",
       "63     2\n",
       "37     1\n",
       "78     3\n",
       "90     3\n",
       "45     3\n",
       "16     2\n",
       "121    3\n",
       "66     2\n",
       "24     2\n",
       "8      3\n",
       "126    3\n",
       "22     2\n",
       "44     3\n",
       "97     2\n",
       "93     3\n",
       "26     2\n",
       "137    2\n",
       "Name: Class, dtype: int64"
      ]
     },
     "execution_count": 92,
     "metadata": {},
     "output_type": "execute_result"
    }
   ],
   "source": [
    "y_test\n"
   ]
  },
  {
   "cell_type": "code",
   "execution_count": 93,
   "id": "4389c4f9",
   "metadata": {},
   "outputs": [
    {
     "data": {
      "text/plain": [
       "Class  native English  Summer semester\n",
       "1      2               2                  6\n",
       "       1               1                  1\n",
       "2      2               2                  9\n",
       "       1               2                  2\n",
       "       2               1                  1\n",
       "3      2               2                  4\n",
       "       1               2                  3\n",
       "       2               1                  3\n",
       "       1               1                  2\n",
       "Name: count, dtype: int64"
      ]
     },
     "execution_count": 93,
     "metadata": {},
     "output_type": "execute_result"
    }
   ],
   "source": [
    "df3 = pd.concat([X_test, y_test], axis = 1)\n",
    "df3\n",
    "df3.groupby('Class').value_counts()\n"
   ]
  },
  {
   "cell_type": "code",
   "execution_count": 94,
   "id": "44f3701c",
   "metadata": {},
   "outputs": [],
   "source": [
    "#df4 = pd.concat([X_test, y_pred], axis = 1)\n",
    "#df4.groupby('native English').value_counts()\n"
   ]
  },
  {
   "cell_type": "code",
   "execution_count": 95,
   "id": "b200aa38",
   "metadata": {},
   "outputs": [
    {
     "name": "stdout",
     "output_type": "stream",
     "text": [
      "The binary tree structure has 5 nodes and has the following tree structure:\n",
      "\n",
      "node=0 is a split node: go to node 1 if X[:, 0] <= 1.5 else to node 2.\n",
      "\tnode=1 is a leaf node.\n",
      "\tnode=2 is a split node: go to node 3 if X[:, 1] <= 1.5 else to node 4.\n",
      "\t\tnode=3 is a leaf node.\n",
      "\t\tnode=4 is a leaf node.\n"
     ]
    }
   ],
   "source": [
    "print_tree_explained(clf)"
   ]
  },
  {
   "cell_type": "markdown",
   "id": "f4d45d60",
   "metadata": {},
   "source": [
    "### Random Forest"
   ]
  },
  {
   "cell_type": "code",
   "execution_count": 96,
   "id": "41f15c6b",
   "metadata": {},
   "outputs": [],
   "source": [
    "X_train, X_test, y_train, y_test = train_test_split(X_copy, y, test_size=0.2, random_state=0)"
   ]
  },
  {
   "cell_type": "code",
   "execution_count": 97,
   "id": "f20a7d0a",
   "metadata": {},
   "outputs": [
    {
     "data": {
      "text/html": [
       "<div>\n",
       "<style scoped>\n",
       "    .dataframe tbody tr th:only-of-type {\n",
       "        vertical-align: middle;\n",
       "    }\n",
       "\n",
       "    .dataframe tbody tr th {\n",
       "        vertical-align: top;\n",
       "    }\n",
       "\n",
       "    .dataframe thead th {\n",
       "        text-align: right;\n",
       "    }\n",
       "</style>\n",
       "<table border=\"1\" class=\"dataframe\">\n",
       "  <thead>\n",
       "    <tr style=\"text-align: right;\">\n",
       "      <th></th>\n",
       "      <th>native English</th>\n",
       "      <th>Course instructor</th>\n",
       "      <th>Course</th>\n",
       "      <th>Summer semester</th>\n",
       "      <th>Class size</th>\n",
       "    </tr>\n",
       "  </thead>\n",
       "  <tbody>\n",
       "    <tr>\n",
       "      <th>114</th>\n",
       "      <td>2</td>\n",
       "      <td>12</td>\n",
       "      <td>7</td>\n",
       "      <td>2</td>\n",
       "      <td>34</td>\n",
       "    </tr>\n",
       "    <tr>\n",
       "      <th>62</th>\n",
       "      <td>2</td>\n",
       "      <td>1</td>\n",
       "      <td>15</td>\n",
       "      <td>1</td>\n",
       "      <td>22</td>\n",
       "    </tr>\n",
       "    <tr>\n",
       "      <th>33</th>\n",
       "      <td>1</td>\n",
       "      <td>13</td>\n",
       "      <td>3</td>\n",
       "      <td>1</td>\n",
       "      <td>13</td>\n",
       "    </tr>\n",
       "    <tr>\n",
       "      <th>107</th>\n",
       "      <td>2</td>\n",
       "      <td>20</td>\n",
       "      <td>2</td>\n",
       "      <td>2</td>\n",
       "      <td>14</td>\n",
       "    </tr>\n",
       "    <tr>\n",
       "      <th>7</th>\n",
       "      <td>2</td>\n",
       "      <td>10</td>\n",
       "      <td>3</td>\n",
       "      <td>2</td>\n",
       "      <td>27</td>\n",
       "    </tr>\n",
       "    <tr>\n",
       "      <th>100</th>\n",
       "      <td>1</td>\n",
       "      <td>6</td>\n",
       "      <td>17</td>\n",
       "      <td>2</td>\n",
       "      <td>35</td>\n",
       "    </tr>\n",
       "    <tr>\n",
       "      <th>40</th>\n",
       "      <td>2</td>\n",
       "      <td>15</td>\n",
       "      <td>3</td>\n",
       "      <td>1</td>\n",
       "      <td>17</td>\n",
       "    </tr>\n",
       "    <tr>\n",
       "      <th>86</th>\n",
       "      <td>2</td>\n",
       "      <td>23</td>\n",
       "      <td>3</td>\n",
       "      <td>1</td>\n",
       "      <td>20</td>\n",
       "    </tr>\n",
       "    <tr>\n",
       "      <th>76</th>\n",
       "      <td>2</td>\n",
       "      <td>5</td>\n",
       "      <td>2</td>\n",
       "      <td>2</td>\n",
       "      <td>48</td>\n",
       "    </tr>\n",
       "    <tr>\n",
       "      <th>71</th>\n",
       "      <td>2</td>\n",
       "      <td>13</td>\n",
       "      <td>1</td>\n",
       "      <td>2</td>\n",
       "      <td>31</td>\n",
       "    </tr>\n",
       "    <tr>\n",
       "      <th>134</th>\n",
       "      <td>2</td>\n",
       "      <td>9</td>\n",
       "      <td>24</td>\n",
       "      <td>2</td>\n",
       "      <td>20</td>\n",
       "    </tr>\n",
       "    <tr>\n",
       "      <th>51</th>\n",
       "      <td>2</td>\n",
       "      <td>18</td>\n",
       "      <td>21</td>\n",
       "      <td>2</td>\n",
       "      <td>29</td>\n",
       "    </tr>\n",
       "    <tr>\n",
       "      <th>73</th>\n",
       "      <td>2</td>\n",
       "      <td>5</td>\n",
       "      <td>2</td>\n",
       "      <td>2</td>\n",
       "      <td>37</td>\n",
       "    </tr>\n",
       "    <tr>\n",
       "      <th>54</th>\n",
       "      <td>2</td>\n",
       "      <td>6</td>\n",
       "      <td>17</td>\n",
       "      <td>2</td>\n",
       "      <td>43</td>\n",
       "    </tr>\n",
       "    <tr>\n",
       "      <th>63</th>\n",
       "      <td>2</td>\n",
       "      <td>15</td>\n",
       "      <td>13</td>\n",
       "      <td>2</td>\n",
       "      <td>37</td>\n",
       "    </tr>\n",
       "    <tr>\n",
       "      <th>37</th>\n",
       "      <td>2</td>\n",
       "      <td>5</td>\n",
       "      <td>2</td>\n",
       "      <td>2</td>\n",
       "      <td>48</td>\n",
       "    </tr>\n",
       "    <tr>\n",
       "      <th>78</th>\n",
       "      <td>1</td>\n",
       "      <td>23</td>\n",
       "      <td>3</td>\n",
       "      <td>1</td>\n",
       "      <td>25</td>\n",
       "    </tr>\n",
       "    <tr>\n",
       "      <th>90</th>\n",
       "      <td>1</td>\n",
       "      <td>17</td>\n",
       "      <td>17</td>\n",
       "      <td>2</td>\n",
       "      <td>19</td>\n",
       "    </tr>\n",
       "    <tr>\n",
       "      <th>45</th>\n",
       "      <td>2</td>\n",
       "      <td>9</td>\n",
       "      <td>5</td>\n",
       "      <td>2</td>\n",
       "      <td>19</td>\n",
       "    </tr>\n",
       "    <tr>\n",
       "      <th>16</th>\n",
       "      <td>2</td>\n",
       "      <td>7</td>\n",
       "      <td>11</td>\n",
       "      <td>2</td>\n",
       "      <td>10</td>\n",
       "    </tr>\n",
       "    <tr>\n",
       "      <th>121</th>\n",
       "      <td>2</td>\n",
       "      <td>13</td>\n",
       "      <td>14</td>\n",
       "      <td>2</td>\n",
       "      <td>17</td>\n",
       "    </tr>\n",
       "    <tr>\n",
       "      <th>66</th>\n",
       "      <td>2</td>\n",
       "      <td>14</td>\n",
       "      <td>15</td>\n",
       "      <td>2</td>\n",
       "      <td>38</td>\n",
       "    </tr>\n",
       "    <tr>\n",
       "      <th>24</th>\n",
       "      <td>2</td>\n",
       "      <td>15</td>\n",
       "      <td>13</td>\n",
       "      <td>2</td>\n",
       "      <td>37</td>\n",
       "    </tr>\n",
       "    <tr>\n",
       "      <th>8</th>\n",
       "      <td>1</td>\n",
       "      <td>22</td>\n",
       "      <td>3</td>\n",
       "      <td>1</td>\n",
       "      <td>58</td>\n",
       "    </tr>\n",
       "    <tr>\n",
       "      <th>126</th>\n",
       "      <td>1</td>\n",
       "      <td>8</td>\n",
       "      <td>3</td>\n",
       "      <td>2</td>\n",
       "      <td>29</td>\n",
       "    </tr>\n",
       "    <tr>\n",
       "      <th>22</th>\n",
       "      <td>2</td>\n",
       "      <td>2</td>\n",
       "      <td>9</td>\n",
       "      <td>2</td>\n",
       "      <td>31</td>\n",
       "    </tr>\n",
       "    <tr>\n",
       "      <th>44</th>\n",
       "      <td>2</td>\n",
       "      <td>23</td>\n",
       "      <td>3</td>\n",
       "      <td>1</td>\n",
       "      <td>20</td>\n",
       "    </tr>\n",
       "    <tr>\n",
       "      <th>97</th>\n",
       "      <td>1</td>\n",
       "      <td>22</td>\n",
       "      <td>13</td>\n",
       "      <td>2</td>\n",
       "      <td>27</td>\n",
       "    </tr>\n",
       "    <tr>\n",
       "      <th>93</th>\n",
       "      <td>1</td>\n",
       "      <td>17</td>\n",
       "      <td>17</td>\n",
       "      <td>2</td>\n",
       "      <td>31</td>\n",
       "    </tr>\n",
       "    <tr>\n",
       "      <th>26</th>\n",
       "      <td>2</td>\n",
       "      <td>8</td>\n",
       "      <td>3</td>\n",
       "      <td>2</td>\n",
       "      <td>24</td>\n",
       "    </tr>\n",
       "    <tr>\n",
       "      <th>137</th>\n",
       "      <td>2</td>\n",
       "      <td>22</td>\n",
       "      <td>1</td>\n",
       "      <td>2</td>\n",
       "      <td>42</td>\n",
       "    </tr>\n",
       "  </tbody>\n",
       "</table>\n",
       "</div>"
      ],
      "text/plain": [
       "     native English  Course instructor  Course  Summer semester  Class size\n",
       "114               2                 12       7                2          34\n",
       "62                2                  1      15                1          22\n",
       "33                1                 13       3                1          13\n",
       "107               2                 20       2                2          14\n",
       "7                 2                 10       3                2          27\n",
       "100               1                  6      17                2          35\n",
       "40                2                 15       3                1          17\n",
       "86                2                 23       3                1          20\n",
       "76                2                  5       2                2          48\n",
       "71                2                 13       1                2          31\n",
       "134               2                  9      24                2          20\n",
       "51                2                 18      21                2          29\n",
       "73                2                  5       2                2          37\n",
       "54                2                  6      17                2          43\n",
       "63                2                 15      13                2          37\n",
       "37                2                  5       2                2          48\n",
       "78                1                 23       3                1          25\n",
       "90                1                 17      17                2          19\n",
       "45                2                  9       5                2          19\n",
       "16                2                  7      11                2          10\n",
       "121               2                 13      14                2          17\n",
       "66                2                 14      15                2          38\n",
       "24                2                 15      13                2          37\n",
       "8                 1                 22       3                1          58\n",
       "126               1                  8       3                2          29\n",
       "22                2                  2       9                2          31\n",
       "44                2                 23       3                1          20\n",
       "97                1                 22      13                2          27\n",
       "93                1                 17      17                2          31\n",
       "26                2                  8       3                2          24\n",
       "137               2                 22       1                2          42"
      ]
     },
     "execution_count": 97,
     "metadata": {},
     "output_type": "execute_result"
    }
   ],
   "source": [
    "from sklearn.ensemble import RandomForestClassifier\n",
    "\n",
    "model = RandomForestClassifier(random_state=0)\n",
    "model.fit(X_train, y_train)\n",
    "y_pred =  model.predict(X_test)\n",
    "error = (y_pred != y_test).sum()/y_test.size\n",
    "error\n",
    "X_test"
   ]
  },
  {
   "cell_type": "code",
   "execution_count": 98,
   "id": "af740757",
   "metadata": {},
   "outputs": [
    {
     "data": {
      "text/plain": [
       "array([3], dtype=int64)"
      ]
     },
     "execution_count": 98,
     "metadata": {},
     "output_type": "execute_result"
    }
   ],
   "source": [
    "exemplu_nou = [1, 12, 3, 1,25]\n",
    "model.predict([[1, 12, 3, 1,25]])"
   ]
  },
  {
   "cell_type": "markdown",
   "id": "ea5ca5a5",
   "metadata": {},
   "source": [
    "### Support Vector Machine"
   ]
  },
  {
   "cell_type": "code",
   "execution_count": null,
   "id": "0ac3cc26",
   "metadata": {},
   "outputs": [],
   "source": []
  },
  {
   "cell_type": "code",
   "execution_count": 99,
   "id": "a1764238",
   "metadata": {},
   "outputs": [
    {
     "data": {
      "text/plain": [
       "0.5161290322580645"
      ]
     },
     "execution_count": 99,
     "metadata": {},
     "output_type": "execute_result"
    }
   ],
   "source": [
    "X_train, X_test, y_train, y_test = train_test_split(X_copy, y, test_size=0.2, random_state=0)\n",
    "\n",
    "model = svm.LinearSVC(random_state=0)\n",
    "model.fit(X_train,y_train)\n",
    "y_pred = model.predict(X_test)\n",
    "\n",
    "error = (y_pred != y_test).sum()/y_test.size\n",
    "error"
   ]
  },
  {
   "cell_type": "code",
   "execution_count": 100,
   "id": "775553a8",
   "metadata": {},
   "outputs": [
    {
     "data": {
      "text/plain": [
       "0.41935483870967744"
      ]
     },
     "execution_count": 100,
     "metadata": {},
     "output_type": "execute_result"
    }
   ],
   "source": [
    "from sklearn.svm import SVC\n",
    "\n",
    "model = SVC(kernel='linear', random_state = 0)\n",
    " \n",
    "model.fit(X_train,y_train)\n",
    "y_pred = model.predict(X_test)\n",
    "\n",
    "error = (y_pred != y_test).sum()/y_test.size\n",
    "error"
   ]
  },
  {
   "cell_type": "code",
   "execution_count": null,
   "id": "dd212daa",
   "metadata": {},
   "outputs": [],
   "source": [
    "from sklearn.linear_model import LogisticRegression\n",
    "from sklearn.model_selection import train_test_split\n",
    "X_train, X_test, y_train, y_test = train_test_split(X_copy, y, test_size=0.2, random_state=0)\n",
    "model = LogisticRegression( random_state = 0)\n",
    " \n",
    "model.fit(X_train,y_train)\n",
    "y_pred = model.predict(X_test)\n",
    "\n",
    "error = (y_pred != y_test).sum()/y_test.size\n",
    "error"
   ]
  },
  {
   "cell_type": "code",
   "execution_count": null,
   "id": "30b27455",
   "metadata": {},
   "outputs": [],
   "source": []
  },
  {
   "cell_type": "code",
   "execution_count": null,
   "id": "d1e4906a",
   "metadata": {},
   "outputs": [],
   "source": []
  }
 ],
 "metadata": {
  "kernelspec": {
   "display_name": "Python 3 (ipykernel)",
   "language": "python",
   "name": "python3"
  },
  "language_info": {
   "codemirror_mode": {
    "name": "ipython",
    "version": 3
   },
   "file_extension": ".py",
   "mimetype": "text/x-python",
   "name": "python",
   "nbconvert_exporter": "python",
   "pygments_lexer": "ipython3",
   "version": "3.11.5"
  }
 },
 "nbformat": 4,
 "nbformat_minor": 5
}
